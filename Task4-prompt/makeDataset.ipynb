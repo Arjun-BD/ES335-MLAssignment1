{
 "cells": [
  {
   "cell_type": "code",
   "execution_count": 7,
   "metadata": {},
   "outputs": [],
   "source": [
    "import os\n",
    "import shutil"
   ]
  },
  {
   "cell_type": "code",
   "execution_count": 8,
   "metadata": {},
   "outputs": [],
   "source": [
    "for file in os.listdir(\"ProcessedData/\"):\n",
    "    if file.endswith(\".csv\"):\n",
    "        if \"laying\" in file or 'Laying' in file:\n",
    "            shutil.copyfile(\"ProcessedData/\"+file, \"ProcessedData/LAYING/\"+file)\n",
    "        elif \"sitting\" in file or 'Sitting' in file:\n",
    "            shutil.copyfile(\"ProcessedData/\"+file, \"ProcessedData/SITTING/\"+file)\n",
    "        elif \"standing\" in file or 'Standing' in file:\n",
    "            shutil.copyfile(\"ProcessedData/\"+file, \"ProcessedData/STANDING/\"+file)\n",
    "        elif \"walking_upstairs\" in file or 'Walking_Upstairs' in file or \"Walking_upstairs\" in file or \"walking_Upstairs\" in file:\n",
    "            shutil.copyfile(\"ProcessedData/\"+file, \"ProcessedData/WALKING_UPSTAIRS/\"+file)\n",
    "        elif \"walking_downstairs\" in file or 'Walking_Downstairs' in file or \"Walking_downstairs\" in file or \"walking_Downstairs\" in file:\n",
    "            shutil.copyfile(\"ProcessedData/\"+file, \"ProcessedData/WALKING_DOWNSTAIRS/\"+file)\n",
    "        else:\n",
    "            shutil.copyfile(\"ProcessedData/\"+file, \"ProcessedData/WALKING/\"+file)"
   ]
  }
 ],
 "metadata": {
  "kernelspec": {
   "display_name": "Python 3",
   "language": "python",
   "name": "python3"
  },
  "language_info": {
   "codemirror_mode": {
    "name": "ipython",
    "version": 3
   },
   "file_extension": ".py",
   "mimetype": "text/x-python",
   "name": "python",
   "nbconvert_exporter": "python",
   "pygments_lexer": "ipython3",
   "version": "3.12.1"
  }
 },
 "nbformat": 4,
 "nbformat_minor": 2
}

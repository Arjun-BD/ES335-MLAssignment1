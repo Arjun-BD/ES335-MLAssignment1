{
 "cells": [
  {
   "cell_type": "code",
   "execution_count": 1,
   "metadata": {},
   "outputs": [],
   "source": [
    "import pandas as pd \n",
    "#%pip install langchain_groq\n",
    "from langchain_groq.chat_models import ChatGroq\n",
    "import pandas as pd\n",
    "import numpy as np\n",
    "from itertools import product\n",
    "from sklearn import tree\n",
    "from sklearn.metrics import accuracy_score, precision_score, confusion_matrix, recall_score\n",
    "import ast\n",
    "import time\n",
    "import matplotlib.pyplot as plt\n",
    "import tsfel"
   ]
  },
  {
   "cell_type": "code",
   "execution_count": 2,
   "metadata": {},
   "outputs": [],
   "source": [
    "# Groq API and Models \n",
    "Groq_Token = open('..\\\\groqapi.txt', 'r').read().split(\"\\n\")[0]  # Do not share this key with anyone\n",
    "groq_models = {\"llama3-70b\": \"llama3-70b-8192\", \"mixtral\": \"mixtral-8x7b-32768\", \"gemma-7b\": \"gemma-7b-it\",\"llama3.1-70b\":\"llama-3.1-70b-versatile\",\"llama3-8b\":\"llama3-8b-8192\",\"llama3.1-8b\":\"llama-3.1-8b-instant\",\"gemma-9b\":\"gemma2-9b-it\"}"
   ]
  },
  {
   "cell_type": "markdown",
   "metadata": {},
   "source": [
    "Let us load the UCI HAR Data"
   ]
  },
  {
   "cell_type": "code",
   "execution_count": 3,
   "metadata": {},
   "outputs": [],
   "source": [
    "x_train = np.load(\"..\\\\X_train.npy\")\n",
    "y_train = np.load(\"..\\\\Y_train.npy\")\n"
   ]
  },
  {
   "cell_type": "code",
   "execution_count": 4,
   "metadata": {},
   "outputs": [
    {
     "name": "stdout",
     "output_type": "stream",
     "text": [
      "(126, 500, 3)\n",
      "(126,)\n"
     ]
    }
   ],
   "source": [
    "print(x_train.shape)\n",
    "print(y_train.shape)"
   ]
  },
  {
   "cell_type": "code",
   "execution_count": null,
   "metadata": {},
   "outputs": [],
   "source": [
    "cfg = tsfel.get_features_by_domain()\n",
    "feature_df = tsfel.time_series_features_extractor(cfg, x_train, verbose = 0, fs = 50)\n",
    "feature_df_test = tsfel.time_series_features_extractor(cfg, x_test, verbose = 0, fs = 50)"
   ]
  },
  {
   "cell_type": "code",
   "execution_count": 7,
   "metadata": {},
   "outputs": [],
   "source": [
    "def makedataset(X, y):\n",
    "    activity_dic = {1: \"WALKING\", 2: \"WALKING_UPSTAIRS\", 3: \"WALKING_DOWNSTAIRS\", 4: \"SITTING\", 5: \"STANDING\", 6: \"LAYING\"}\n",
    "    flat_x = X.reshape(-1, 3)\n",
    "    flat_y = np.repeat(y, 500)\n",
    "    #print(flat_y)\n",
    "    replaced_y = [activity_dic[i] for i in flat_y]\n",
    "    df = pd.DataFrame({\"activity\": replaced_y, \"accx\": flat_x[:, 0], \"accy\": flat_x[:, 1], \"accz\": flat_x[:, 2]})\n",
    "    df['acc_mag_diff'] = ((df['accx']**2+df['accy']**2+df['accz']**2)-1.08)**2\n",
    "    return df  "
   ]
  },
  {
   "cell_type": "code",
   "execution_count": 8,
   "metadata": {},
   "outputs": [],
   "source": [
    "train_df = makedataset(x_train, y_train)\n",
    "test_df = makedataset(x_test, y_test)"
   ]
  },
  {
   "cell_type": "code",
   "execution_count": 9,
   "metadata": {},
   "outputs": [
    {
     "data": {
      "text/html": [
       "<div>\n",
       "<style scoped>\n",
       "    .dataframe tbody tr th:only-of-type {\n",
       "        vertical-align: middle;\n",
       "    }\n",
       "\n",
       "    .dataframe tbody tr th {\n",
       "        vertical-align: top;\n",
       "    }\n",
       "\n",
       "    .dataframe thead th {\n",
       "        text-align: right;\n",
       "    }\n",
       "</style>\n",
       "<table border=\"1\" class=\"dataframe\">\n",
       "  <thead>\n",
       "    <tr style=\"text-align: right;\">\n",
       "      <th></th>\n",
       "      <th>activity</th>\n",
       "      <th>accx</th>\n",
       "      <th>accy</th>\n",
       "      <th>accz</th>\n",
       "      <th>acc_mag_diff</th>\n",
       "    </tr>\n",
       "  </thead>\n",
       "  <tbody>\n",
       "    <tr>\n",
       "      <th>0</th>\n",
       "      <td>WALKING_UPSTAIRS</td>\n",
       "      <td>1.196480</td>\n",
       "      <td>-0.160690</td>\n",
       "      <td>-0.740178</td>\n",
       "      <td>0.856086</td>\n",
       "    </tr>\n",
       "    <tr>\n",
       "      <th>1</th>\n",
       "      <td>WALKING_UPSTAIRS</td>\n",
       "      <td>1.222030</td>\n",
       "      <td>-0.267295</td>\n",
       "      <td>-0.771748</td>\n",
       "      <td>1.167264</td>\n",
       "    </tr>\n",
       "    <tr>\n",
       "      <th>2</th>\n",
       "      <td>WALKING_UPSTAIRS</td>\n",
       "      <td>1.223110</td>\n",
       "      <td>-0.433863</td>\n",
       "      <td>-0.767842</td>\n",
       "      <td>1.425199</td>\n",
       "    </tr>\n",
       "    <tr>\n",
       "      <th>3</th>\n",
       "      <td>WALKING_UPSTAIRS</td>\n",
       "      <td>1.119198</td>\n",
       "      <td>-0.533790</td>\n",
       "      <td>-0.756309</td>\n",
       "      <td>1.059952</td>\n",
       "    </tr>\n",
       "    <tr>\n",
       "      <th>4</th>\n",
       "      <td>WALKING_UPSTAIRS</td>\n",
       "      <td>0.915843</td>\n",
       "      <td>-0.496126</td>\n",
       "      <td>-0.629135</td>\n",
       "      <td>0.160576</td>\n",
       "    </tr>\n",
       "    <tr>\n",
       "      <th>...</th>\n",
       "      <td>...</td>\n",
       "      <td>...</td>\n",
       "      <td>...</td>\n",
       "      <td>...</td>\n",
       "      <td>...</td>\n",
       "    </tr>\n",
       "    <tr>\n",
       "      <th>62995</th>\n",
       "      <td>WALKING_UPSTAIRS</td>\n",
       "      <td>0.834664</td>\n",
       "      <td>-0.084789</td>\n",
       "      <td>-0.402108</td>\n",
       "      <td>0.045991</td>\n",
       "    </tr>\n",
       "    <tr>\n",
       "      <th>62996</th>\n",
       "      <td>WALKING_UPSTAIRS</td>\n",
       "      <td>0.741997</td>\n",
       "      <td>-0.107038</td>\n",
       "      <td>-0.368874</td>\n",
       "      <td>0.145860</td>\n",
       "    </tr>\n",
       "    <tr>\n",
       "      <th>62997</th>\n",
       "      <td>WALKING_UPSTAIRS</td>\n",
       "      <td>0.652846</td>\n",
       "      <td>-0.106747</td>\n",
       "      <td>-0.345863</td>\n",
       "      <td>0.273294</td>\n",
       "    </tr>\n",
       "    <tr>\n",
       "      <th>62998</th>\n",
       "      <td>WALKING_UPSTAIRS</td>\n",
       "      <td>0.640395</td>\n",
       "      <td>-0.106293</td>\n",
       "      <td>-0.339603</td>\n",
       "      <td>0.295137</td>\n",
       "    </tr>\n",
       "    <tr>\n",
       "      <th>62999</th>\n",
       "      <td>WALKING_UPSTAIRS</td>\n",
       "      <td>0.635090</td>\n",
       "      <td>-0.096517</td>\n",
       "      <td>-0.327336</td>\n",
       "      <td>0.313820</td>\n",
       "    </tr>\n",
       "  </tbody>\n",
       "</table>\n",
       "<p>63000 rows × 5 columns</p>\n",
       "</div>"
      ],
      "text/plain": [
       "               activity      accx      accy      accz  acc_mag_diff\n",
       "0      WALKING_UPSTAIRS  1.196480 -0.160690 -0.740178      0.856086\n",
       "1      WALKING_UPSTAIRS  1.222030 -0.267295 -0.771748      1.167264\n",
       "2      WALKING_UPSTAIRS  1.223110 -0.433863 -0.767842      1.425199\n",
       "3      WALKING_UPSTAIRS  1.119198 -0.533790 -0.756309      1.059952\n",
       "4      WALKING_UPSTAIRS  0.915843 -0.496126 -0.629135      0.160576\n",
       "...                 ...       ...       ...       ...           ...\n",
       "62995  WALKING_UPSTAIRS  0.834664 -0.084789 -0.402108      0.045991\n",
       "62996  WALKING_UPSTAIRS  0.741997 -0.107038 -0.368874      0.145860\n",
       "62997  WALKING_UPSTAIRS  0.652846 -0.106747 -0.345863      0.273294\n",
       "62998  WALKING_UPSTAIRS  0.640395 -0.106293 -0.339603      0.295137\n",
       "62999  WALKING_UPSTAIRS  0.635090 -0.096517 -0.327336      0.313820\n",
       "\n",
       "[63000 rows x 5 columns]"
      ]
     },
     "metadata": {},
     "output_type": "display_data"
    }
   ],
   "source": []
  }
 ],
 "metadata": {
  "kernelspec": {
   "display_name": "Python 3",
   "language": "python",
   "name": "python3"
  },
  "language_info": {
   "codemirror_mode": {
    "name": "ipython",
    "version": 3
   },
   "file_extension": ".py",
   "mimetype": "text/x-python",
   "name": "python",
   "nbconvert_exporter": "python",
   "pygments_lexer": "ipython3",
   "version": "3.12.1"
  }
 },
 "nbformat": 4,
 "nbformat_minor": 2
}

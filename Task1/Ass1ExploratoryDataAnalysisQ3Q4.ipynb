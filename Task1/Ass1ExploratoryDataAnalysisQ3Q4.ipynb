{
 "cells": [
  {
   "cell_type": "code",
   "execution_count": 19,
   "metadata": {},
   "outputs": [
    {
     "name": "stdout",
     "output_type": "stream",
     "text": [
      "Requirement already satisfied: tsfel in c:\\users\\skabh\\appdata\\local\\programs\\python\\python312\\lib\\site-packages (0.1.7)"
     ]
    },
    {
     "name": "stderr",
     "output_type": "stream",
     "text": [
      "\n",
      "[notice] A new release of pip is available: 24.0 -> 24.2\n",
      "[notice] To update, run: python.exe -m pip install --upgrade pip\n"
     ]
    },
    {
     "name": "stdout",
     "output_type": "stream",
     "text": [
      "\n",
      "Requirement already satisfied: ipython>=7.4.0 in c:\\users\\skabh\\appdata\\local\\programs\\python\\python312\\lib\\site-packages (from tsfel) (8.26.0)\n",
      "Requirement already satisfied: numpy>=1.18.5 in c:\\users\\skabh\\appdata\\local\\programs\\python\\python312\\lib\\site-packages (from tsfel) (1.26.3)\n",
      "Requirement already satisfied: pandas>=1.5.3 in c:\\users\\skabh\\appdata\\local\\programs\\python\\python312\\lib\\site-packages (from tsfel) (2.1.4)\n",
      "Requirement already satisfied: scikit-learn>=0.21.3 in c:\\users\\skabh\\appdata\\local\\programs\\python\\python312\\lib\\site-packages (from tsfel) (1.5.1)\n",
      "Requirement already satisfied: scipy>=1.7.3 in c:\\users\\skabh\\appdata\\local\\programs\\python\\python312\\lib\\site-packages (from tsfel) (1.13.0)\n",
      "Requirement already satisfied: setuptools>=47.1.1 in c:\\users\\skabh\\appdata\\local\\programs\\python\\python312\\lib\\site-packages (from tsfel) (71.1.0)\n",
      "Requirement already satisfied: statsmodels>=0.12.0 in c:\\users\\skabh\\appdata\\local\\programs\\python\\python312\\lib\\site-packages (from tsfel) (0.14.2)\n",
      "Requirement already satisfied: decorator in c:\\users\\skabh\\appdata\\local\\programs\\python\\python312\\lib\\site-packages (from ipython>=7.4.0->tsfel) (5.1.1)\n",
      "Requirement already satisfied: jedi>=0.16 in c:\\users\\skabh\\appdata\\local\\programs\\python\\python312\\lib\\site-packages (from ipython>=7.4.0->tsfel) (0.19.1)\n",
      "Requirement already satisfied: matplotlib-inline in c:\\users\\skabh\\appdata\\local\\programs\\python\\python312\\lib\\site-packages (from ipython>=7.4.0->tsfel) (0.1.7)\n",
      "Requirement already satisfied: prompt-toolkit<3.1.0,>=3.0.41 in c:\\users\\skabh\\appdata\\local\\programs\\python\\python312\\lib\\site-packages (from ipython>=7.4.0->tsfel) (3.0.47)\n",
      "Requirement already satisfied: pygments>=2.4.0 in c:\\users\\skabh\\appdata\\local\\programs\\python\\python312\\lib\\site-packages (from ipython>=7.4.0->tsfel) (2.18.0)\n",
      "Requirement already satisfied: stack-data in c:\\users\\skabh\\appdata\\local\\programs\\python\\python312\\lib\\site-packages (from ipython>=7.4.0->tsfel) (0.6.3)\n",
      "Requirement already satisfied: traitlets>=5.13.0 in c:\\users\\skabh\\appdata\\local\\programs\\python\\python312\\lib\\site-packages (from ipython>=7.4.0->tsfel) (5.14.3)\n",
      "Requirement already satisfied: colorama in c:\\users\\skabh\\appdata\\local\\programs\\python\\python312\\lib\\site-packages (from ipython>=7.4.0->tsfel) (0.4.6)\n",
      "Requirement already satisfied: python-dateutil>=2.8.2 in c:\\users\\skabh\\appdata\\local\\programs\\python\\python312\\lib\\site-packages (from pandas>=1.5.3->tsfel) (2.8.2)\n",
      "Requirement already satisfied: pytz>=2020.1 in c:\\users\\skabh\\appdata\\local\\programs\\python\\python312\\lib\\site-packages (from pandas>=1.5.3->tsfel) (2023.3.post1)\n",
      "Requirement already satisfied: tzdata>=2022.1 in c:\\users\\skabh\\appdata\\local\\programs\\python\\python312\\lib\\site-packages (from pandas>=1.5.3->tsfel) (2023.4)\n",
      "Requirement already satisfied: joblib>=1.2.0 in c:\\users\\skabh\\appdata\\local\\programs\\python\\python312\\lib\\site-packages (from scikit-learn>=0.21.3->tsfel) (1.4.2)\n",
      "Requirement already satisfied: threadpoolctl>=3.1.0 in c:\\users\\skabh\\appdata\\local\\programs\\python\\python312\\lib\\site-packages (from scikit-learn>=0.21.3->tsfel) (3.5.0)\n",
      "Requirement already satisfied: patsy>=0.5.6 in c:\\users\\skabh\\appdata\\local\\programs\\python\\python312\\lib\\site-packages (from statsmodels>=0.12.0->tsfel) (0.5.6)\n",
      "Requirement already satisfied: packaging>=21.3 in c:\\users\\skabh\\appdata\\local\\programs\\python\\python312\\lib\\site-packages (from statsmodels>=0.12.0->tsfel) (23.2)\n",
      "Requirement already satisfied: parso<0.9.0,>=0.8.3 in c:\\users\\skabh\\appdata\\local\\programs\\python\\python312\\lib\\site-packages (from jedi>=0.16->ipython>=7.4.0->tsfel) (0.8.4)\n",
      "Requirement already satisfied: six in c:\\users\\skabh\\appdata\\local\\programs\\python\\python312\\lib\\site-packages (from patsy>=0.5.6->statsmodels>=0.12.0->tsfel) (1.16.0)\n",
      "Requirement already satisfied: wcwidth in c:\\users\\skabh\\appdata\\local\\programs\\python\\python312\\lib\\site-packages (from prompt-toolkit<3.1.0,>=3.0.41->ipython>=7.4.0->tsfel) (0.2.13)\n",
      "Requirement already satisfied: executing>=1.2.0 in c:\\users\\skabh\\appdata\\local\\programs\\python\\python312\\lib\\site-packages (from stack-data->ipython>=7.4.0->tsfel) (2.0.1)\n",
      "Requirement already satisfied: asttokens>=2.1.0 in c:\\users\\skabh\\appdata\\local\\programs\\python\\python312\\lib\\site-packages (from stack-data->ipython>=7.4.0->tsfel) (2.4.1)\n",
      "Requirement already satisfied: pure-eval in c:\\users\\skabh\\appdata\\local\\programs\\python\\python312\\lib\\site-packages (from stack-data->ipython>=7.4.0->tsfel) (0.2.3)\n"
     ]
    }
   ],
   "source": [
    "!pip install tsfel\n",
    "import pandas as pd\n",
    "import numpy as np\n",
    "from sklearn.decomposition import PCA\n",
    "from sklearn.preprocessing import StandardScaler\n",
    "import matplotlib.pyplot as plt\n",
    "import tsfel\n",
    "%matplotlib inline\n",
    "import os\n",
    "from itertools import product"
   ]
  },
  {
   "cell_type": "code",
   "execution_count": 20,
   "metadata": {},
   "outputs": [],
   "source": [
    "combined_dir = os.path.join(os.path.pardir, r\"Combined\")\n",
    "folders = [\"LAYING\",\"SITTING\",\"STANDING\",\"WALKING\",\"WALKING_DOWNSTAIRS\",\"WALKING_UPSTAIRS\"]\n",
    "classes = {\"WALKING\":1,\"WALKING_UPSTAIRS\":2,\"WALKING_DOWNSTAIRS\":3,\"SITTING\":4,\"STANDING\":5,\"LAYING\":6}\n",
    "dataset_dir = os.path.join(combined_dir,r\"Train\")\n",
    "time = 10\n",
    "offset = 100"
   ]
  },
  {
   "cell_type": "code",
   "execution_count": 21,
   "metadata": {},
   "outputs": [
    {
     "data": {
      "text/html": [
       "<div>\n",
       "<style scoped>\n",
       "    .dataframe tbody tr th:only-of-type {\n",
       "        vertical-align: middle;\n",
       "    }\n",
       "\n",
       "    .dataframe tbody tr th {\n",
       "        vertical-align: top;\n",
       "    }\n",
       "\n",
       "    .dataframe thead th {\n",
       "        text-align: right;\n",
       "    }\n",
       "</style>\n",
       "<table border=\"1\" class=\"dataframe\">\n",
       "  <thead>\n",
       "    <tr style=\"text-align: right;\">\n",
       "      <th></th>\n",
       "      <th>0</th>\n",
       "      <th>1</th>\n",
       "      <th>2</th>\n",
       "      <th>3</th>\n",
       "      <th>4</th>\n",
       "      <th>5</th>\n",
       "      <th>6</th>\n",
       "      <th>7</th>\n",
       "      <th>8</th>\n",
       "      <th>9</th>\n",
       "      <th>...</th>\n",
       "      <th>491</th>\n",
       "      <th>492</th>\n",
       "      <th>493</th>\n",
       "      <th>494</th>\n",
       "      <th>495</th>\n",
       "      <th>496</th>\n",
       "      <th>497</th>\n",
       "      <th>498</th>\n",
       "      <th>499</th>\n",
       "      <th>activity</th>\n",
       "    </tr>\n",
       "  </thead>\n",
       "  <tbody>\n",
       "    <tr>\n",
       "      <th>0</th>\n",
       "      <td>0.981382</td>\n",
       "      <td>0.982685</td>\n",
       "      <td>0.984772</td>\n",
       "      <td>0.991014</td>\n",
       "      <td>0.991957</td>\n",
       "      <td>0.987176</td>\n",
       "      <td>0.986225</td>\n",
       "      <td>0.980630</td>\n",
       "      <td>0.976677</td>\n",
       "      <td>0.986460</td>\n",
       "      <td>...</td>\n",
       "      <td>0.987941</td>\n",
       "      <td>0.984326</td>\n",
       "      <td>0.986315</td>\n",
       "      <td>0.982113</td>\n",
       "      <td>0.982702</td>\n",
       "      <td>0.987035</td>\n",
       "      <td>0.985976</td>\n",
       "      <td>0.987111</td>\n",
       "      <td>0.982366</td>\n",
       "      <td>LAYING</td>\n",
       "    </tr>\n",
       "    <tr>\n",
       "      <th>1</th>\n",
       "      <td>0.993165</td>\n",
       "      <td>0.989138</td>\n",
       "      <td>0.994005</td>\n",
       "      <td>0.999543</td>\n",
       "      <td>1.004060</td>\n",
       "      <td>1.001994</td>\n",
       "      <td>0.998885</td>\n",
       "      <td>0.997216</td>\n",
       "      <td>0.993052</td>\n",
       "      <td>0.993806</td>\n",
       "      <td>...</td>\n",
       "      <td>0.991251</td>\n",
       "      <td>0.996607</td>\n",
       "      <td>0.998806</td>\n",
       "      <td>1.001779</td>\n",
       "      <td>1.008806</td>\n",
       "      <td>1.005365</td>\n",
       "      <td>1.001250</td>\n",
       "      <td>1.003021</td>\n",
       "      <td>0.998748</td>\n",
       "      <td>LAYING</td>\n",
       "    </tr>\n",
       "    <tr>\n",
       "      <th>2</th>\n",
       "      <td>0.989889</td>\n",
       "      <td>0.992328</td>\n",
       "      <td>0.995144</td>\n",
       "      <td>0.994290</td>\n",
       "      <td>0.994649</td>\n",
       "      <td>0.990959</td>\n",
       "      <td>0.985261</td>\n",
       "      <td>0.984080</td>\n",
       "      <td>0.993255</td>\n",
       "      <td>1.005987</td>\n",
       "      <td>...</td>\n",
       "      <td>1.005300</td>\n",
       "      <td>1.003439</td>\n",
       "      <td>0.992190</td>\n",
       "      <td>0.987591</td>\n",
       "      <td>0.990027</td>\n",
       "      <td>0.991893</td>\n",
       "      <td>0.988948</td>\n",
       "      <td>0.987491</td>\n",
       "      <td>0.988619</td>\n",
       "      <td>LAYING</td>\n",
       "    </tr>\n",
       "    <tr>\n",
       "      <th>3</th>\n",
       "      <td>1.003003</td>\n",
       "      <td>1.000165</td>\n",
       "      <td>0.996369</td>\n",
       "      <td>0.995168</td>\n",
       "      <td>0.992990</td>\n",
       "      <td>0.995212</td>\n",
       "      <td>0.997920</td>\n",
       "      <td>0.994808</td>\n",
       "      <td>0.997712</td>\n",
       "      <td>1.000126</td>\n",
       "      <td>...</td>\n",
       "      <td>1.003198</td>\n",
       "      <td>0.994433</td>\n",
       "      <td>0.993846</td>\n",
       "      <td>0.994699</td>\n",
       "      <td>0.995511</td>\n",
       "      <td>0.998258</td>\n",
       "      <td>0.998304</td>\n",
       "      <td>0.995051</td>\n",
       "      <td>0.991391</td>\n",
       "      <td>LAYING</td>\n",
       "    </tr>\n",
       "    <tr>\n",
       "      <th>4</th>\n",
       "      <td>0.999798</td>\n",
       "      <td>0.997792</td>\n",
       "      <td>1.000999</td>\n",
       "      <td>1.003594</td>\n",
       "      <td>1.004107</td>\n",
       "      <td>1.005161</td>\n",
       "      <td>1.001687</td>\n",
       "      <td>1.003346</td>\n",
       "      <td>1.006965</td>\n",
       "      <td>1.006614</td>\n",
       "      <td>...</td>\n",
       "      <td>1.006513</td>\n",
       "      <td>0.996673</td>\n",
       "      <td>0.994095</td>\n",
       "      <td>0.991356</td>\n",
       "      <td>0.991930</td>\n",
       "      <td>0.990347</td>\n",
       "      <td>0.989033</td>\n",
       "      <td>0.994008</td>\n",
       "      <td>0.996868</td>\n",
       "      <td>LAYING</td>\n",
       "    </tr>\n",
       "    <tr>\n",
       "      <th>...</th>\n",
       "      <td>...</td>\n",
       "      <td>...</td>\n",
       "      <td>...</td>\n",
       "      <td>...</td>\n",
       "      <td>...</td>\n",
       "      <td>...</td>\n",
       "      <td>...</td>\n",
       "      <td>...</td>\n",
       "      <td>...</td>\n",
       "      <td>...</td>\n",
       "      <td>...</td>\n",
       "      <td>...</td>\n",
       "      <td>...</td>\n",
       "      <td>...</td>\n",
       "      <td>...</td>\n",
       "      <td>...</td>\n",
       "      <td>...</td>\n",
       "      <td>...</td>\n",
       "      <td>...</td>\n",
       "      <td>...</td>\n",
       "      <td>...</td>\n",
       "    </tr>\n",
       "    <tr>\n",
       "      <th>121</th>\n",
       "      <td>1.313149</td>\n",
       "      <td>1.496651</td>\n",
       "      <td>1.657864</td>\n",
       "      <td>1.788792</td>\n",
       "      <td>1.964748</td>\n",
       "      <td>2.176348</td>\n",
       "      <td>2.218402</td>\n",
       "      <td>2.068605</td>\n",
       "      <td>1.880712</td>\n",
       "      <td>1.654676</td>\n",
       "      <td>...</td>\n",
       "      <td>1.883225</td>\n",
       "      <td>1.689585</td>\n",
       "      <td>1.404288</td>\n",
       "      <td>1.106515</td>\n",
       "      <td>0.860272</td>\n",
       "      <td>0.886572</td>\n",
       "      <td>0.969258</td>\n",
       "      <td>0.957187</td>\n",
       "      <td>0.965843</td>\n",
       "      <td>WALKING_UPSTAIRS</td>\n",
       "    </tr>\n",
       "    <tr>\n",
       "      <th>122</th>\n",
       "      <td>0.645240</td>\n",
       "      <td>0.687641</td>\n",
       "      <td>0.772740</td>\n",
       "      <td>0.884074</td>\n",
       "      <td>1.015710</td>\n",
       "      <td>1.155363</td>\n",
       "      <td>1.233513</td>\n",
       "      <td>1.327943</td>\n",
       "      <td>1.483545</td>\n",
       "      <td>1.758774</td>\n",
       "      <td>...</td>\n",
       "      <td>1.461972</td>\n",
       "      <td>1.645756</td>\n",
       "      <td>1.355183</td>\n",
       "      <td>1.007496</td>\n",
       "      <td>0.821142</td>\n",
       "      <td>0.505451</td>\n",
       "      <td>0.397018</td>\n",
       "      <td>0.435017</td>\n",
       "      <td>0.337881</td>\n",
       "      <td>WALKING_UPSTAIRS</td>\n",
       "    </tr>\n",
       "    <tr>\n",
       "      <th>123</th>\n",
       "      <td>0.548796</td>\n",
       "      <td>0.672201</td>\n",
       "      <td>0.871850</td>\n",
       "      <td>0.950930</td>\n",
       "      <td>0.854911</td>\n",
       "      <td>0.886019</td>\n",
       "      <td>0.922935</td>\n",
       "      <td>0.969559</td>\n",
       "      <td>1.098581</td>\n",
       "      <td>1.507499</td>\n",
       "      <td>...</td>\n",
       "      <td>2.598404</td>\n",
       "      <td>1.945510</td>\n",
       "      <td>1.325856</td>\n",
       "      <td>1.150704</td>\n",
       "      <td>1.014043</td>\n",
       "      <td>0.725299</td>\n",
       "      <td>0.705644</td>\n",
       "      <td>1.065750</td>\n",
       "      <td>1.271324</td>\n",
       "      <td>WALKING_UPSTAIRS</td>\n",
       "    </tr>\n",
       "    <tr>\n",
       "      <th>124</th>\n",
       "      <td>1.059330</td>\n",
       "      <td>1.024984</td>\n",
       "      <td>0.890988</td>\n",
       "      <td>1.011086</td>\n",
       "      <td>0.924324</td>\n",
       "      <td>0.873101</td>\n",
       "      <td>0.833131</td>\n",
       "      <td>0.642193</td>\n",
       "      <td>0.606104</td>\n",
       "      <td>0.555885</td>\n",
       "      <td>...</td>\n",
       "      <td>0.569460</td>\n",
       "      <td>0.593311</td>\n",
       "      <td>0.642203</td>\n",
       "      <td>0.737246</td>\n",
       "      <td>0.780754</td>\n",
       "      <td>0.758168</td>\n",
       "      <td>0.791968</td>\n",
       "      <td>0.890852</td>\n",
       "      <td>1.053665</td>\n",
       "      <td>WALKING_UPSTAIRS</td>\n",
       "    </tr>\n",
       "    <tr>\n",
       "      <th>125</th>\n",
       "      <td>0.449504</td>\n",
       "      <td>0.632619</td>\n",
       "      <td>0.799558</td>\n",
       "      <td>0.582990</td>\n",
       "      <td>0.442424</td>\n",
       "      <td>0.405941</td>\n",
       "      <td>0.585117</td>\n",
       "      <td>1.057216</td>\n",
       "      <td>1.280197</td>\n",
       "      <td>1.229651</td>\n",
       "      <td>...</td>\n",
       "      <td>0.800153</td>\n",
       "      <td>0.699134</td>\n",
       "      <td>0.486218</td>\n",
       "      <td>0.319679</td>\n",
       "      <td>0.208612</td>\n",
       "      <td>0.282232</td>\n",
       "      <td>0.385670</td>\n",
       "      <td>0.478112</td>\n",
       "      <td>0.659654</td>\n",
       "      <td>WALKING_UPSTAIRS</td>\n",
       "    </tr>\n",
       "  </tbody>\n",
       "</table>\n",
       "<p>126 rows × 501 columns</p>\n",
       "</div>"
      ],
      "text/plain": [
       "            0         1         2         3         4         5         6  \\\n",
       "0    0.981382  0.982685  0.984772  0.991014  0.991957  0.987176  0.986225   \n",
       "1    0.993165  0.989138  0.994005  0.999543  1.004060  1.001994  0.998885   \n",
       "2    0.989889  0.992328  0.995144  0.994290  0.994649  0.990959  0.985261   \n",
       "3    1.003003  1.000165  0.996369  0.995168  0.992990  0.995212  0.997920   \n",
       "4    0.999798  0.997792  1.000999  1.003594  1.004107  1.005161  1.001687   \n",
       "..        ...       ...       ...       ...       ...       ...       ...   \n",
       "121  1.313149  1.496651  1.657864  1.788792  1.964748  2.176348  2.218402   \n",
       "122  0.645240  0.687641  0.772740  0.884074  1.015710  1.155363  1.233513   \n",
       "123  0.548796  0.672201  0.871850  0.950930  0.854911  0.886019  0.922935   \n",
       "124  1.059330  1.024984  0.890988  1.011086  0.924324  0.873101  0.833131   \n",
       "125  0.449504  0.632619  0.799558  0.582990  0.442424  0.405941  0.585117   \n",
       "\n",
       "            7         8         9  ...       491       492       493  \\\n",
       "0    0.980630  0.976677  0.986460  ...  0.987941  0.984326  0.986315   \n",
       "1    0.997216  0.993052  0.993806  ...  0.991251  0.996607  0.998806   \n",
       "2    0.984080  0.993255  1.005987  ...  1.005300  1.003439  0.992190   \n",
       "3    0.994808  0.997712  1.000126  ...  1.003198  0.994433  0.993846   \n",
       "4    1.003346  1.006965  1.006614  ...  1.006513  0.996673  0.994095   \n",
       "..        ...       ...       ...  ...       ...       ...       ...   \n",
       "121  2.068605  1.880712  1.654676  ...  1.883225  1.689585  1.404288   \n",
       "122  1.327943  1.483545  1.758774  ...  1.461972  1.645756  1.355183   \n",
       "123  0.969559  1.098581  1.507499  ...  2.598404  1.945510  1.325856   \n",
       "124  0.642193  0.606104  0.555885  ...  0.569460  0.593311  0.642203   \n",
       "125  1.057216  1.280197  1.229651  ...  0.800153  0.699134  0.486218   \n",
       "\n",
       "          494       495       496       497       498       499  \\\n",
       "0    0.982113  0.982702  0.987035  0.985976  0.987111  0.982366   \n",
       "1    1.001779  1.008806  1.005365  1.001250  1.003021  0.998748   \n",
       "2    0.987591  0.990027  0.991893  0.988948  0.987491  0.988619   \n",
       "3    0.994699  0.995511  0.998258  0.998304  0.995051  0.991391   \n",
       "4    0.991356  0.991930  0.990347  0.989033  0.994008  0.996868   \n",
       "..        ...       ...       ...       ...       ...       ...   \n",
       "121  1.106515  0.860272  0.886572  0.969258  0.957187  0.965843   \n",
       "122  1.007496  0.821142  0.505451  0.397018  0.435017  0.337881   \n",
       "123  1.150704  1.014043  0.725299  0.705644  1.065750  1.271324   \n",
       "124  0.737246  0.780754  0.758168  0.791968  0.890852  1.053665   \n",
       "125  0.319679  0.208612  0.282232  0.385670  0.478112  0.659654   \n",
       "\n",
       "             activity  \n",
       "0              LAYING  \n",
       "1              LAYING  \n",
       "2              LAYING  \n",
       "3              LAYING  \n",
       "4              LAYING  \n",
       "..                ...  \n",
       "121  WALKING_UPSTAIRS  \n",
       "122  WALKING_UPSTAIRS  \n",
       "123  WALKING_UPSTAIRS  \n",
       "124  WALKING_UPSTAIRS  \n",
       "125  WALKING_UPSTAIRS  \n",
       "\n",
       "[126 rows x 501 columns]"
      ]
     },
     "execution_count": 21,
     "metadata": {},
     "output_type": "execute_result"
    }
   ],
   "source": [
    "master_dataset = pd.DataFrame()\n",
    "for folder in folders:\n",
    "    files = os.listdir(os.path.join(dataset_dir,folder))\n",
    "    for file in files:\n",
    "        df = pd.read_csv(os.path.join(dataset_dir,folder,file),sep=\",\",header=0)\n",
    "        df = df[offset:offset+time*50]\n",
    "        df[\"linear_acc\"] = df[\"accx\"] **2 + df[\"accy\"] ** 2 + df[\"accz\"]** 2\n",
    "        temp = pd.DataFrame([(df[\"linear_acc\"].to_numpy().flatten())])\n",
    "        temp[\"activity\"] = folder\n",
    "        master_dataset = pd.concat([master_dataset, temp], ignore_index = True)        \n",
    "\n",
    "master_dataset"
   ]
  },
  {
   "cell_type": "code",
   "execution_count": 22,
   "metadata": {},
   "outputs": [
    {
     "name": "stdout",
     "output_type": "stream",
     "text": [
      "['LAYING' 'SITTING' 'STANDING' 'WALKING' 'WALKING_DOWNSTAIRS'\n",
      " 'WALKING_UPSTAIRS']\n"
     ]
    }
   ],
   "source": [
    "data_df = master_dataset.iloc[ :, :500]\n",
    "print(master_dataset['activity'].unique())\n",
    "scaler = StandardScaler()\n",
    "scaler.fit(data_df)\n",
    "scaled_data = scaler.transform(data_df)"
   ]
  },
  {
   "cell_type": "code",
   "execution_count": 23,
   "metadata": {},
   "outputs": [],
   "source": [
    "principal=PCA(n_components=2)\n",
    "principal.fit(scaled_data)\n",
    "reduced_data=principal.transform(scaled_data)"
   ]
  },
  {
   "cell_type": "code",
   "execution_count": 24,
   "metadata": {},
   "outputs": [
    {
     "data": {
      "image/png": "[encoded data removed]",
      "text/plain": [
       "<Figure size 1000x1000 with 1 Axes>"
      ]
     },
     "metadata": {},
     "output_type": "display_data"
    }
   ],
   "source": [
    "labels = master_dataset['activity']\n",
    "unique_labels = np.unique(labels)\n",
    "cmap = plt.get_cmap('viridis', len(unique_labels))\n",
    "plt.figure(figsize=(10, 10))\n",
    "for i, label in enumerate(unique_labels):\n",
    "    plt.scatter(reduced_data[:, 0][labels==label], reduced_data[:, 1][labels==label], color=cmap(i), label= label)\n",
    "\n",
    "plt.legend(title='Classes')\n",
    "plt.show()"
   ]
  },
  {
   "cell_type": "code",
   "execution_count": 25,
   "metadata": {},
   "outputs": [
    {
     "data": {
      "text/plain": [
       "array([[0.98138236, 0.98268484, 0.98477228, ..., 0.98597619, 0.9871108 ,\n",
       "        0.98236632],\n",
       "       [0.99316494, 0.98913792, 0.99400533, ..., 1.00124978, 1.00302114,\n",
       "        0.99874781],\n",
       "       [0.9898891 , 0.99232811, 0.99514404, ..., 0.988948  , 0.98749115,\n",
       "        0.98861876],\n",
       "       ...,\n",
       "       [0.54879584, 0.67220067, 0.87184995, ..., 0.70564415, 1.06574985,\n",
       "        1.27132419],\n",
       "       [1.0593298 , 1.024984  , 0.89098823, ..., 0.791968  , 0.89085179,\n",
       "        1.0536655 ],\n",
       "       [0.44950381, 0.63261882, 0.79955778, ..., 0.38567025, 0.47811225,\n",
       "        0.65965402]])"
      ]
     },
     "execution_count": 25,
     "metadata": {},
     "output_type": "execute_result"
    }
   ],
   "source": [
    "master_dataset.iloc[:, :-1].values"
   ]
  },
  {
   "cell_type": "code",
   "execution_count": 26,
   "metadata": {},
   "outputs": [
    {
     "name": "stdout",
     "output_type": "stream",
     "text": [
      "*** Feature extraction started ***\n"
     ]
    },
    {
     "data": {
      "text/html": [
       "\n",
       "              <p>\n",
       "                  Progress: 100% Complete\n",
       "              <p/>\n",
       "              <progress\n",
       "                  value='20'\n",
       "                  max='20',\n",
       "                  style='width: 25%',\n",
       "              >\n",
       "                  20\n",
       "              </progress>\n",
       "\n",
       "    "
      ],
      "text/plain": [
       "<IPython.core.display.HTML object>"
      ]
     },
     "metadata": {},
     "output_type": "display_data"
    },
    {
     "name": "stdout",
     "output_type": "stream",
     "text": [
      "\n",
      "*** Feature extraction finished ***\n",
      "*** Feature extraction started ***\n"
     ]
    },
    {
     "data": {
      "text/html": [
       "\n",
       "              <p>\n",
       "                  Progress: 100% Complete\n",
       "              <p/>\n",
       "              <progress\n",
       "                  value='20'\n",
       "                  max='20',\n",
       "                  style='width: 25%',\n",
       "              >\n",
       "                  20\n",
       "              </progress>\n",
       "\n",
       "    "
      ],
      "text/plain": [
       "<IPython.core.display.HTML object>"
      ]
     },
     "metadata": {},
     "output_type": "display_data"
    },
    {
     "name": "stdout",
     "output_type": "stream",
     "text": [
      "\n",
      "*** Feature extraction finished ***\n",
      "*** Feature extraction started ***\n"
     ]
    },
    {
     "data": {
      "text/html": [
       "\n",
       "              <p>\n",
       "                  Progress: 100% Complete\n",
       "              <p/>\n",
       "              <progress\n",
       "                  value='20'\n",
       "                  max='20',\n",
       "                  style='width: 25%',\n",
       "              >\n",
       "                  20\n",
       "              </progress>\n",
       "\n",
       "    "
      ],
      "text/plain": [
       "<IPython.core.display.HTML object>"
      ]
     },
     "metadata": {},
     "output_type": "display_data"
    },
    {
     "name": "stdout",
     "output_type": "stream",
     "text": [
      "\n",
      "*** Feature extraction finished ***\n",
      "*** Feature extraction started ***\n"
     ]
    },
    {
     "data": {
      "text/html": [
       "\n",
       "              <p>\n",
       "                  Progress: 100% Complete\n",
       "              <p/>\n",
       "              <progress\n",
       "                  value='20'\n",
       "                  max='20',\n",
       "                  style='width: 25%',\n",
       "              >\n",
       "                  20\n",
       "              </progress>\n",
       "\n",
       "    "
      ],
      "text/plain": [
       "<IPython.core.display.HTML object>"
      ]
     },
     "metadata": {},
     "output_type": "display_data"
    },
    {
     "name": "stdout",
     "output_type": "stream",
     "text": [
      "\n",
      "*** Feature extraction finished ***\n",
      "*** Feature extraction started ***\n"
     ]
    },
    {
     "data": {
      "text/html": [
       "\n",
       "              <p>\n",
       "                  Progress: 100% Complete\n",
       "              <p/>\n",
       "              <progress\n",
       "                  value='20'\n",
       "                  max='20',\n",
       "                  style='width: 25%',\n",
       "              >\n",
       "                  20\n",
       "              </progress>\n",
       "\n",
       "    "
      ],
      "text/plain": [
       "<IPython.core.display.HTML object>"
      ]
     },
     "metadata": {},
     "output_type": "display_data"
    },
    {
     "name": "stdout",
     "output_type": "stream",
     "text": [
      "\n",
      "*** Feature extraction finished ***\n",
      "*** Feature extraction started ***\n"
     ]
    },
    {
     "data": {
      "text/html": [
       "\n",
       "              <p>\n",
       "                  Progress: 100% Complete\n",
       "              <p/>\n",
       "              <progress\n",
       "                  value='20'\n",
       "                  max='20',\n",
       "                  style='width: 25%',\n",
       "              >\n",
       "                  20\n",
       "              </progress>\n",
       "\n",
       "    "
      ],
      "text/plain": [
       "<IPython.core.display.HTML object>"
      ]
     },
     "metadata": {},
     "output_type": "display_data"
    },
    {
     "name": "stdout",
     "output_type": "stream",
     "text": [
      "\n",
      "*** Feature extraction finished ***\n",
      "*** Feature extraction started ***\n"
     ]
    },
    {
     "data": {
      "text/html": [
       "\n",
       "              <p>\n",
       "                  Progress: 100% Complete\n",
       "              <p/>\n",
       "              <progress\n",
       "                  value='20'\n",
       "                  max='20',\n",
       "                  style='width: 25%',\n",
       "              >\n",
       "                  20\n",
       "              </progress>\n",
       "\n",
       "    "
      ],
      "text/plain": [
       "<IPython.core.display.HTML object>"
      ]
     },
     "metadata": {},
     "output_type": "display_data"
    },
    {
     "name": "stdout",
     "output_type": "stream",
     "text": [
      "\n",
      "*** Feature extraction finished ***\n",
      "*** Feature extraction started ***\n"
     ]
    },
    {
     "data": {
      "text/html": [
       "\n",
       "              <p>\n",
       "                  Progress: 100% Complete\n",
       "              <p/>\n",
       "              <progress\n",
       "                  value='20'\n",
       "                  max='20',\n",
       "                  style='width: 25%',\n",
       "              >\n",
       "                  20\n",
       "              </progress>\n",
       "\n",
       "    "
      ],
      "text/plain": [
       "<IPython.core.display.HTML object>"
      ]
     },
     "metadata": {},
     "output_type": "display_data"
    },
    {
     "name": "stdout",
     "output_type": "stream",
     "text": [
      "\n",
      "*** Feature extraction finished ***\n",
      "*** Feature extraction started ***\n"
     ]
    },
    {
     "data": {
      "text/html": [
       "\n",
       "              <p>\n",
       "                  Progress: 100% Complete\n",
       "              <p/>\n",
       "              <progress\n",
       "                  value='20'\n",
       "                  max='20',\n",
       "                  style='width: 25%',\n",
       "              >\n",
       "                  20\n",
       "              </progress>\n",
       "\n",
       "    "
      ],
      "text/plain": [
       "<IPython.core.display.HTML object>"
      ]
     },
     "metadata": {},
     "output_type": "display_data"
    },
    {
     "name": "stdout",
     "output_type": "stream",
     "text": [
      "\n",
      "*** Feature extraction finished ***\n",
      "*** Feature extraction started ***\n"
     ]
    },
    {
     "data": {
      "text/html": [
       "\n",
       "              <p>\n",
       "                  Progress: 100% Complete\n",
       "              <p/>\n",
       "              <progress\n",
       "                  value='20'\n",
       "                  max='20',\n",
       "                  style='width: 25%',\n",
       "              >\n",
       "                  20\n",
       "              </progress>\n",
       "\n",
       "    "
      ],
      "text/plain": [
       "<IPython.core.display.HTML object>"
      ]
     },
     "metadata": {},
     "output_type": "display_data"
    },
    {
     "name": "stdout",
     "output_type": "stream",
     "text": [
      "\n",
      "*** Feature extraction finished ***\n",
      "*** Feature extraction started ***\n"
     ]
    },
    {
     "data": {
      "text/html": [
       "\n",
       "              <p>\n",
       "                  Progress: 100% Complete\n",
       "              <p/>\n",
       "              <progress\n",
       "                  value='20'\n",
       "                  max='20',\n",
       "                  style='width: 25%',\n",
       "              >\n",
       "                  20\n",
       "              </progress>\n",
       "\n",
       "    "
      ],
      "text/plain": [
       "<IPython.core.display.HTML object>"
      ]
     },
     "metadata": {},
     "output_type": "display_data"
    },
    {
     "name": "stdout",
     "output_type": "stream",
     "text": [
      "\n",
      "*** Feature extraction finished ***\n",
      "*** Feature extraction started ***\n"
     ]
    },
    {
     "data": {
      "text/html": [
       "\n",
       "              <p>\n",
       "                  Progress: 100% Complete\n",
       "              <p/>\n",
       "              <progress\n",
       "                  value='20'\n",
       "                  max='20',\n",
       "                  style='width: 25%',\n",
       "              >\n",
       "                  20\n",
       "              </progress>\n",
       "\n",
       "    "
      ],
      "text/plain": [
       "<IPython.core.display.HTML object>"
      ]
     },
     "metadata": {},
     "output_type": "display_data"
    },
    {
     "name": "stdout",
     "output_type": "stream",
     "text": [
      "\n",
      "*** Feature extraction finished ***\n",
      "*** Feature extraction started ***\n"
     ]
    },
    {
     "data": {
      "text/html": [
       "\n",
       "              <p>\n",
       "                  Progress: 100% Complete\n",
       "              <p/>\n",
       "              <progress\n",
       "                  value='20'\n",
       "                  max='20',\n",
       "                  style='width: 25%',\n",
       "              >\n",
       "                  20\n",
       "              </progress>\n",
       "\n",
       "    "
      ],
      "text/plain": [
       "<IPython.core.display.HTML object>"
      ]
     },
     "metadata": {},
     "output_type": "display_data"
    },
    {
     "name": "stdout",
     "output_type": "stream",
     "text": [
      "\n",
      "*** Feature extraction finished ***\n",
      "*** Feature extraction started ***\n"
     ]
    },
    {
     "data": {
      "text/html": [
       "\n",
       "              <p>\n",
       "                  Progress: 100% Complete\n",
       "              <p/>\n",
       "              <progress\n",
       "                  value='20'\n",
       "                  max='20',\n",
       "                  style='width: 25%',\n",
       "              >\n",
       "                  20\n",
       "              </progress>\n",
       "\n",
       "    "
      ],
      "text/plain": [
       "<IPython.core.display.HTML object>"
      ]
     },
     "metadata": {},
     "output_type": "display_data"
    },
    {
     "name": "stdout",
     "output_type": "stream",
     "text": [
      "\n",
      "*** Feature extraction finished ***\n",
      "*** Feature extraction started ***\n"
     ]
    },
    {
     "data": {
      "text/html": [
       "\n",
       "              <p>\n",
       "                  Progress: 100% Complete\n",
       "              <p/>\n",
       "              <progress\n",
       "                  value='20'\n",
       "                  max='20',\n",
       "                  style='width: 25%',\n",
       "              >\n",
       "                  20\n",
       "              </progress>\n",
       "\n",
       "    "
      ],
      "text/plain": [
       "<IPython.core.display.HTML object>"
      ]
     },
     "metadata": {},
     "output_type": "display_data"
    },
    {
     "name": "stdout",
     "output_type": "stream",
     "text": [
      "\n",
      "*** Feature extraction finished ***\n",
      "*** Feature extraction started ***\n"
     ]
    },
    {
     "data": {
      "text/html": [
       "\n",
       "              <p>\n",
       "                  Progress: 100% Complete\n",
       "              <p/>\n",
       "              <progress\n",
       "                  value='20'\n",
       "                  max='20',\n",
       "                  style='width: 25%',\n",
       "              >\n",
       "                  20\n",
       "              </progress>\n",
       "\n",
       "    "
      ],
      "text/plain": [
       "<IPython.core.display.HTML object>"
      ]
     },
     "metadata": {},
     "output_type": "display_data"
    },
    {
     "name": "stdout",
     "output_type": "stream",
     "text": [
      "\n",
      "*** Feature extraction finished ***\n",
      "*** Feature extraction started ***\n"
     ]
    },
    {
     "data": {
      "text/html": [
       "\n",
       "              <p>\n",
       "                  Progress: 100% Complete\n",
       "              <p/>\n",
       "              <progress\n",
       "                  value='20'\n",
       "                  max='20',\n",
       "                  style='width: 25%',\n",
       "              >\n",
       "                  20\n",
       "              </progress>\n",
       "\n",
       "    "
      ],
      "text/plain": [
       "<IPython.core.display.HTML object>"
      ]
     },
     "metadata": {},
     "output_type": "display_data"
    },
    {
     "name": "stdout",
     "output_type": "stream",
     "text": [
      "\n",
      "*** Feature extraction finished ***\n",
      "*** Feature extraction started ***\n"
     ]
    },
    {
     "data": {
      "text/html": [
       "\n",
       "              <p>\n",
       "                  Progress: 100% Complete\n",
       "              <p/>\n",
       "              <progress\n",
       "                  value='20'\n",
       "                  max='20',\n",
       "                  style='width: 25%',\n",
       "              >\n",
       "                  20\n",
       "              </progress>\n",
       "\n",
       "    "
      ],
      "text/plain": [
       "<IPython.core.display.HTML object>"
      ]
     },
     "metadata": {},
     "output_type": "display_data"
    },
    {
     "name": "stdout",
     "output_type": "stream",
     "text": [
      "\n",
      "*** Feature extraction finished ***\n",
      "*** Feature extraction started ***\n"
     ]
    },
    {
     "data": {
      "text/html": [
       "\n",
       "              <p>\n",
       "                  Progress: 100% Complete\n",
       "              <p/>\n",
       "              <progress\n",
       "                  value='20'\n",
       "                  max='20',\n",
       "                  style='width: 25%',\n",
       "              >\n",
       "                  20\n",
       "              </progress>\n",
       "\n",
       "    "
      ],
      "text/plain": [
       "<IPython.core.display.HTML object>"
      ]
     },
     "metadata": {},
     "output_type": "display_data"
    },
    {
     "name": "stdout",
     "output_type": "stream",
     "text": [
      "\n",
      "*** Feature extraction finished ***\n",
      "*** Feature extraction started ***\n"
     ]
    },
    {
     "data": {
      "text/html": [
       "\n",
       "              <p>\n",
       "                  Progress: 100% Complete\n",
       "              <p/>\n",
       "              <progress\n",
       "                  value='20'\n",
       "                  max='20',\n",
       "                  style='width: 25%',\n",
       "              >\n",
       "                  20\n",
       "              </progress>\n",
       "\n",
       "    "
      ],
      "text/plain": [
       "<IPython.core.display.HTML object>"
      ]
     },
     "metadata": {},
     "output_type": "display_data"
    },
    {
     "name": "stdout",
     "output_type": "stream",
     "text": [
      "\n",
      "*** Feature extraction finished ***\n",
      "*** Feature extraction started ***\n"
     ]
    },
    {
     "data": {
      "text/html": [
       "\n",
       "              <p>\n",
       "                  Progress: 100% Complete\n",
       "              <p/>\n",
       "              <progress\n",
       "                  value='20'\n",
       "                  max='20',\n",
       "                  style='width: 25%',\n",
       "              >\n",
       "                  20\n",
       "              </progress>\n",
       "\n",
       "    "
      ],
      "text/plain": [
       "<IPython.core.display.HTML object>"
      ]
     },
     "metadata": {},
     "output_type": "display_data"
    },
    {
     "name": "stdout",
     "output_type": "stream",
     "text": [
      "\n",
      "*** Feature extraction finished ***\n",
      "*** Feature extraction started ***\n"
     ]
    },
    {
     "data": {
      "text/html": [
       "\n",
       "              <p>\n",
       "                  Progress: 100% Complete\n",
       "              <p/>\n",
       "              <progress\n",
       "                  value='20'\n",
       "                  max='20',\n",
       "                  style='width: 25%',\n",
       "              >\n",
       "                  20\n",
       "              </progress>\n",
       "\n",
       "    "
      ],
      "text/plain": [
       "<IPython.core.display.HTML object>"
      ]
     },
     "metadata": {},
     "output_type": "display_data"
    },
    {
     "name": "stdout",
     "output_type": "stream",
     "text": [
      "\n",
      "*** Feature extraction finished ***\n",
      "*** Feature extraction started ***\n"
     ]
    },
    {
     "data": {
      "text/html": [
       "\n",
       "              <p>\n",
       "                  Progress: 100% Complete\n",
       "              <p/>\n",
       "              <progress\n",
       "                  value='20'\n",
       "                  max='20',\n",
       "                  style='width: 25%',\n",
       "              >\n",
       "                  20\n",
       "              </progress>\n",
       "\n",
       "    "
      ],
      "text/plain": [
       "<IPython.core.display.HTML object>"
      ]
     },
     "metadata": {},
     "output_type": "display_data"
    },
    {
     "name": "stdout",
     "output_type": "stream",
     "text": [
      "\n",
      "*** Feature extraction finished ***\n",
      "*** Feature extraction started ***\n"
     ]
    },
    {
     "data": {
      "text/html": [
       "\n",
       "              <p>\n",
       "                  Progress: 100% Complete\n",
       "              <p/>\n",
       "              <progress\n",
       "                  value='20'\n",
       "                  max='20',\n",
       "                  style='width: 25%',\n",
       "              >\n",
       "                  20\n",
       "              </progress>\n",
       "\n",
       "    "
      ],
      "text/plain": [
       "<IPython.core.display.HTML object>"
      ]
     },
     "metadata": {},
     "output_type": "display_data"
    },
    {
     "name": "stdout",
     "output_type": "stream",
     "text": [
      "\n",
      "*** Feature extraction finished ***\n",
      "*** Feature extraction started ***\n"
     ]
    },
    {
     "data": {
      "text/html": [
       "\n",
       "              <p>\n",
       "                  Progress: 100% Complete\n",
       "              <p/>\n",
       "              <progress\n",
       "                  value='20'\n",
       "                  max='20',\n",
       "                  style='width: 25%',\n",
       "              >\n",
       "                  20\n",
       "              </progress>\n",
       "\n",
       "    "
      ],
      "text/plain": [
       "<IPython.core.display.HTML object>"
      ]
     },
     "metadata": {},
     "output_type": "display_data"
    },
    {
     "name": "stdout",
     "output_type": "stream",
     "text": [
      "\n",
      "*** Feature extraction finished ***\n",
      "*** Feature extraction started ***\n"
     ]
    },
    {
     "data": {
      "text/html": [
       "\n",
       "              <p>\n",
       "                  Progress: 100% Complete\n",
       "              <p/>\n",
       "              <progress\n",
       "                  value='20'\n",
       "                  max='20',\n",
       "                  style='width: 25%',\n",
       "              >\n",
       "                  20\n",
       "              </progress>\n",
       "\n",
       "    "
      ],
      "text/plain": [
       "<IPython.core.display.HTML object>"
      ]
     },
     "metadata": {},
     "output_type": "display_data"
    },
    {
     "name": "stdout",
     "output_type": "stream",
     "text": [
      "\n",
      "*** Feature extraction finished ***\n",
      "*** Feature extraction started ***\n"
     ]
    },
    {
     "data": {
      "text/html": [
       "\n",
       "              <p>\n",
       "                  Progress: 100% Complete\n",
       "              <p/>\n",
       "              <progress\n",
       "                  value='20'\n",
       "                  max='20',\n",
       "                  style='width: 25%',\n",
       "              >\n",
       "                  20\n",
       "              </progress>\n",
       "\n",
       "    "
      ],
      "text/plain": [
       "<IPython.core.display.HTML object>"
      ]
     },
     "metadata": {},
     "output_type": "display_data"
    },
    {
     "name": "stdout",
     "output_type": "stream",
     "text": [
      "\n",
      "*** Feature extraction finished ***\n",
      "*** Feature extraction started ***\n"
     ]
    },
    {
     "data": {
      "text/html": [
       "\n",
       "              <p>\n",
       "                  Progress: 100% Complete\n",
       "              <p/>\n",
       "              <progress\n",
       "                  value='20'\n",
       "                  max='20',\n",
       "                  style='width: 25%',\n",
       "              >\n",
       "                  20\n",
       "              </progress>\n",
       "\n",
       "    "
      ],
      "text/plain": [
       "<IPython.core.display.HTML object>"
      ]
     },
     "metadata": {},
     "output_type": "display_data"
    },
    {
     "name": "stdout",
     "output_type": "stream",
     "text": [
      "\n",
      "*** Feature extraction finished ***\n",
      "*** Feature extraction started ***\n"
     ]
    },
    {
     "data": {
      "text/html": [
       "\n",
       "              <p>\n",
       "                  Progress: 100% Complete\n",
       "              <p/>\n",
       "              <progress\n",
       "                  value='20'\n",
       "                  max='20',\n",
       "                  style='width: 25%',\n",
       "              >\n",
       "                  20\n",
       "              </progress>\n",
       "\n",
       "    "
      ],
      "text/plain": [
       "<IPython.core.display.HTML object>"
      ]
     },
     "metadata": {},
     "output_type": "display_data"
    },
    {
     "name": "stdout",
     "output_type": "stream",
     "text": [
      "\n",
      "*** Feature extraction finished ***\n",
      "*** Feature extraction started ***\n"
     ]
    },
    {
     "data": {
      "text/html": [
       "\n",
       "              <p>\n",
       "                  Progress: 100% Complete\n",
       "              <p/>\n",
       "              <progress\n",
       "                  value='20'\n",
       "                  max='20',\n",
       "                  style='width: 25%',\n",
       "              >\n",
       "                  20\n",
       "              </progress>\n",
       "\n",
       "    "
      ],
      "text/plain": [
       "<IPython.core.display.HTML object>"
      ]
     },
     "metadata": {},
     "output_type": "display_data"
    },
    {
     "name": "stdout",
     "output_type": "stream",
     "text": [
      "\n",
      "*** Feature extraction finished ***\n",
      "*** Feature extraction started ***\n"
     ]
    },
    {
     "data": {
      "text/html": [
       "\n",
       "              <p>\n",
       "                  Progress: 100% Complete\n",
       "              <p/>\n",
       "              <progress\n",
       "                  value='20'\n",
       "                  max='20',\n",
       "                  style='width: 25%',\n",
       "              >\n",
       "                  20\n",
       "              </progress>\n",
       "\n",
       "    "
      ],
      "text/plain": [
       "<IPython.core.display.HTML object>"
      ]
     },
     "metadata": {},
     "output_type": "display_data"
    },
    {
     "name": "stdout",
     "output_type": "stream",
     "text": [
      "\n",
      "*** Feature extraction finished ***\n",
      "*** Feature extraction started ***\n"
     ]
    },
    {
     "data": {
      "text/html": [
       "\n",
       "              <p>\n",
       "                  Progress: 100% Complete\n",
       "              <p/>\n",
       "              <progress\n",
       "                  value='20'\n",
       "                  max='20',\n",
       "                  style='width: 25%',\n",
       "              >\n",
       "                  20\n",
       "              </progress>\n",
       "\n",
       "    "
      ],
      "text/plain": [
       "<IPython.core.display.HTML object>"
      ]
     },
     "metadata": {},
     "output_type": "display_data"
    },
    {
     "name": "stdout",
     "output_type": "stream",
     "text": [
      "\n",
      "*** Feature extraction finished ***\n",
      "*** Feature extraction started ***\n"
     ]
    },
    {
     "data": {
      "text/html": [
       "\n",
       "              <p>\n",
       "                  Progress: 100% Complete\n",
       "              <p/>\n",
       "              <progress\n",
       "                  value='20'\n",
       "                  max='20',\n",
       "                  style='width: 25%',\n",
       "              >\n",
       "                  20\n",
       "              </progress>\n",
       "\n",
       "    "
      ],
      "text/plain": [
       "<IPython.core.display.HTML object>"
      ]
     },
     "metadata": {},
     "output_type": "display_data"
    },
    {
     "name": "stdout",
     "output_type": "stream",
     "text": [
      "\n",
      "*** Feature extraction finished ***\n",
      "*** Feature extraction started ***\n"
     ]
    },
    {
     "data": {
      "text/html": [
       "\n",
       "              <p>\n",
       "                  Progress: 100% Complete\n",
       "              <p/>\n",
       "              <progress\n",
       "                  value='20'\n",
       "                  max='20',\n",
       "                  style='width: 25%',\n",
       "              >\n",
       "                  20\n",
       "              </progress>\n",
       "\n",
       "    "
      ],
      "text/plain": [
       "<IPython.core.display.HTML object>"
      ]
     },
     "metadata": {},
     "output_type": "display_data"
    },
    {
     "name": "stdout",
     "output_type": "stream",
     "text": [
      "\n",
      "*** Feature extraction finished ***\n",
      "*** Feature extraction started ***\n"
     ]
    },
    {
     "data": {
      "text/html": [
       "\n",
       "              <p>\n",
       "                  Progress: 100% Complete\n",
       "              <p/>\n",
       "              <progress\n",
       "                  value='20'\n",
       "                  max='20',\n",
       "                  style='width: 25%',\n",
       "              >\n",
       "                  20\n",
       "              </progress>\n",
       "\n",
       "    "
      ],
      "text/plain": [
       "<IPython.core.display.HTML object>"
      ]
     },
     "metadata": {},
     "output_type": "display_data"
    },
    {
     "name": "stdout",
     "output_type": "stream",
     "text": [
      "\n",
      "*** Feature extraction finished ***\n",
      "*** Feature extraction started ***\n"
     ]
    },
    {
     "data": {
      "text/html": [
       "\n",
       "              <p>\n",
       "                  Progress: 100% Complete\n",
       "              <p/>\n",
       "              <progress\n",
       "                  value='20'\n",
       "                  max='20',\n",
       "                  style='width: 25%',\n",
       "              >\n",
       "                  20\n",
       "              </progress>\n",
       "\n",
       "    "
      ],
      "text/plain": [
       "<IPython.core.display.HTML object>"
      ]
     },
     "metadata": {},
     "output_type": "display_data"
    },
    {
     "name": "stdout",
     "output_type": "stream",
     "text": [
      "\n",
      "*** Feature extraction finished ***\n",
      "*** Feature extraction started ***\n"
     ]
    },
    {
     "data": {
      "text/html": [
       "\n",
       "              <p>\n",
       "                  Progress: 100% Complete\n",
       "              <p/>\n",
       "              <progress\n",
       "                  value='20'\n",
       "                  max='20',\n",
       "                  style='width: 25%',\n",
       "              >\n",
       "                  20\n",
       "              </progress>\n",
       "\n",
       "    "
      ],
      "text/plain": [
       "<IPython.core.display.HTML object>"
      ]
     },
     "metadata": {},
     "output_type": "display_data"
    },
    {
     "name": "stdout",
     "output_type": "stream",
     "text": [
      "\n",
      "*** Feature extraction finished ***\n",
      "*** Feature extraction started ***\n"
     ]
    },
    {
     "data": {
      "text/html": [
       "\n",
       "              <p>\n",
       "                  Progress: 100% Complete\n",
       "              <p/>\n",
       "              <progress\n",
       "                  value='20'\n",
       "                  max='20',\n",
       "                  style='width: 25%',\n",
       "              >\n",
       "                  20\n",
       "              </progress>\n",
       "\n",
       "    "
      ],
      "text/plain": [
       "<IPython.core.display.HTML object>"
      ]
     },
     "metadata": {},
     "output_type": "display_data"
    },
    {
     "name": "stdout",
     "output_type": "stream",
     "text": [
      "\n",
      "*** Feature extraction finished ***\n",
      "*** Feature extraction started ***\n"
     ]
    },
    {
     "data": {
      "text/html": [
       "\n",
       "              <p>\n",
       "                  Progress: 100% Complete\n",
       "              <p/>\n",
       "              <progress\n",
       "                  value='20'\n",
       "                  max='20',\n",
       "                  style='width: 25%',\n",
       "              >\n",
       "                  20\n",
       "              </progress>\n",
       "\n",
       "    "
      ],
      "text/plain": [
       "<IPython.core.display.HTML object>"
      ]
     },
     "metadata": {},
     "output_type": "display_data"
    },
    {
     "name": "stdout",
     "output_type": "stream",
     "text": [
      "\n",
      "*** Feature extraction finished ***\n",
      "*** Feature extraction started ***\n"
     ]
    },
    {
     "data": {
      "text/html": [
       "\n",
       "              <p>\n",
       "                  Progress: 100% Complete\n",
       "              <p/>\n",
       "              <progress\n",
       "                  value='20'\n",
       "                  max='20',\n",
       "                  style='width: 25%',\n",
       "              >\n",
       "                  20\n",
       "              </progress>\n",
       "\n",
       "    "
      ],
      "text/plain": [
       "<IPython.core.display.HTML object>"
      ]
     },
     "metadata": {},
     "output_type": "display_data"
    },
    {
     "name": "stdout",
     "output_type": "stream",
     "text": [
      "\n",
      "*** Feature extraction finished ***\n",
      "*** Feature extraction started ***\n"
     ]
    },
    {
     "data": {
      "text/html": [
       "\n",
       "              <p>\n",
       "                  Progress: 100% Complete\n",
       "              <p/>\n",
       "              <progress\n",
       "                  value='20'\n",
       "                  max='20',\n",
       "                  style='width: 25%',\n",
       "              >\n",
       "                  20\n",
       "              </progress>\n",
       "\n",
       "    "
      ],
      "text/plain": [
       "<IPython.core.display.HTML object>"
      ]
     },
     "metadata": {},
     "output_type": "display_data"
    },
    {
     "name": "stdout",
     "output_type": "stream",
     "text": [
      "\n",
      "*** Feature extraction finished ***\n",
      "*** Feature extraction started ***\n"
     ]
    },
    {
     "data": {
      "text/html": [
       "\n",
       "              <p>\n",
       "                  Progress: 100% Complete\n",
       "              <p/>\n",
       "              <progress\n",
       "                  value='20'\n",
       "                  max='20',\n",
       "                  style='width: 25%',\n",
       "              >\n",
       "                  20\n",
       "              </progress>\n",
       "\n",
       "    "
      ],
      "text/plain": [
       "<IPython.core.display.HTML object>"
      ]
     },
     "metadata": {},
     "output_type": "display_data"
    },
    {
     "name": "stdout",
     "output_type": "stream",
     "text": [
      "\n",
      "*** Feature extraction finished ***\n",
      "*** Feature extraction started ***\n"
     ]
    },
    {
     "data": {
      "text/html": [
       "\n",
       "              <p>\n",
       "                  Progress: 100% Complete\n",
       "              <p/>\n",
       "              <progress\n",
       "                  value='20'\n",
       "                  max='20',\n",
       "                  style='width: 25%',\n",
       "              >\n",
       "                  20\n",
       "              </progress>\n",
       "\n",
       "    "
      ],
      "text/plain": [
       "<IPython.core.display.HTML object>"
      ]
     },
     "metadata": {},
     "output_type": "display_data"
    },
    {
     "name": "stdout",
     "output_type": "stream",
     "text": [
      "\n",
      "*** Feature extraction finished ***\n",
      "*** Feature extraction started ***\n"
     ]
    },
    {
     "data": {
      "text/html": [
       "\n",
       "              <p>\n",
       "                  Progress: 100% Complete\n",
       "              <p/>\n",
       "              <progress\n",
       "                  value='20'\n",
       "                  max='20',\n",
       "                  style='width: 25%',\n",
       "              >\n",
       "                  20\n",
       "              </progress>\n",
       "\n",
       "    "
      ],
      "text/plain": [
       "<IPython.core.display.HTML object>"
      ]
     },
     "metadata": {},
     "output_type": "display_data"
    },
    {
     "name": "stdout",
     "output_type": "stream",
     "text": [
      "\n",
      "*** Feature extraction finished ***\n",
      "*** Feature extraction started ***\n"
     ]
    },
    {
     "data": {
      "text/html": [
       "\n",
       "              <p>\n",
       "                  Progress: 100% Complete\n",
       "              <p/>\n",
       "              <progress\n",
       "                  value='20'\n",
       "                  max='20',\n",
       "                  style='width: 25%',\n",
       "              >\n",
       "                  20\n",
       "              </progress>\n",
       "\n",
       "    "
      ],
      "text/plain": [
       "<IPython.core.display.HTML object>"
      ]
     },
     "metadata": {},
     "output_type": "display_data"
    },
    {
     "name": "stdout",
     "output_type": "stream",
     "text": [
      "\n",
      "*** Feature extraction finished ***\n",
      "*** Feature extraction started ***\n"
     ]
    },
    {
     "data": {
      "text/html": [
       "\n",
       "              <p>\n",
       "                  Progress: 100% Complete\n",
       "              <p/>\n",
       "              <progress\n",
       "                  value='20'\n",
       "                  max='20',\n",
       "                  style='width: 25%',\n",
       "              >\n",
       "                  20\n",
       "              </progress>\n",
       "\n",
       "    "
      ],
      "text/plain": [
       "<IPython.core.display.HTML object>"
      ]
     },
     "metadata": {},
     "output_type": "display_data"
    },
    {
     "name": "stdout",
     "output_type": "stream",
     "text": [
      "\n",
      "*** Feature extraction finished ***\n",
      "*** Feature extraction started ***\n"
     ]
    },
    {
     "data": {
      "text/html": [
       "\n",
       "              <p>\n",
       "                  Progress: 100% Complete\n",
       "              <p/>\n",
       "              <progress\n",
       "                  value='20'\n",
       "                  max='20',\n",
       "                  style='width: 25%',\n",
       "              >\n",
       "                  20\n",
       "              </progress>\n",
       "\n",
       "    "
      ],
      "text/plain": [
       "<IPython.core.display.HTML object>"
      ]
     },
     "metadata": {},
     "output_type": "display_data"
    },
    {
     "name": "stdout",
     "output_type": "stream",
     "text": [
      "\n",
      "*** Feature extraction finished ***\n",
      "*** Feature extraction started ***\n"
     ]
    },
    {
     "data": {
      "text/html": [
       "\n",
       "              <p>\n",
       "                  Progress: 100% Complete\n",
       "              <p/>\n",
       "              <progress\n",
       "                  value='20'\n",
       "                  max='20',\n",
       "                  style='width: 25%',\n",
       "              >\n",
       "                  20\n",
       "              </progress>\n",
       "\n",
       "    "
      ],
      "text/plain": [
       "<IPython.core.display.HTML object>"
      ]
     },
     "metadata": {},
     "output_type": "display_data"
    },
    {
     "name": "stdout",
     "output_type": "stream",
     "text": [
      "\n",
      "*** Feature extraction finished ***\n",
      "*** Feature extraction started ***\n"
     ]
    },
    {
     "data": {
      "text/html": [
       "\n",
       "              <p>\n",
       "                  Progress: 100% Complete\n",
       "              <p/>\n",
       "              <progress\n",
       "                  value='20'\n",
       "                  max='20',\n",
       "                  style='width: 25%',\n",
       "              >\n",
       "                  20\n",
       "              </progress>\n",
       "\n",
       "    "
      ],
      "text/plain": [
       "<IPython.core.display.HTML object>"
      ]
     },
     "metadata": {},
     "output_type": "display_data"
    },
    {
     "name": "stdout",
     "output_type": "stream",
     "text": [
      "\n",
      "*** Feature extraction finished ***\n",
      "*** Feature extraction started ***\n"
     ]
    },
    {
     "data": {
      "text/html": [
       "\n",
       "              <p>\n",
       "                  Progress: 100% Complete\n",
       "              <p/>\n",
       "              <progress\n",
       "                  value='20'\n",
       "                  max='20',\n",
       "                  style='width: 25%',\n",
       "              >\n",
       "                  20\n",
       "              </progress>\n",
       "\n",
       "    "
      ],
      "text/plain": [
       "<IPython.core.display.HTML object>"
      ]
     },
     "metadata": {},
     "output_type": "display_data"
    },
    {
     "name": "stdout",
     "output_type": "stream",
     "text": [
      "\n",
      "*** Feature extraction finished ***\n",
      "*** Feature extraction started ***\n"
     ]
    },
    {
     "data": {
      "text/html": [
       "\n",
       "              <p>\n",
       "                  Progress: 100% Complete\n",
       "              <p/>\n",
       "              <progress\n",
       "                  value='20'\n",
       "                  max='20',\n",
       "                  style='width: 25%',\n",
       "              >\n",
       "                  20\n",
       "              </progress>\n",
       "\n",
       "    "
      ],
      "text/plain": [
       "<IPython.core.display.HTML object>"
      ]
     },
     "metadata": {},
     "output_type": "display_data"
    },
    {
     "name": "stdout",
     "output_type": "stream",
     "text": [
      "\n",
      "*** Feature extraction finished ***\n",
      "*** Feature extraction started ***\n"
     ]
    },
    {
     "data": {
      "text/html": [
       "\n",
       "              <p>\n",
       "                  Progress: 100% Complete\n",
       "              <p/>\n",
       "              <progress\n",
       "                  value='20'\n",
       "                  max='20',\n",
       "                  style='width: 25%',\n",
       "              >\n",
       "                  20\n",
       "              </progress>\n",
       "\n",
       "    "
      ],
      "text/plain": [
       "<IPython.core.display.HTML object>"
      ]
     },
     "metadata": {},
     "output_type": "display_data"
    },
    {
     "name": "stdout",
     "output_type": "stream",
     "text": [
      "\n",
      "*** Feature extraction finished ***\n",
      "*** Feature extraction started ***\n"
     ]
    },
    {
     "data": {
      "text/html": [
       "\n",
       "              <p>\n",
       "                  Progress: 100% Complete\n",
       "              <p/>\n",
       "              <progress\n",
       "                  value='20'\n",
       "                  max='20',\n",
       "                  style='width: 25%',\n",
       "              >\n",
       "                  20\n",
       "              </progress>\n",
       "\n",
       "    "
      ],
      "text/plain": [
       "<IPython.core.display.HTML object>"
      ]
     },
     "metadata": {},
     "output_type": "display_data"
    },
    {
     "name": "stdout",
     "output_type": "stream",
     "text": [
      "\n",
      "*** Feature extraction finished ***\n",
      "*** Feature extraction started ***\n"
     ]
    },
    {
     "data": {
      "text/html": [
       "\n",
       "              <p>\n",
       "                  Progress: 100% Complete\n",
       "              <p/>\n",
       "              <progress\n",
       "                  value='20'\n",
       "                  max='20',\n",
       "                  style='width: 25%',\n",
       "              >\n",
       "                  20\n",
       "              </progress>\n",
       "\n",
       "    "
      ],
      "text/plain": [
       "<IPython.core.display.HTML object>"
      ]
     },
     "metadata": {},
     "output_type": "display_data"
    },
    {
     "name": "stdout",
     "output_type": "stream",
     "text": [
      "\n",
      "*** Feature extraction finished ***\n",
      "*** Feature extraction started ***\n"
     ]
    },
    {
     "data": {
      "text/html": [
       "\n",
       "              <p>\n",
       "                  Progress: 100% Complete\n",
       "              <p/>\n",
       "              <progress\n",
       "                  value='20'\n",
       "                  max='20',\n",
       "                  style='width: 25%',\n",
       "              >\n",
       "                  20\n",
       "              </progress>\n",
       "\n",
       "    "
      ],
      "text/plain": [
       "<IPython.core.display.HTML object>"
      ]
     },
     "metadata": {},
     "output_type": "display_data"
    },
    {
     "name": "stdout",
     "output_type": "stream",
     "text": [
      "\n",
      "*** Feature extraction finished ***\n",
      "*** Feature extraction started ***\n"
     ]
    },
    {
     "data": {
      "text/html": [
       "\n",
       "              <p>\n",
       "                  Progress: 100% Complete\n",
       "              <p/>\n",
       "              <progress\n",
       "                  value='20'\n",
       "                  max='20',\n",
       "                  style='width: 25%',\n",
       "              >\n",
       "                  20\n",
       "              </progress>\n",
       "\n",
       "    "
      ],
      "text/plain": [
       "<IPython.core.display.HTML object>"
      ]
     },
     "metadata": {},
     "output_type": "display_data"
    },
    {
     "name": "stdout",
     "output_type": "stream",
     "text": [
      "\n",
      "*** Feature extraction finished ***\n",
      "*** Feature extraction started ***\n"
     ]
    },
    {
     "data": {
      "text/html": [
       "\n",
       "              <p>\n",
       "                  Progress: 100% Complete\n",
       "              <p/>\n",
       "              <progress\n",
       "                  value='20'\n",
       "                  max='20',\n",
       "                  style='width: 25%',\n",
       "              >\n",
       "                  20\n",
       "              </progress>\n",
       "\n",
       "    "
      ],
      "text/plain": [
       "<IPython.core.display.HTML object>"
      ]
     },
     "metadata": {},
     "output_type": "display_data"
    },
    {
     "name": "stdout",
     "output_type": "stream",
     "text": [
      "\n",
      "*** Feature extraction finished ***\n",
      "*** Feature extraction started ***\n"
     ]
    },
    {
     "data": {
      "text/html": [
       "\n",
       "              <p>\n",
       "                  Progress: 100% Complete\n",
       "              <p/>\n",
       "              <progress\n",
       "                  value='20'\n",
       "                  max='20',\n",
       "                  style='width: 25%',\n",
       "              >\n",
       "                  20\n",
       "              </progress>\n",
       "\n",
       "    "
      ],
      "text/plain": [
       "<IPython.core.display.HTML object>"
      ]
     },
     "metadata": {},
     "output_type": "display_data"
    },
    {
     "name": "stdout",
     "output_type": "stream",
     "text": [
      "\n",
      "*** Feature extraction finished ***\n",
      "*** Feature extraction started ***\n"
     ]
    },
    {
     "data": {
      "text/html": [
       "\n",
       "              <p>\n",
       "                  Progress: 100% Complete\n",
       "              <p/>\n",
       "              <progress\n",
       "                  value='20'\n",
       "                  max='20',\n",
       "                  style='width: 25%',\n",
       "              >\n",
       "                  20\n",
       "              </progress>\n",
       "\n",
       "    "
      ],
      "text/plain": [
       "<IPython.core.display.HTML object>"
      ]
     },
     "metadata": {},
     "output_type": "display_data"
    },
    {
     "name": "stdout",
     "output_type": "stream",
     "text": [
      "\n",
      "*** Feature extraction finished ***\n",
      "*** Feature extraction started ***\n"
     ]
    },
    {
     "data": {
      "text/html": [
       "\n",
       "              <p>\n",
       "                  Progress: 100% Complete\n",
       "              <p/>\n",
       "              <progress\n",
       "                  value='20'\n",
       "                  max='20',\n",
       "                  style='width: 25%',\n",
       "              >\n",
       "                  20\n",
       "              </progress>\n",
       "\n",
       "    "
      ],
      "text/plain": [
       "<IPython.core.display.HTML object>"
      ]
     },
     "metadata": {},
     "output_type": "display_data"
    },
    {
     "name": "stdout",
     "output_type": "stream",
     "text": [
      "\n",
      "*** Feature extraction finished ***\n",
      "*** Feature extraction started ***\n"
     ]
    },
    {
     "data": {
      "text/html": [
       "\n",
       "              <p>\n",
       "                  Progress: 100% Complete\n",
       "              <p/>\n",
       "              <progress\n",
       "                  value='20'\n",
       "                  max='20',\n",
       "                  style='width: 25%',\n",
       "              >\n",
       "                  20\n",
       "              </progress>\n",
       "\n",
       "    "
      ],
      "text/plain": [
       "<IPython.core.display.HTML object>"
      ]
     },
     "metadata": {},
     "output_type": "display_data"
    },
    {
     "name": "stdout",
     "output_type": "stream",
     "text": [
      "\n",
      "*** Feature extraction finished ***\n",
      "*** Feature extraction started ***\n"
     ]
    },
    {
     "data": {
      "text/html": [
       "\n",
       "              <p>\n",
       "                  Progress: 100% Complete\n",
       "              <p/>\n",
       "              <progress\n",
       "                  value='20'\n",
       "                  max='20',\n",
       "                  style='width: 25%',\n",
       "              >\n",
       "                  20\n",
       "              </progress>\n",
       "\n",
       "    "
      ],
      "text/plain": [
       "<IPython.core.display.HTML object>"
      ]
     },
     "metadata": {},
     "output_type": "display_data"
    },
    {
     "name": "stdout",
     "output_type": "stream",
     "text": [
      "\n",
      "*** Feature extraction finished ***\n",
      "*** Feature extraction started ***\n"
     ]
    },
    {
     "data": {
      "text/html": [
       "\n",
       "              <p>\n",
       "                  Progress: 100% Complete\n",
       "              <p/>\n",
       "              <progress\n",
       "                  value='20'\n",
       "                  max='20',\n",
       "                  style='width: 25%',\n",
       "              >\n",
       "                  20\n",
       "              </progress>\n",
       "\n",
       "    "
      ],
      "text/plain": [
       "<IPython.core.display.HTML object>"
      ]
     },
     "metadata": {},
     "output_type": "display_data"
    },
    {
     "name": "stdout",
     "output_type": "stream",
     "text": [
      "\n",
      "*** Feature extraction finished ***\n",
      "*** Feature extraction started ***\n"
     ]
    },
    {
     "data": {
      "text/html": [
       "\n",
       "              <p>\n",
       "                  Progress: 100% Complete\n",
       "              <p/>\n",
       "              <progress\n",
       "                  value='20'\n",
       "                  max='20',\n",
       "                  style='width: 25%',\n",
       "              >\n",
       "                  20\n",
       "              </progress>\n",
       "\n",
       "    "
      ],
      "text/plain": [
       "<IPython.core.display.HTML object>"
      ]
     },
     "metadata": {},
     "output_type": "display_data"
    },
    {
     "name": "stdout",
     "output_type": "stream",
     "text": [
      "\n",
      "*** Feature extraction finished ***\n",
      "*** Feature extraction started ***\n"
     ]
    },
    {
     "data": {
      "text/html": [
       "\n",
       "              <p>\n",
       "                  Progress: 100% Complete\n",
       "              <p/>\n",
       "              <progress\n",
       "                  value='20'\n",
       "                  max='20',\n",
       "                  style='width: 25%',\n",
       "              >\n",
       "                  20\n",
       "              </progress>\n",
       "\n",
       "    "
      ],
      "text/plain": [
       "<IPython.core.display.HTML object>"
      ]
     },
     "metadata": {},
     "output_type": "display_data"
    },
    {
     "name": "stdout",
     "output_type": "stream",
     "text": [
      "\n",
      "*** Feature extraction finished ***\n",
      "*** Feature extraction started ***\n"
     ]
    },
    {
     "data": {
      "text/html": [
       "\n",
       "              <p>\n",
       "                  Progress: 100% Complete\n",
       "              <p/>\n",
       "              <progress\n",
       "                  value='20'\n",
       "                  max='20',\n",
       "                  style='width: 25%',\n",
       "              >\n",
       "                  20\n",
       "              </progress>\n",
       "\n",
       "    "
      ],
      "text/plain": [
       "<IPython.core.display.HTML object>"
      ]
     },
     "metadata": {},
     "output_type": "display_data"
    },
    {
     "name": "stdout",
     "output_type": "stream",
     "text": [
      "\n",
      "*** Feature extraction finished ***\n",
      "*** Feature extraction started ***\n"
     ]
    },
    {
     "data": {
      "text/html": [
       "\n",
       "              <p>\n",
       "                  Progress: 100% Complete\n",
       "              <p/>\n",
       "              <progress\n",
       "                  value='20'\n",
       "                  max='20',\n",
       "                  style='width: 25%',\n",
       "              >\n",
       "                  20\n",
       "              </progress>\n",
       "\n",
       "    "
      ],
      "text/plain": [
       "<IPython.core.display.HTML object>"
      ]
     },
     "metadata": {},
     "output_type": "display_data"
    },
    {
     "name": "stdout",
     "output_type": "stream",
     "text": [
      "\n",
      "*** Feature extraction finished ***\n",
      "*** Feature extraction started ***\n"
     ]
    },
    {
     "data": {
      "text/html": [
       "\n",
       "              <p>\n",
       "                  Progress: 100% Complete\n",
       "              <p/>\n",
       "              <progress\n",
       "                  value='20'\n",
       "                  max='20',\n",
       "                  style='width: 25%',\n",
       "              >\n",
       "                  20\n",
       "              </progress>\n",
       "\n",
       "    "
      ],
      "text/plain": [
       "<IPython.core.display.HTML object>"
      ]
     },
     "metadata": {},
     "output_type": "display_data"
    },
    {
     "name": "stdout",
     "output_type": "stream",
     "text": [
      "\n",
      "*** Feature extraction finished ***\n",
      "*** Feature extraction started ***\n"
     ]
    },
    {
     "data": {
      "text/html": [
       "\n",
       "              <p>\n",
       "                  Progress: 100% Complete\n",
       "              <p/>\n",
       "              <progress\n",
       "                  value='20'\n",
       "                  max='20',\n",
       "                  style='width: 25%',\n",
       "              >\n",
       "                  20\n",
       "              </progress>\n",
       "\n",
       "    "
      ],
      "text/plain": [
       "<IPython.core.display.HTML object>"
      ]
     },
     "metadata": {},
     "output_type": "display_data"
    },
    {
     "name": "stdout",
     "output_type": "stream",
     "text": [
      "\n",
      "*** Feature extraction finished ***\n",
      "*** Feature extraction started ***\n"
     ]
    },
    {
     "data": {
      "text/html": [
       "\n",
       "              <p>\n",
       "                  Progress: 100% Complete\n",
       "              <p/>\n",
       "              <progress\n",
       "                  value='20'\n",
       "                  max='20',\n",
       "                  style='width: 25%',\n",
       "              >\n",
       "                  20\n",
       "              </progress>\n",
       "\n",
       "    "
      ],
      "text/plain": [
       "<IPython.core.display.HTML object>"
      ]
     },
     "metadata": {},
     "output_type": "display_data"
    },
    {
     "name": "stdout",
     "output_type": "stream",
     "text": [
      "\n",
      "*** Feature extraction finished ***\n",
      "*** Feature extraction started ***\n"
     ]
    },
    {
     "data": {
      "text/html": [
       "\n",
       "              <p>\n",
       "                  Progress: 100% Complete\n",
       "              <p/>\n",
       "              <progress\n",
       "                  value='20'\n",
       "                  max='20',\n",
       "                  style='width: 25%',\n",
       "              >\n",
       "                  20\n",
       "              </progress>\n",
       "\n",
       "    "
      ],
      "text/plain": [
       "<IPython.core.display.HTML object>"
      ]
     },
     "metadata": {},
     "output_type": "display_data"
    },
    {
     "name": "stdout",
     "output_type": "stream",
     "text": [
      "\n",
      "*** Feature extraction finished ***\n",
      "*** Feature extraction started ***\n"
     ]
    },
    {
     "data": {
      "text/html": [
       "\n",
       "              <p>\n",
       "                  Progress: 100% Complete\n",
       "              <p/>\n",
       "              <progress\n",
       "                  value='20'\n",
       "                  max='20',\n",
       "                  style='width: 25%',\n",
       "              >\n",
       "                  20\n",
       "              </progress>\n",
       "\n",
       "    "
      ],
      "text/plain": [
       "<IPython.core.display.HTML object>"
      ]
     },
     "metadata": {},
     "output_type": "display_data"
    },
    {
     "name": "stdout",
     "output_type": "stream",
     "text": [
      "\n",
      "*** Feature extraction finished ***\n",
      "*** Feature extraction started ***\n"
     ]
    },
    {
     "data": {
      "text/html": [
       "\n",
       "              <p>\n",
       "                  Progress: 100% Complete\n",
       "              <p/>\n",
       "              <progress\n",
       "                  value='20'\n",
       "                  max='20',\n",
       "                  style='width: 25%',\n",
       "              >\n",
       "                  20\n",
       "              </progress>\n",
       "\n",
       "    "
      ],
      "text/plain": [
       "<IPython.core.display.HTML object>"
      ]
     },
     "metadata": {},
     "output_type": "display_data"
    },
    {
     "name": "stdout",
     "output_type": "stream",
     "text": [
      "\n",
      "*** Feature extraction finished ***\n",
      "*** Feature extraction started ***\n"
     ]
    },
    {
     "data": {
      "text/html": [
       "\n",
       "              <p>\n",
       "                  Progress: 100% Complete\n",
       "              <p/>\n",
       "              <progress\n",
       "                  value='20'\n",
       "                  max='20',\n",
       "                  style='width: 25%',\n",
       "              >\n",
       "                  20\n",
       "              </progress>\n",
       "\n",
       "    "
      ],
      "text/plain": [
       "<IPython.core.display.HTML object>"
      ]
     },
     "metadata": {},
     "output_type": "display_data"
    },
    {
     "name": "stdout",
     "output_type": "stream",
     "text": [
      "\n",
      "*** Feature extraction finished ***\n",
      "*** Feature extraction started ***\n"
     ]
    },
    {
     "data": {
      "text/html": [
       "\n",
       "              <p>\n",
       "                  Progress: 100% Complete\n",
       "              <p/>\n",
       "              <progress\n",
       "                  value='20'\n",
       "                  max='20',\n",
       "                  style='width: 25%',\n",
       "              >\n",
       "                  20\n",
       "              </progress>\n",
       "\n",
       "    "
      ],
      "text/plain": [
       "<IPython.core.display.HTML object>"
      ]
     },
     "metadata": {},
     "output_type": "display_data"
    },
    {
     "name": "stdout",
     "output_type": "stream",
     "text": [
      "\n",
      "*** Feature extraction finished ***\n",
      "*** Feature extraction started ***\n"
     ]
    },
    {
     "data": {
      "text/html": [
       "\n",
       "              <p>\n",
       "                  Progress: 100% Complete\n",
       "              <p/>\n",
       "              <progress\n",
       "                  value='20'\n",
       "                  max='20',\n",
       "                  style='width: 25%',\n",
       "              >\n",
       "                  20\n",
       "              </progress>\n",
       "\n",
       "    "
      ],
      "text/plain": [
       "<IPython.core.display.HTML object>"
      ]
     },
     "metadata": {},
     "output_type": "display_data"
    },
    {
     "name": "stdout",
     "output_type": "stream",
     "text": [
      "\n",
      "*** Feature extraction finished ***\n",
      "*** Feature extraction started ***\n"
     ]
    },
    {
     "data": {
      "text/html": [
       "\n",
       "              <p>\n",
       "                  Progress: 100% Complete\n",
       "              <p/>\n",
       "              <progress\n",
       "                  value='20'\n",
       "                  max='20',\n",
       "                  style='width: 25%',\n",
       "              >\n",
       "                  20\n",
       "              </progress>\n",
       "\n",
       "    "
      ],
      "text/plain": [
       "<IPython.core.display.HTML object>"
      ]
     },
     "metadata": {},
     "output_type": "display_data"
    },
    {
     "name": "stdout",
     "output_type": "stream",
     "text": [
      "\n",
      "*** Feature extraction finished ***\n",
      "*** Feature extraction started ***\n"
     ]
    },
    {
     "data": {
      "text/html": [
       "\n",
       "              <p>\n",
       "                  Progress: 100% Complete\n",
       "              <p/>\n",
       "              <progress\n",
       "                  value='20'\n",
       "                  max='20',\n",
       "                  style='width: 25%',\n",
       "              >\n",
       "                  20\n",
       "              </progress>\n",
       "\n",
       "    "
      ],
      "text/plain": [
       "<IPython.core.display.HTML object>"
      ]
     },
     "metadata": {},
     "output_type": "display_data"
    },
    {
     "name": "stdout",
     "output_type": "stream",
     "text": [
      "\n",
      "*** Feature extraction finished ***\n",
      "*** Feature extraction started ***\n"
     ]
    },
    {
     "data": {
      "text/html": [
       "\n",
       "              <p>\n",
       "                  Progress: 100% Complete\n",
       "              <p/>\n",
       "              <progress\n",
       "                  value='20'\n",
       "                  max='20',\n",
       "                  style='width: 25%',\n",
       "              >\n",
       "                  20\n",
       "              </progress>\n",
       "\n",
       "    "
      ],
      "text/plain": [
       "<IPython.core.display.HTML object>"
      ]
     },
     "metadata": {},
     "output_type": "display_data"
    },
    {
     "name": "stdout",
     "output_type": "stream",
     "text": [
      "\n",
      "*** Feature extraction finished ***\n",
      "*** Feature extraction started ***\n"
     ]
    },
    {
     "data": {
      "text/html": [
       "\n",
       "              <p>\n",
       "                  Progress: 100% Complete\n",
       "              <p/>\n",
       "              <progress\n",
       "                  value='20'\n",
       "                  max='20',\n",
       "                  style='width: 25%',\n",
       "              >\n",
       "                  20\n",
       "              </progress>\n",
       "\n",
       "    "
      ],
      "text/plain": [
       "<IPython.core.display.HTML object>"
      ]
     },
     "metadata": {},
     "output_type": "display_data"
    },
    {
     "name": "stdout",
     "output_type": "stream",
     "text": [
      "\n",
      "*** Feature extraction finished ***\n",
      "*** Feature extraction started ***\n"
     ]
    },
    {
     "data": {
      "text/html": [
       "\n",
       "              <p>\n",
       "                  Progress: 100% Complete\n",
       "              <p/>\n",
       "              <progress\n",
       "                  value='20'\n",
       "                  max='20',\n",
       "                  style='width: 25%',\n",
       "              >\n",
       "                  20\n",
       "              </progress>\n",
       "\n",
       "    "
      ],
      "text/plain": [
       "<IPython.core.display.HTML object>"
      ]
     },
     "metadata": {},
     "output_type": "display_data"
    },
    {
     "name": "stdout",
     "output_type": "stream",
     "text": [
      "\n",
      "*** Feature extraction finished ***\n",
      "*** Feature extraction started ***\n"
     ]
    },
    {
     "data": {
      "text/html": [
       "\n",
       "              <p>\n",
       "                  Progress: 100% Complete\n",
       "              <p/>\n",
       "              <progress\n",
       "                  value='20'\n",
       "                  max='20',\n",
       "                  style='width: 25%',\n",
       "              >\n",
       "                  20\n",
       "              </progress>\n",
       "\n",
       "    "
      ],
      "text/plain": [
       "<IPython.core.display.HTML object>"
      ]
     },
     "metadata": {},
     "output_type": "display_data"
    },
    {
     "name": "stdout",
     "output_type": "stream",
     "text": [
      "\n",
      "*** Feature extraction finished ***\n",
      "*** Feature extraction started ***\n"
     ]
    },
    {
     "data": {
      "text/html": [
       "\n",
       "              <p>\n",
       "                  Progress: 100% Complete\n",
       "              <p/>\n",
       "              <progress\n",
       "                  value='20'\n",
       "                  max='20',\n",
       "                  style='width: 25%',\n",
       "              >\n",
       "                  20\n",
       "              </progress>\n",
       "\n",
       "    "
      ],
      "text/plain": [
       "<IPython.core.display.HTML object>"
      ]
     },
     "metadata": {},
     "output_type": "display_data"
    },
    {
     "name": "stdout",
     "output_type": "stream",
     "text": [
      "\n",
      "*** Feature extraction finished ***\n",
      "*** Feature extraction started ***\n"
     ]
    },
    {
     "data": {
      "text/html": [
       "\n",
       "              <p>\n",
       "                  Progress: 100% Complete\n",
       "              <p/>\n",
       "              <progress\n",
       "                  value='20'\n",
       "                  max='20',\n",
       "                  style='width: 25%',\n",
       "              >\n",
       "                  20\n",
       "              </progress>\n",
       "\n",
       "    "
      ],
      "text/plain": [
       "<IPython.core.display.HTML object>"
      ]
     },
     "metadata": {},
     "output_type": "display_data"
    },
    {
     "name": "stdout",
     "output_type": "stream",
     "text": [
      "\n",
      "*** Feature extraction finished ***\n",
      "*** Feature extraction started ***\n"
     ]
    },
    {
     "data": {
      "text/html": [
       "\n",
       "              <p>\n",
       "                  Progress: 100% Complete\n",
       "              <p/>\n",
       "              <progress\n",
       "                  value='20'\n",
       "                  max='20',\n",
       "                  style='width: 25%',\n",
       "              >\n",
       "                  20\n",
       "              </progress>\n",
       "\n",
       "    "
      ],
      "text/plain": [
       "<IPython.core.display.HTML object>"
      ]
     },
     "metadata": {},
     "output_type": "display_data"
    },
    {
     "name": "stdout",
     "output_type": "stream",
     "text": [
      "\n",
      "*** Feature extraction finished ***\n",
      "*** Feature extraction started ***\n"
     ]
    },
    {
     "data": {
      "text/html": [
       "\n",
       "              <p>\n",
       "                  Progress: 100% Complete\n",
       "              <p/>\n",
       "              <progress\n",
       "                  value='20'\n",
       "                  max='20',\n",
       "                  style='width: 25%',\n",
       "              >\n",
       "                  20\n",
       "              </progress>\n",
       "\n",
       "    "
      ],
      "text/plain": [
       "<IPython.core.display.HTML object>"
      ]
     },
     "metadata": {},
     "output_type": "display_data"
    },
    {
     "name": "stdout",
     "output_type": "stream",
     "text": [
      "\n",
      "*** Feature extraction finished ***\n",
      "*** Feature extraction started ***\n"
     ]
    },
    {
     "data": {
      "text/html": [
       "\n",
       "              <p>\n",
       "                  Progress: 100% Complete\n",
       "              <p/>\n",
       "              <progress\n",
       "                  value='20'\n",
       "                  max='20',\n",
       "                  style='width: 25%',\n",
       "              >\n",
       "                  20\n",
       "              </progress>\n",
       "\n",
       "    "
      ],
      "text/plain": [
       "<IPython.core.display.HTML object>"
      ]
     },
     "metadata": {},
     "output_type": "display_data"
    },
    {
     "name": "stdout",
     "output_type": "stream",
     "text": [
      "\n",
      "*** Feature extraction finished ***\n",
      "*** Feature extraction started ***\n"
     ]
    },
    {
     "data": {
      "text/html": [
       "\n",
       "              <p>\n",
       "                  Progress: 100% Complete\n",
       "              <p/>\n",
       "              <progress\n",
       "                  value='20'\n",
       "                  max='20',\n",
       "                  style='width: 25%',\n",
       "              >\n",
       "                  20\n",
       "              </progress>\n",
       "\n",
       "    "
      ],
      "text/plain": [
       "<IPython.core.display.HTML object>"
      ]
     },
     "metadata": {},
     "output_type": "display_data"
    },
    {
     "name": "stdout",
     "output_type": "stream",
     "text": [
      "\n",
      "*** Feature extraction finished ***\n",
      "*** Feature extraction started ***\n"
     ]
    },
    {
     "data": {
      "text/html": [
       "\n",
       "              <p>\n",
       "                  Progress: 100% Complete\n",
       "              <p/>\n",
       "              <progress\n",
       "                  value='20'\n",
       "                  max='20',\n",
       "                  style='width: 25%',\n",
       "              >\n",
       "                  20\n",
       "              </progress>\n",
       "\n",
       "    "
      ],
      "text/plain": [
       "<IPython.core.display.HTML object>"
      ]
     },
     "metadata": {},
     "output_type": "display_data"
    },
    {
     "name": "stdout",
     "output_type": "stream",
     "text": [
      "\n",
      "*** Feature extraction finished ***\n",
      "*** Feature extraction started ***\n"
     ]
    },
    {
     "data": {
      "text/html": [
       "\n",
       "              <p>\n",
       "                  Progress: 100% Complete\n",
       "              <p/>\n",
       "              <progress\n",
       "                  value='20'\n",
       "                  max='20',\n",
       "                  style='width: 25%',\n",
       "              >\n",
       "                  20\n",
       "              </progress>\n",
       "\n",
       "    "
      ],
      "text/plain": [
       "<IPython.core.display.HTML object>"
      ]
     },
     "metadata": {},
     "output_type": "display_data"
    },
    {
     "name": "stdout",
     "output_type": "stream",
     "text": [
      "\n",
      "*** Feature extraction finished ***\n",
      "*** Feature extraction started ***\n"
     ]
    },
    {
     "data": {
      "text/html": [
       "\n",
       "              <p>\n",
       "                  Progress: 100% Complete\n",
       "              <p/>\n",
       "              <progress\n",
       "                  value='20'\n",
       "                  max='20',\n",
       "                  style='width: 25%',\n",
       "              >\n",
       "                  20\n",
       "              </progress>\n",
       "\n",
       "    "
      ],
      "text/plain": [
       "<IPython.core.display.HTML object>"
      ]
     },
     "metadata": {},
     "output_type": "display_data"
    },
    {
     "name": "stdout",
     "output_type": "stream",
     "text": [
      "\n",
      "*** Feature extraction finished ***\n",
      "*** Feature extraction started ***\n"
     ]
    },
    {
     "data": {
      "text/html": [
       "\n",
       "              <p>\n",
       "                  Progress: 100% Complete\n",
       "              <p/>\n",
       "              <progress\n",
       "                  value='20'\n",
       "                  max='20',\n",
       "                  style='width: 25%',\n",
       "              >\n",
       "                  20\n",
       "              </progress>\n",
       "\n",
       "    "
      ],
      "text/plain": [
       "<IPython.core.display.HTML object>"
      ]
     },
     "metadata": {},
     "output_type": "display_data"
    },
    {
     "name": "stdout",
     "output_type": "stream",
     "text": [
      "\n",
      "*** Feature extraction finished ***\n",
      "*** Feature extraction started ***\n"
     ]
    },
    {
     "data": {
      "text/html": [
       "\n",
       "              <p>\n",
       "                  Progress: 100% Complete\n",
       "              <p/>\n",
       "              <progress\n",
       "                  value='20'\n",
       "                  max='20',\n",
       "                  style='width: 25%',\n",
       "              >\n",
       "                  20\n",
       "              </progress>\n",
       "\n",
       "    "
      ],
      "text/plain": [
       "<IPython.core.display.HTML object>"
      ]
     },
     "metadata": {},
     "output_type": "display_data"
    },
    {
     "name": "stdout",
     "output_type": "stream",
     "text": [
      "\n",
      "*** Feature extraction finished ***\n",
      "*** Feature extraction started ***\n"
     ]
    },
    {
     "data": {
      "text/html": [
       "\n",
       "              <p>\n",
       "                  Progress: 100% Complete\n",
       "              <p/>\n",
       "              <progress\n",
       "                  value='20'\n",
       "                  max='20',\n",
       "                  style='width: 25%',\n",
       "              >\n",
       "                  20\n",
       "              </progress>\n",
       "\n",
       "    "
      ],
      "text/plain": [
       "<IPython.core.display.HTML object>"
      ]
     },
     "metadata": {},
     "output_type": "display_data"
    },
    {
     "name": "stdout",
     "output_type": "stream",
     "text": [
      "\n",
      "*** Feature extraction finished ***\n",
      "*** Feature extraction started ***\n"
     ]
    },
    {
     "data": {
      "text/html": [
       "\n",
       "              <p>\n",
       "                  Progress: 100% Complete\n",
       "              <p/>\n",
       "              <progress\n",
       "                  value='20'\n",
       "                  max='20',\n",
       "                  style='width: 25%',\n",
       "              >\n",
       "                  20\n",
       "              </progress>\n",
       "\n",
       "    "
      ],
      "text/plain": [
       "<IPython.core.display.HTML object>"
      ]
     },
     "metadata": {},
     "output_type": "display_data"
    },
    {
     "name": "stdout",
     "output_type": "stream",
     "text": [
      "\n",
      "*** Feature extraction finished ***\n",
      "*** Feature extraction started ***\n"
     ]
    },
    {
     "data": {
      "text/html": [
       "\n",
       "              <p>\n",
       "                  Progress: 100% Complete\n",
       "              <p/>\n",
       "              <progress\n",
       "                  value='20'\n",
       "                  max='20',\n",
       "                  style='width: 25%',\n",
       "              >\n",
       "                  20\n",
       "              </progress>\n",
       "\n",
       "    "
      ],
      "text/plain": [
       "<IPython.core.display.HTML object>"
      ]
     },
     "metadata": {},
     "output_type": "display_data"
    },
    {
     "name": "stdout",
     "output_type": "stream",
     "text": [
      "\n",
      "*** Feature extraction finished ***\n",
      "*** Feature extraction started ***\n"
     ]
    },
    {
     "data": {
      "text/html": [
       "\n",
       "              <p>\n",
       "                  Progress: 100% Complete\n",
       "              <p/>\n",
       "              <progress\n",
       "                  value='20'\n",
       "                  max='20',\n",
       "                  style='width: 25%',\n",
       "              >\n",
       "                  20\n",
       "              </progress>\n",
       "\n",
       "    "
      ],
      "text/plain": [
       "<IPython.core.display.HTML object>"
      ]
     },
     "metadata": {},
     "output_type": "display_data"
    },
    {
     "name": "stdout",
     "output_type": "stream",
     "text": [
      "\n",
      "*** Feature extraction finished ***\n",
      "*** Feature extraction started ***\n"
     ]
    },
    {
     "data": {
      "text/html": [
       "\n",
       "              <p>\n",
       "                  Progress: 100% Complete\n",
       "              <p/>\n",
       "              <progress\n",
       "                  value='20'\n",
       "                  max='20',\n",
       "                  style='width: 25%',\n",
       "              >\n",
       "                  20\n",
       "              </progress>\n",
       "\n",
       "    "
      ],
      "text/plain": [
       "<IPython.core.display.HTML object>"
      ]
     },
     "metadata": {},
     "output_type": "display_data"
    },
    {
     "name": "stdout",
     "output_type": "stream",
     "text": [
      "\n",
      "*** Feature extraction finished ***\n",
      "*** Feature extraction started ***\n"
     ]
    },
    {
     "data": {
      "text/html": [
       "\n",
       "              <p>\n",
       "                  Progress: 100% Complete\n",
       "              <p/>\n",
       "              <progress\n",
       "                  value='20'\n",
       "                  max='20',\n",
       "                  style='width: 25%',\n",
       "              >\n",
       "                  20\n",
       "              </progress>\n",
       "\n",
       "    "
      ],
      "text/plain": [
       "<IPython.core.display.HTML object>"
      ]
     },
     "metadata": {},
     "output_type": "display_data"
    },
    {
     "name": "stdout",
     "output_type": "stream",
     "text": [
      "\n",
      "*** Feature extraction finished ***\n",
      "*** Feature extraction started ***\n"
     ]
    },
    {
     "data": {
      "text/html": [
       "\n",
       "              <p>\n",
       "                  Progress: 100% Complete\n",
       "              <p/>\n",
       "              <progress\n",
       "                  value='20'\n",
       "                  max='20',\n",
       "                  style='width: 25%',\n",
       "              >\n",
       "                  20\n",
       "              </progress>\n",
       "\n",
       "    "
      ],
      "text/plain": [
       "<IPython.core.display.HTML object>"
      ]
     },
     "metadata": {},
     "output_type": "display_data"
    },
    {
     "name": "stdout",
     "output_type": "stream",
     "text": [
      "\n",
      "*** Feature extraction finished ***\n",
      "*** Feature extraction started ***\n"
     ]
    },
    {
     "data": {
      "text/html": [
       "\n",
       "              <p>\n",
       "                  Progress: 100% Complete\n",
       "              <p/>\n",
       "              <progress\n",
       "                  value='20'\n",
       "                  max='20',\n",
       "                  style='width: 25%',\n",
       "              >\n",
       "                  20\n",
       "              </progress>\n",
       "\n",
       "    "
      ],
      "text/plain": [
       "<IPython.core.display.HTML object>"
      ]
     },
     "metadata": {},
     "output_type": "display_data"
    },
    {
     "name": "stdout",
     "output_type": "stream",
     "text": [
      "\n",
      "*** Feature extraction finished ***\n",
      "*** Feature extraction started ***\n"
     ]
    },
    {
     "data": {
      "text/html": [
       "\n",
       "              <p>\n",
       "                  Progress: 100% Complete\n",
       "              <p/>\n",
       "              <progress\n",
       "                  value='20'\n",
       "                  max='20',\n",
       "                  style='width: 25%',\n",
       "              >\n",
       "                  20\n",
       "              </progress>\n",
       "\n",
       "    "
      ],
      "text/plain": [
       "<IPython.core.display.HTML object>"
      ]
     },
     "metadata": {},
     "output_type": "display_data"
    },
    {
     "name": "stdout",
     "output_type": "stream",
     "text": [
      "\n",
      "*** Feature extraction finished ***\n",
      "*** Feature extraction started ***\n"
     ]
    },
    {
     "data": {
      "text/html": [
       "\n",
       "              <p>\n",
       "                  Progress: 100% Complete\n",
       "              <p/>\n",
       "              <progress\n",
       "                  value='20'\n",
       "                  max='20',\n",
       "                  style='width: 25%',\n",
       "              >\n",
       "                  20\n",
       "              </progress>\n",
       "\n",
       "    "
      ],
      "text/plain": [
       "<IPython.core.display.HTML object>"
      ]
     },
     "metadata": {},
     "output_type": "display_data"
    },
    {
     "name": "stdout",
     "output_type": "stream",
     "text": [
      "\n",
      "*** Feature extraction finished ***\n",
      "*** Feature extraction started ***\n"
     ]
    },
    {
     "data": {
      "text/html": [
       "\n",
       "              <p>\n",
       "                  Progress: 100% Complete\n",
       "              <p/>\n",
       "              <progress\n",
       "                  value='20'\n",
       "                  max='20',\n",
       "                  style='width: 25%',\n",
       "              >\n",
       "                  20\n",
       "              </progress>\n",
       "\n",
       "    "
      ],
      "text/plain": [
       "<IPython.core.display.HTML object>"
      ]
     },
     "metadata": {},
     "output_type": "display_data"
    },
    {
     "name": "stdout",
     "output_type": "stream",
     "text": [
      "\n",
      "*** Feature extraction finished ***\n",
      "*** Feature extraction started ***\n"
     ]
    },
    {
     "data": {
      "text/html": [
       "\n",
       "              <p>\n",
       "                  Progress: 100% Complete\n",
       "              <p/>\n",
       "              <progress\n",
       "                  value='20'\n",
       "                  max='20',\n",
       "                  style='width: 25%',\n",
       "              >\n",
       "                  20\n",
       "              </progress>\n",
       "\n",
       "    "
      ],
      "text/plain": [
       "<IPython.core.display.HTML object>"
      ]
     },
     "metadata": {},
     "output_type": "display_data"
    },
    {
     "name": "stdout",
     "output_type": "stream",
     "text": [
      "\n",
      "*** Feature extraction finished ***\n",
      "*** Feature extraction started ***\n"
     ]
    },
    {
     "data": {
      "text/html": [
       "\n",
       "              <p>\n",
       "                  Progress: 100% Complete\n",
       "              <p/>\n",
       "              <progress\n",
       "                  value='20'\n",
       "                  max='20',\n",
       "                  style='width: 25%',\n",
       "              >\n",
       "                  20\n",
       "              </progress>\n",
       "\n",
       "    "
      ],
      "text/plain": [
       "<IPython.core.display.HTML object>"
      ]
     },
     "metadata": {},
     "output_type": "display_data"
    },
    {
     "name": "stdout",
     "output_type": "stream",
     "text": [
      "\n",
      "*** Feature extraction finished ***\n",
      "*** Feature extraction started ***\n"
     ]
    },
    {
     "data": {
      "text/html": [
       "\n",
       "              <p>\n",
       "                  Progress: 100% Complete\n",
       "              <p/>\n",
       "              <progress\n",
       "                  value='20'\n",
       "                  max='20',\n",
       "                  style='width: 25%',\n",
       "              >\n",
       "                  20\n",
       "              </progress>\n",
       "\n",
       "    "
      ],
      "text/plain": [
       "<IPython.core.display.HTML object>"
      ]
     },
     "metadata": {},
     "output_type": "display_data"
    },
    {
     "name": "stdout",
     "output_type": "stream",
     "text": [
      "\n",
      "*** Feature extraction finished ***\n",
      "*** Feature extraction started ***\n"
     ]
    },
    {
     "data": {
      "text/html": [
       "\n",
       "              <p>\n",
       "                  Progress: 100% Complete\n",
       "              <p/>\n",
       "              <progress\n",
       "                  value='20'\n",
       "                  max='20',\n",
       "                  style='width: 25%',\n",
       "              >\n",
       "                  20\n",
       "              </progress>\n",
       "\n",
       "    "
      ],
      "text/plain": [
       "<IPython.core.display.HTML object>"
      ]
     },
     "metadata": {},
     "output_type": "display_data"
    },
    {
     "name": "stdout",
     "output_type": "stream",
     "text": [
      "\n",
      "*** Feature extraction finished ***\n",
      "*** Feature extraction started ***\n"
     ]
    },
    {
     "data": {
      "text/html": [
       "\n",
       "              <p>\n",
       "                  Progress: 100% Complete\n",
       "              <p/>\n",
       "              <progress\n",
       "                  value='20'\n",
       "                  max='20',\n",
       "                  style='width: 25%',\n",
       "              >\n",
       "                  20\n",
       "              </progress>\n",
       "\n",
       "    "
      ],
      "text/plain": [
       "<IPython.core.display.HTML object>"
      ]
     },
     "metadata": {},
     "output_type": "display_data"
    },
    {
     "name": "stdout",
     "output_type": "stream",
     "text": [
      "\n",
      "*** Feature extraction finished ***\n",
      "*** Feature extraction started ***\n"
     ]
    },
    {
     "data": {
      "text/html": [
       "\n",
       "              <p>\n",
       "                  Progress: 100% Complete\n",
       "              <p/>\n",
       "              <progress\n",
       "                  value='20'\n",
       "                  max='20',\n",
       "                  style='width: 25%',\n",
       "              >\n",
       "                  20\n",
       "              </progress>\n",
       "\n",
       "    "
      ],
      "text/plain": [
       "<IPython.core.display.HTML object>"
      ]
     },
     "metadata": {},
     "output_type": "display_data"
    },
    {
     "name": "stdout",
     "output_type": "stream",
     "text": [
      "\n",
      "*** Feature extraction finished ***\n",
      "*** Feature extraction started ***\n"
     ]
    },
    {
     "data": {
      "text/html": [
       "\n",
       "              <p>\n",
       "                  Progress: 100% Complete\n",
       "              <p/>\n",
       "              <progress\n",
       "                  value='20'\n",
       "                  max='20',\n",
       "                  style='width: 25%',\n",
       "              >\n",
       "                  20\n",
       "              </progress>\n",
       "\n",
       "    "
      ],
      "text/plain": [
       "<IPython.core.display.HTML object>"
      ]
     },
     "metadata": {},
     "output_type": "display_data"
    },
    {
     "name": "stdout",
     "output_type": "stream",
     "text": [
      "\n",
      "*** Feature extraction finished ***\n",
      "*** Feature extraction started ***\n"
     ]
    },
    {
     "data": {
      "text/html": [
       "\n",
       "              <p>\n",
       "                  Progress: 100% Complete\n",
       "              <p/>\n",
       "              <progress\n",
       "                  value='20'\n",
       "                  max='20',\n",
       "                  style='width: 25%',\n",
       "              >\n",
       "                  20\n",
       "              </progress>\n",
       "\n",
       "    "
      ],
      "text/plain": [
       "<IPython.core.display.HTML object>"
      ]
     },
     "metadata": {},
     "output_type": "display_data"
    },
    {
     "name": "stdout",
     "output_type": "stream",
     "text": [
      "\n",
      "*** Feature extraction finished ***\n",
      "*** Feature extraction started ***\n"
     ]
    },
    {
     "data": {
      "text/html": [
       "\n",
       "              <p>\n",
       "                  Progress: 100% Complete\n",
       "              <p/>\n",
       "              <progress\n",
       "                  value='20'\n",
       "                  max='20',\n",
       "                  style='width: 25%',\n",
       "              >\n",
       "                  20\n",
       "              </progress>\n",
       "\n",
       "    "
      ],
      "text/plain": [
       "<IPython.core.display.HTML object>"
      ]
     },
     "metadata": {},
     "output_type": "display_data"
    },
    {
     "name": "stdout",
     "output_type": "stream",
     "text": [
      "\n",
      "*** Feature extraction finished ***\n",
      "*** Feature extraction started ***\n"
     ]
    },
    {
     "data": {
      "text/html": [
       "\n",
       "              <p>\n",
       "                  Progress: 100% Complete\n",
       "              <p/>\n",
       "              <progress\n",
       "                  value='20'\n",
       "                  max='20',\n",
       "                  style='width: 25%',\n",
       "              >\n",
       "                  20\n",
       "              </progress>\n",
       "\n",
       "    "
      ],
      "text/plain": [
       "<IPython.core.display.HTML object>"
      ]
     },
     "metadata": {},
     "output_type": "display_data"
    },
    {
     "name": "stdout",
     "output_type": "stream",
     "text": [
      "\n",
      "*** Feature extraction finished ***\n",
      "*** Feature extraction started ***\n"
     ]
    },
    {
     "data": {
      "text/html": [
       "\n",
       "              <p>\n",
       "                  Progress: 100% Complete\n",
       "              <p/>\n",
       "              <progress\n",
       "                  value='20'\n",
       "                  max='20',\n",
       "                  style='width: 25%',\n",
       "              >\n",
       "                  20\n",
       "              </progress>\n",
       "\n",
       "    "
      ],
      "text/plain": [
       "<IPython.core.display.HTML object>"
      ]
     },
     "metadata": {},
     "output_type": "display_data"
    },
    {
     "name": "stdout",
     "output_type": "stream",
     "text": [
      "\n",
      "*** Feature extraction finished ***\n",
      "*** Feature extraction started ***\n"
     ]
    },
    {
     "data": {
      "text/html": [
       "\n",
       "              <p>\n",
       "                  Progress: 100% Complete\n",
       "              <p/>\n",
       "              <progress\n",
       "                  value='20'\n",
       "                  max='20',\n",
       "                  style='width: 25%',\n",
       "              >\n",
       "                  20\n",
       "              </progress>\n",
       "\n",
       "    "
      ],
      "text/plain": [
       "<IPython.core.display.HTML object>"
      ]
     },
     "metadata": {},
     "output_type": "display_data"
    },
    {
     "name": "stdout",
     "output_type": "stream",
     "text": [
      "\n",
      "*** Feature extraction finished ***\n",
      "*** Feature extraction started ***\n"
     ]
    },
    {
     "data": {
      "text/html": [
       "\n",
       "              <p>\n",
       "                  Progress: 100% Complete\n",
       "              <p/>\n",
       "              <progress\n",
       "                  value='20'\n",
       "                  max='20',\n",
       "                  style='width: 25%',\n",
       "              >\n",
       "                  20\n",
       "              </progress>\n",
       "\n",
       "    "
      ],
      "text/plain": [
       "<IPython.core.display.HTML object>"
      ]
     },
     "metadata": {},
     "output_type": "display_data"
    },
    {
     "name": "stdout",
     "output_type": "stream",
     "text": [
      "\n",
      "*** Feature extraction finished ***\n",
      "*** Feature extraction started ***\n"
     ]
    },
    {
     "data": {
      "text/html": [
       "\n",
       "              <p>\n",
       "                  Progress: 100% Complete\n",
       "              <p/>\n",
       "              <progress\n",
       "                  value='20'\n",
       "                  max='20',\n",
       "                  style='width: 25%',\n",
       "              >\n",
       "                  20\n",
       "              </progress>\n",
       "\n",
       "    "
      ],
      "text/plain": [
       "<IPython.core.display.HTML object>"
      ]
     },
     "metadata": {},
     "output_type": "display_data"
    },
    {
     "name": "stdout",
     "output_type": "stream",
     "text": [
      "\n",
      "*** Feature extraction finished ***\n",
      "*** Feature extraction started ***\n"
     ]
    },
    {
     "data": {
      "text/html": [
       "\n",
       "              <p>\n",
       "                  Progress: 100% Complete\n",
       "              <p/>\n",
       "              <progress\n",
       "                  value='20'\n",
       "                  max='20',\n",
       "                  style='width: 25%',\n",
       "              >\n",
       "                  20\n",
       "              </progress>\n",
       "\n",
       "    "
      ],
      "text/plain": [
       "<IPython.core.display.HTML object>"
      ]
     },
     "metadata": {},
     "output_type": "display_data"
    },
    {
     "name": "stdout",
     "output_type": "stream",
     "text": [
      "\n",
      "*** Feature extraction finished ***\n",
      "*** Feature extraction started ***\n"
     ]
    },
    {
     "data": {
      "text/html": [
       "\n",
       "              <p>\n",
       "                  Progress: 100% Complete\n",
       "              <p/>\n",
       "              <progress\n",
       "                  value='20'\n",
       "                  max='20',\n",
       "                  style='width: 25%',\n",
       "              >\n",
       "                  20\n",
       "              </progress>\n",
       "\n",
       "    "
      ],
      "text/plain": [
       "<IPython.core.display.HTML object>"
      ]
     },
     "metadata": {},
     "output_type": "display_data"
    },
    {
     "name": "stdout",
     "output_type": "stream",
     "text": [
      "\n",
      "*** Feature extraction finished ***\n",
      "*** Feature extraction started ***\n"
     ]
    },
    {
     "data": {
      "text/html": [
       "\n",
       "              <p>\n",
       "                  Progress: 100% Complete\n",
       "              <p/>\n",
       "              <progress\n",
       "                  value='20'\n",
       "                  max='20',\n",
       "                  style='width: 25%',\n",
       "              >\n",
       "                  20\n",
       "              </progress>\n",
       "\n",
       "    "
      ],
      "text/plain": [
       "<IPython.core.display.HTML object>"
      ]
     },
     "metadata": {},
     "output_type": "display_data"
    },
    {
     "name": "stdout",
     "output_type": "stream",
     "text": [
      "\n",
      "*** Feature extraction finished ***\n",
      "*** Feature extraction started ***\n"
     ]
    },
    {
     "data": {
      "text/html": [
       "\n",
       "              <p>\n",
       "                  Progress: 100% Complete\n",
       "              <p/>\n",
       "              <progress\n",
       "                  value='20'\n",
       "                  max='20',\n",
       "                  style='width: 25%',\n",
       "              >\n",
       "                  20\n",
       "              </progress>\n",
       "\n",
       "    "
      ],
      "text/plain": [
       "<IPython.core.display.HTML object>"
      ]
     },
     "metadata": {},
     "output_type": "display_data"
    },
    {
     "name": "stdout",
     "output_type": "stream",
     "text": [
      "\n",
      "*** Feature extraction finished ***\n",
      "*** Feature extraction started ***\n"
     ]
    },
    {
     "data": {
      "text/html": [
       "\n",
       "              <p>\n",
       "                  Progress: 100% Complete\n",
       "              <p/>\n",
       "              <progress\n",
       "                  value='20'\n",
       "                  max='20',\n",
       "                  style='width: 25%',\n",
       "              >\n",
       "                  20\n",
       "              </progress>\n",
       "\n",
       "    "
      ],
      "text/plain": [
       "<IPython.core.display.HTML object>"
      ]
     },
     "metadata": {},
     "output_type": "display_data"
    },
    {
     "name": "stdout",
     "output_type": "stream",
     "text": [
      "\n",
      "*** Feature extraction finished ***\n",
      "*** Feature extraction started ***\n"
     ]
    },
    {
     "data": {
      "text/html": [
       "\n",
       "              <p>\n",
       "                  Progress: 100% Complete\n",
       "              <p/>\n",
       "              <progress\n",
       "                  value='20'\n",
       "                  max='20',\n",
       "                  style='width: 25%',\n",
       "              >\n",
       "                  20\n",
       "              </progress>\n",
       "\n",
       "    "
      ],
      "text/plain": [
       "<IPython.core.display.HTML object>"
      ]
     },
     "metadata": {},
     "output_type": "display_data"
    },
    {
     "name": "stdout",
     "output_type": "stream",
     "text": [
      "\n",
      "*** Feature extraction finished ***\n",
      "*** Feature extraction started ***\n"
     ]
    },
    {
     "data": {
      "text/html": [
       "\n",
       "              <p>\n",
       "                  Progress: 100% Complete\n",
       "              <p/>\n",
       "              <progress\n",
       "                  value='20'\n",
       "                  max='20',\n",
       "                  style='width: 25%',\n",
       "              >\n",
       "                  20\n",
       "              </progress>\n",
       "\n",
       "    "
      ],
      "text/plain": [
       "<IPython.core.display.HTML object>"
      ]
     },
     "metadata": {},
     "output_type": "display_data"
    },
    {
     "name": "stdout",
     "output_type": "stream",
     "text": [
      "\n",
      "*** Feature extraction finished ***\n",
      "*** Feature extraction started ***\n"
     ]
    },
    {
     "data": {
      "text/html": [
       "\n",
       "              <p>\n",
       "                  Progress: 100% Complete\n",
       "              <p/>\n",
       "              <progress\n",
       "                  value='20'\n",
       "                  max='20',\n",
       "                  style='width: 25%',\n",
       "              >\n",
       "                  20\n",
       "              </progress>\n",
       "\n",
       "    "
      ],
      "text/plain": [
       "<IPython.core.display.HTML object>"
      ]
     },
     "metadata": {},
     "output_type": "display_data"
    },
    {
     "name": "stdout",
     "output_type": "stream",
     "text": [
      "\n",
      "*** Feature extraction finished ***\n"
     ]
    }
   ],
   "source": [
    "feature_df = pd.DataFrame()\n",
    "cfg = tsfel.get_features_by_domain(\"statistical\")\n",
    "for i in range(len(master_dataset)):\n",
    "    time_series = master_dataset.iloc[i, :-1]\n",
    "    features = tsfel.time_series_features_extractor(cfg, time_series, fs = 50)\n",
    "    feature_df = pd.concat([feature_df, features], ignore_index=True)"
   ]
  },
  {
   "cell_type": "code",
   "execution_count": 27,
   "metadata": {},
   "outputs": [
    {
     "data": {
      "text/html": [
       "<div>\n",
       "<style scoped>\n",
       "    .dataframe tbody tr th:only-of-type {\n",
       "        vertical-align: middle;\n",
       "    }\n",
       "\n",
       "    .dataframe tbody tr th {\n",
       "        vertical-align: top;\n",
       "    }\n",
       "\n",
       "    .dataframe thead th {\n",
       "        text-align: right;\n",
       "    }\n",
       "</style>\n",
       "<table border=\"1\" class=\"dataframe\">\n",
       "  <thead>\n",
       "    <tr style=\"text-align: right;\">\n",
       "      <th></th>\n",
       "      <th>0_Absolute energy</th>\n",
       "      <th>0_Average power</th>\n",
       "      <th>0_ECDF Percentile Count_0</th>\n",
       "      <th>0_ECDF Percentile Count_1</th>\n",
       "      <th>0_ECDF Percentile_0</th>\n",
       "      <th>0_ECDF Percentile_1</th>\n",
       "      <th>0_ECDF_0</th>\n",
       "      <th>0_ECDF_1</th>\n",
       "      <th>0_ECDF_2</th>\n",
       "      <th>0_ECDF_3</th>\n",
       "      <th>...</th>\n",
       "      <th>0_Mean absolute deviation</th>\n",
       "      <th>0_Median</th>\n",
       "      <th>0_Median absolute deviation</th>\n",
       "      <th>0_Min</th>\n",
       "      <th>0_Peak to peak distance</th>\n",
       "      <th>0_Root mean square</th>\n",
       "      <th>0_Skewness</th>\n",
       "      <th>0_Standard deviation</th>\n",
       "      <th>0_Variance</th>\n",
       "      <th>Activity</th>\n",
       "    </tr>\n",
       "  </thead>\n",
       "  <tbody>\n",
       "    <tr>\n",
       "      <th>0</th>\n",
       "      <td>486.076839</td>\n",
       "      <td>48.705094</td>\n",
       "      <td>100.0</td>\n",
       "      <td>400.0</td>\n",
       "      <td>0.982049</td>\n",
       "      <td>0.990229</td>\n",
       "      <td>0.002</td>\n",
       "      <td>0.004</td>\n",
       "      <td>0.006</td>\n",
       "      <td>0.008</td>\n",
       "      <td>...</td>\n",
       "      <td>0.004148</td>\n",
       "      <td>0.986024</td>\n",
       "      <td>0.003397</td>\n",
       "      <td>0.965736</td>\n",
       "      <td>0.038994</td>\n",
       "      <td>0.985979</td>\n",
       "      <td>-0.142603</td>\n",
       "      <td>0.005424</td>\n",
       "      <td>0.000029</td>\n",
       "      <td>LAYING</td>\n",
       "    </tr>\n",
       "    <tr>\n",
       "      <th>1</th>\n",
       "      <td>493.699440</td>\n",
       "      <td>49.468882</td>\n",
       "      <td>100.0</td>\n",
       "      <td>400.0</td>\n",
       "      <td>0.989299</td>\n",
       "      <td>0.997952</td>\n",
       "      <td>0.002</td>\n",
       "      <td>0.004</td>\n",
       "      <td>0.006</td>\n",
       "      <td>0.008</td>\n",
       "      <td>...</td>\n",
       "      <td>0.004393</td>\n",
       "      <td>0.993665</td>\n",
       "      <td>0.003555</td>\n",
       "      <td>0.973768</td>\n",
       "      <td>0.038277</td>\n",
       "      <td>0.993679</td>\n",
       "      <td>0.011680</td>\n",
       "      <td>0.005702</td>\n",
       "      <td>0.000033</td>\n",
       "      <td>LAYING</td>\n",
       "    </tr>\n",
       "    <tr>\n",
       "      <th>2</th>\n",
       "      <td>488.775558</td>\n",
       "      <td>48.975507</td>\n",
       "      <td>100.0</td>\n",
       "      <td>400.0</td>\n",
       "      <td>0.982106</td>\n",
       "      <td>0.994710</td>\n",
       "      <td>0.002</td>\n",
       "      <td>0.004</td>\n",
       "      <td>0.006</td>\n",
       "      <td>0.008</td>\n",
       "      <td>...</td>\n",
       "      <td>0.006286</td>\n",
       "      <td>0.988735</td>\n",
       "      <td>0.005012</td>\n",
       "      <td>0.959778</td>\n",
       "      <td>0.050654</td>\n",
       "      <td>0.988712</td>\n",
       "      <td>-0.111200</td>\n",
       "      <td>0.008181</td>\n",
       "      <td>0.000067</td>\n",
       "      <td>LAYING</td>\n",
       "    </tr>\n",
       "    <tr>\n",
       "      <th>3</th>\n",
       "      <td>500.294418</td>\n",
       "      <td>50.129701</td>\n",
       "      <td>100.0</td>\n",
       "      <td>400.0</td>\n",
       "      <td>0.994699</td>\n",
       "      <td>1.005580</td>\n",
       "      <td>0.002</td>\n",
       "      <td>0.004</td>\n",
       "      <td>0.006</td>\n",
       "      <td>0.008</td>\n",
       "      <td>...</td>\n",
       "      <td>0.005273</td>\n",
       "      <td>0.999845</td>\n",
       "      <td>0.004351</td>\n",
       "      <td>0.974117</td>\n",
       "      <td>0.045513</td>\n",
       "      <td>1.000294</td>\n",
       "      <td>0.156119</td>\n",
       "      <td>0.006734</td>\n",
       "      <td>0.000045</td>\n",
       "      <td>LAYING</td>\n",
       "    </tr>\n",
       "    <tr>\n",
       "      <th>4</th>\n",
       "      <td>502.040010</td>\n",
       "      <td>50.304610</td>\n",
       "      <td>100.0</td>\n",
       "      <td>400.0</td>\n",
       "      <td>0.995372</td>\n",
       "      <td>1.008743</td>\n",
       "      <td>0.002</td>\n",
       "      <td>0.004</td>\n",
       "      <td>0.006</td>\n",
       "      <td>0.008</td>\n",
       "      <td>...</td>\n",
       "      <td>0.006498</td>\n",
       "      <td>1.001852</td>\n",
       "      <td>0.005103</td>\n",
       "      <td>0.975608</td>\n",
       "      <td>0.052164</td>\n",
       "      <td>1.002038</td>\n",
       "      <td>0.212347</td>\n",
       "      <td>0.008309</td>\n",
       "      <td>0.000069</td>\n",
       "      <td>LAYING</td>\n",
       "    </tr>\n",
       "    <tr>\n",
       "      <th>...</th>\n",
       "      <td>...</td>\n",
       "      <td>...</td>\n",
       "      <td>...</td>\n",
       "      <td>...</td>\n",
       "      <td>...</td>\n",
       "      <td>...</td>\n",
       "      <td>...</td>\n",
       "      <td>...</td>\n",
       "      <td>...</td>\n",
       "      <td>...</td>\n",
       "      <td>...</td>\n",
       "      <td>...</td>\n",
       "      <td>...</td>\n",
       "      <td>...</td>\n",
       "      <td>...</td>\n",
       "      <td>...</td>\n",
       "      <td>...</td>\n",
       "      <td>...</td>\n",
       "      <td>...</td>\n",
       "      <td>...</td>\n",
       "      <td>...</td>\n",
       "    </tr>\n",
       "    <tr>\n",
       "      <th>121</th>\n",
       "      <td>718.561110</td>\n",
       "      <td>72.000111</td>\n",
       "      <td>100.0</td>\n",
       "      <td>400.0</td>\n",
       "      <td>0.792199</td>\n",
       "      <td>1.415847</td>\n",
       "      <td>0.002</td>\n",
       "      <td>0.004</td>\n",
       "      <td>0.006</td>\n",
       "      <td>0.008</td>\n",
       "      <td>...</td>\n",
       "      <td>0.327956</td>\n",
       "      <td>0.993421</td>\n",
       "      <td>0.199471</td>\n",
       "      <td>0.497447</td>\n",
       "      <td>2.047735</td>\n",
       "      <td>1.198800</td>\n",
       "      <td>1.194707</td>\n",
       "      <td>0.423434</td>\n",
       "      <td>0.179297</td>\n",
       "      <td>WALKING_UPSTAIRS</td>\n",
       "    </tr>\n",
       "    <tr>\n",
       "      <th>122</th>\n",
       "      <td>910.947049</td>\n",
       "      <td>91.277259</td>\n",
       "      <td>100.0</td>\n",
       "      <td>400.0</td>\n",
       "      <td>0.632811</td>\n",
       "      <td>1.618108</td>\n",
       "      <td>0.002</td>\n",
       "      <td>0.004</td>\n",
       "      <td>0.006</td>\n",
       "      <td>0.008</td>\n",
       "      <td>...</td>\n",
       "      <td>0.497917</td>\n",
       "      <td>1.042786</td>\n",
       "      <td>0.377836</td>\n",
       "      <td>0.332292</td>\n",
       "      <td>2.879174</td>\n",
       "      <td>1.349776</td>\n",
       "      <td>1.084083</td>\n",
       "      <td>0.643145</td>\n",
       "      <td>0.413635</td>\n",
       "      <td>WALKING_UPSTAIRS</td>\n",
       "    </tr>\n",
       "    <tr>\n",
       "      <th>123</th>\n",
       "      <td>1025.130144</td>\n",
       "      <td>102.718451</td>\n",
       "      <td>100.0</td>\n",
       "      <td>400.0</td>\n",
       "      <td>0.599844</td>\n",
       "      <td>1.856327</td>\n",
       "      <td>0.002</td>\n",
       "      <td>0.004</td>\n",
       "      <td>0.006</td>\n",
       "      <td>0.008</td>\n",
       "      <td>...</td>\n",
       "      <td>0.625018</td>\n",
       "      <td>0.889620</td>\n",
       "      <td>0.329573</td>\n",
       "      <td>0.313257</td>\n",
       "      <td>3.542466</td>\n",
       "      <td>1.431873</td>\n",
       "      <td>1.196077</td>\n",
       "      <td>0.771283</td>\n",
       "      <td>0.594877</td>\n",
       "      <td>WALKING_UPSTAIRS</td>\n",
       "    </tr>\n",
       "    <tr>\n",
       "      <th>124</th>\n",
       "      <td>750.494969</td>\n",
       "      <td>75.199897</td>\n",
       "      <td>100.0</td>\n",
       "      <td>400.0</td>\n",
       "      <td>0.758168</td>\n",
       "      <td>1.430162</td>\n",
       "      <td>0.002</td>\n",
       "      <td>0.004</td>\n",
       "      <td>0.006</td>\n",
       "      <td>0.008</td>\n",
       "      <td>...</td>\n",
       "      <td>0.381846</td>\n",
       "      <td>0.948274</td>\n",
       "      <td>0.199740</td>\n",
       "      <td>0.514605</td>\n",
       "      <td>2.180257</td>\n",
       "      <td>1.225149</td>\n",
       "      <td>1.382723</td>\n",
       "      <td>0.500313</td>\n",
       "      <td>0.250313</td>\n",
       "      <td>WALKING_UPSTAIRS</td>\n",
       "    </tr>\n",
       "    <tr>\n",
       "      <th>125</th>\n",
       "      <td>915.080043</td>\n",
       "      <td>91.691387</td>\n",
       "      <td>100.0</td>\n",
       "      <td>400.0</td>\n",
       "      <td>0.589395</td>\n",
       "      <td>1.824286</td>\n",
       "      <td>0.002</td>\n",
       "      <td>0.004</td>\n",
       "      <td>0.006</td>\n",
       "      <td>0.008</td>\n",
       "      <td>...</td>\n",
       "      <td>0.518691</td>\n",
       "      <td>1.084870</td>\n",
       "      <td>0.441801</td>\n",
       "      <td>0.208612</td>\n",
       "      <td>3.360722</td>\n",
       "      <td>1.352834</td>\n",
       "      <td>0.613972</td>\n",
       "      <td>0.625170</td>\n",
       "      <td>0.390837</td>\n",
       "      <td>WALKING_UPSTAIRS</td>\n",
       "    </tr>\n",
       "  </tbody>\n",
       "</table>\n",
       "<p>126 rows × 41 columns</p>\n",
       "</div>"
      ],
      "text/plain": [
       "     0_Absolute energy  0_Average power  0_ECDF Percentile Count_0  \\\n",
       "0           486.076839        48.705094                      100.0   \n",
       "1           493.699440        49.468882                      100.0   \n",
       "2           488.775558        48.975507                      100.0   \n",
       "3           500.294418        50.129701                      100.0   \n",
       "4           502.040010        50.304610                      100.0   \n",
       "..                 ...              ...                        ...   \n",
       "121         718.561110        72.000111                      100.0   \n",
       "122         910.947049        91.277259                      100.0   \n",
       "123        1025.130144       102.718451                      100.0   \n",
       "124         750.494969        75.199897                      100.0   \n",
       "125         915.080043        91.691387                      100.0   \n",
       "\n",
       "     0_ECDF Percentile Count_1  0_ECDF Percentile_0  0_ECDF Percentile_1  \\\n",
       "0                        400.0             0.982049             0.990229   \n",
       "1                        400.0             0.989299             0.997952   \n",
       "2                        400.0             0.982106             0.994710   \n",
       "3                        400.0             0.994699             1.005580   \n",
       "4                        400.0             0.995372             1.008743   \n",
       "..                         ...                  ...                  ...   \n",
       "121                      400.0             0.792199             1.415847   \n",
       "122                      400.0             0.632811             1.618108   \n",
       "123                      400.0             0.599844             1.856327   \n",
       "124                      400.0             0.758168             1.430162   \n",
       "125                      400.0             0.589395             1.824286   \n",
       "\n",
       "     0_ECDF_0  0_ECDF_1  0_ECDF_2  0_ECDF_3  ...  0_Mean absolute deviation  \\\n",
       "0       0.002     0.004     0.006     0.008  ...                   0.004148   \n",
       "1       0.002     0.004     0.006     0.008  ...                   0.004393   \n",
       "2       0.002     0.004     0.006     0.008  ...                   0.006286   \n",
       "3       0.002     0.004     0.006     0.008  ...                   0.005273   \n",
       "4       0.002     0.004     0.006     0.008  ...                   0.006498   \n",
       "..        ...       ...       ...       ...  ...                        ...   \n",
       "121     0.002     0.004     0.006     0.008  ...                   0.327956   \n",
       "122     0.002     0.004     0.006     0.008  ...                   0.497917   \n",
       "123     0.002     0.004     0.006     0.008  ...                   0.625018   \n",
       "124     0.002     0.004     0.006     0.008  ...                   0.381846   \n",
       "125     0.002     0.004     0.006     0.008  ...                   0.518691   \n",
       "\n",
       "     0_Median  0_Median absolute deviation     0_Min  0_Peak to peak distance  \\\n",
       "0    0.986024                     0.003397  0.965736                 0.038994   \n",
       "1    0.993665                     0.003555  0.973768                 0.038277   \n",
       "2    0.988735                     0.005012  0.959778                 0.050654   \n",
       "3    0.999845                     0.004351  0.974117                 0.045513   \n",
       "4    1.001852                     0.005103  0.975608                 0.052164   \n",
       "..        ...                          ...       ...                      ...   \n",
       "121  0.993421                     0.199471  0.497447                 2.047735   \n",
       "122  1.042786                     0.377836  0.332292                 2.879174   \n",
       "123  0.889620                     0.329573  0.313257                 3.542466   \n",
       "124  0.948274                     0.199740  0.514605                 2.180257   \n",
       "125  1.084870                     0.441801  0.208612                 3.360722   \n",
       "\n",
       "     0_Root mean square  0_Skewness  0_Standard deviation  0_Variance  \\\n",
       "0              0.985979   -0.142603              0.005424    0.000029   \n",
       "1              0.993679    0.011680              0.005702    0.000033   \n",
       "2              0.988712   -0.111200              0.008181    0.000067   \n",
       "3              1.000294    0.156119              0.006734    0.000045   \n",
       "4              1.002038    0.212347              0.008309    0.000069   \n",
       "..                  ...         ...                   ...         ...   \n",
       "121            1.198800    1.194707              0.423434    0.179297   \n",
       "122            1.349776    1.084083              0.643145    0.413635   \n",
       "123            1.431873    1.196077              0.771283    0.594877   \n",
       "124            1.225149    1.382723              0.500313    0.250313   \n",
       "125            1.352834    0.613972              0.625170    0.390837   \n",
       "\n",
       "             Activity  \n",
       "0              LAYING  \n",
       "1              LAYING  \n",
       "2              LAYING  \n",
       "3              LAYING  \n",
       "4              LAYING  \n",
       "..                ...  \n",
       "121  WALKING_UPSTAIRS  \n",
       "122  WALKING_UPSTAIRS  \n",
       "123  WALKING_UPSTAIRS  \n",
       "124  WALKING_UPSTAIRS  \n",
       "125  WALKING_UPSTAIRS  \n",
       "\n",
       "[126 rows x 41 columns]"
      ]
     },
     "metadata": {},
     "output_type": "display_data"
    }
   ],
   "source": [
    "feature_df['Activity']=master_dataset.iloc[:, -1]\n",
    "display(feature_df)"
   ]
  },
  {
   "cell_type": "code",
   "execution_count": 28,
   "metadata": {},
   "outputs": [],
   "source": [
    "scaler_new = StandardScaler()\n",
    "feature_data_df = feature_df.iloc[:, :-1]\n",
    "scaled_feature_data = scaler_new.fit_transform(feature_data_df)\n",
    "principal_new=PCA(n_components=2)\n",
    "principal_new.fit(scaled_feature_data)\n",
    "reduced_feature_data=principal_new.transform(scaled_feature_data)"
   ]
  },
  {
   "cell_type": "code",
   "execution_count": 29,
   "metadata": {},
   "outputs": [
    {
     "data": {
      "image/png": "[encoded data removed]",
      "text/plain": [
       "<Figure size 1000x1000 with 1 Axes>"
      ]
     },
     "metadata": {},
     "output_type": "display_data"
    }
   ],
   "source": [
    "labels = master_dataset['activity']\n",
    "unique_labels = np.unique(labels)\n",
    "cmap = plt.get_cmap('viridis', len(unique_labels))\n",
    "plt.figure(figsize=(10, 10))\n",
    "for i, label in enumerate(unique_labels):\n",
    "    plt.scatter(reduced_feature_data[:, 0][labels==label], reduced_feature_data[:, 1][labels==label], color=cmap(i), label = label)\n",
    "\n",
    "plt.legend(title='Classes')\n",
    "plt.show()"
   ]
  },
  {
   "cell_type": "code",
   "execution_count": 30,
   "metadata": {},
   "outputs": [],
   "source": [
    "dataframeX = pd.read_csv(r'../HAR/UCI HAR Dataset/train/X_train.txt',delim_whitespace=True,header=None)\n",
    "dataframeY = pd.read_csv(r'../HAR/UCI HAR Dataset/train/y_train.txt',delim_whitespace=True,header=None)\n",
    "feature_labels = pd.read_csv(r'../HAR/UCI HAR Dataset/features.txt',delim_whitespace=True,header=None)"
   ]
  },
  {
   "cell_type": "code",
   "execution_count": 31,
   "metadata": {},
   "outputs": [],
   "source": [
    "scaler_new = StandardScaler()\n",
    "scaled_feature_data_UCI = scaler_new.fit_transform(dataframeX)\n",
    "principal_new=PCA(n_components=2)\n",
    "principal_new.fit(scaled_feature_data_UCI)\n",
    "reduced_feature_data_UCI = principal_new.transform(scaled_feature_data_UCI)"
   ]
  },
  {
   "cell_type": "code",
   "execution_count": 32,
   "metadata": {},
   "outputs": [
    {
     "data": {
      "image/png": "[encoded data removed]",
      "text/plain": [
       "<Figure size 1000x1000 with 1 Axes>"
      ]
     },
     "metadata": {},
     "output_type": "display_data"
    }
   ],
   "source": [
    "labels_num = dataframeY.iloc[:,0].to_numpy()\n",
    "unique_labels = np.unique(labels_num)\n",
    "classes = {1 : \"WALKING\",2 :\"WALKING_UPSTAIRS\",3 : \"WALKING_DOWNSTAIRS\",4 : \"SITTING\",5 : \"STANDING\",6 : \"LAYING\"}\n",
    "cmap = plt.get_cmap('viridis', len(unique_labels))\n",
    "plt.figure(figsize=(10, 10))\n",
    "for i, label in enumerate(unique_labels):\n",
    "    plt.scatter(reduced_feature_data_UCI[:, 0][labels_num==label], reduced_feature_data_UCI[:, 1][labels_num==label], color=cmap(i), label = classes[label])\n",
    "\n",
    "plt.legend(title='Classes')\n",
    "plt.show()"
   ]
  },
  {
   "cell_type": "markdown",
   "metadata": {},
   "source": [
    "**Question 4**\n",
    "\n",
    "Here we have calculated the correlation coefficient matrix for the features provided already in the UCI HAR dataset. A heatmap is also plotted for better visualisation (labels ommitted for clarity) and a dataframe of pairs of redundant features(correlation coeff > 0.98) is also made and displayed."
   ]
  },
  {
   "cell_type": "code",
   "execution_count": 33,
   "metadata": {},
   "outputs": [
    {
     "data": {
      "image/png": "[encoded data removed]",
      "text/plain": [
       "<Figure size 800x600 with 2 Axes>"
      ]
     },
     "metadata": {},
     "output_type": "display_data"
    },
    {
     "data": {
      "text/html": [
       "<div>\n",
       "<style scoped>\n",
       "    .dataframe tbody tr th:only-of-type {\n",
       "        vertical-align: middle;\n",
       "    }\n",
       "\n",
       "    .dataframe tbody tr th {\n",
       "        vertical-align: top;\n",
       "    }\n",
       "\n",
       "    .dataframe thead th {\n",
       "        text-align: right;\n",
       "    }\n",
       "</style>\n",
       "<table border=\"1\" class=\"dataframe\">\n",
       "  <thead>\n",
       "    <tr style=\"text-align: right;\">\n",
       "      <th></th>\n",
       "      <th>feature1</th>\n",
       "      <th>feature2</th>\n",
       "    </tr>\n",
       "  </thead>\n",
       "  <tbody>\n",
       "    <tr>\n",
       "      <th>0</th>\n",
       "      <td>tBodyAcc-mad()-X</td>\n",
       "      <td>tBodyAcc-std()-X</td>\n",
       "    </tr>\n",
       "    <tr>\n",
       "      <th>1</th>\n",
       "      <td>tBodyAcc-mad()-Y</td>\n",
       "      <td>tBodyAcc-std()-Y</td>\n",
       "    </tr>\n",
       "    <tr>\n",
       "      <th>2</th>\n",
       "      <td>tBodyAcc-mad()-Z</td>\n",
       "      <td>tBodyAcc-std()-Z</td>\n",
       "    </tr>\n",
       "    <tr>\n",
       "      <th>3</th>\n",
       "      <td>tBodyAcc-max()-X</td>\n",
       "      <td>tBodyAcc-std()-X</td>\n",
       "    </tr>\n",
       "    <tr>\n",
       "      <th>4</th>\n",
       "      <td>tBodyAcc-iqr()-X</td>\n",
       "      <td>tBodyAcc-std()-X</td>\n",
       "    </tr>\n",
       "    <tr>\n",
       "      <th>...</th>\n",
       "      <td>...</td>\n",
       "      <td>...</td>\n",
       "    </tr>\n",
       "    <tr>\n",
       "      <th>475</th>\n",
       "      <td>fBodyBodyGyroJerkMag-iqr()</td>\n",
       "      <td>fBodyBodyGyroJerkMag-mad()</td>\n",
       "    </tr>\n",
       "    <tr>\n",
       "      <th>476</th>\n",
       "      <td>fBodyBodyGyroJerkMag-iqr()</td>\n",
       "      <td>fBodyBodyGyroJerkMag-sma()</td>\n",
       "    </tr>\n",
       "    <tr>\n",
       "      <th>477</th>\n",
       "      <td>fBodyBodyGyroJerkMag-entropy()</td>\n",
       "      <td>tBodyAccJerkMag-entropy()</td>\n",
       "    </tr>\n",
       "    <tr>\n",
       "      <th>478</th>\n",
       "      <td>fBodyBodyGyroJerkMag-entropy()</td>\n",
       "      <td>fBodyGyro-entropy()-Y</td>\n",
       "    </tr>\n",
       "    <tr>\n",
       "      <th>479</th>\n",
       "      <td>fBodyBodyGyroJerkMag-entropy()</td>\n",
       "      <td>fBodyBodyGyroMag-entropy()</td>\n",
       "    </tr>\n",
       "  </tbody>\n",
       "</table>\n",
       "<p>480 rows × 2 columns</p>\n",
       "</div>"
      ],
      "text/plain": [
       "                           feature1                    feature2\n",
       "0                  tBodyAcc-mad()-X            tBodyAcc-std()-X\n",
       "1                  tBodyAcc-mad()-Y            tBodyAcc-std()-Y\n",
       "2                  tBodyAcc-mad()-Z            tBodyAcc-std()-Z\n",
       "3                  tBodyAcc-max()-X            tBodyAcc-std()-X\n",
       "4                  tBodyAcc-iqr()-X            tBodyAcc-std()-X\n",
       "..                              ...                         ...\n",
       "475      fBodyBodyGyroJerkMag-iqr()  fBodyBodyGyroJerkMag-mad()\n",
       "476      fBodyBodyGyroJerkMag-iqr()  fBodyBodyGyroJerkMag-sma()\n",
       "477  fBodyBodyGyroJerkMag-entropy()   tBodyAccJerkMag-entropy()\n",
       "478  fBodyBodyGyroJerkMag-entropy()       fBodyGyro-entropy()-Y\n",
       "479  fBodyBodyGyroJerkMag-entropy()  fBodyBodyGyroMag-entropy()\n",
       "\n",
       "[480 rows x 2 columns]"
      ]
     },
     "execution_count": 33,
     "metadata": {},
     "output_type": "execute_result"
    }
   ],
   "source": [
    "corr_matrix_dataset_features = dataframeX.corr()\n",
    "\n",
    "plt.figure(figsize=(8, 6))\n",
    "\n",
    "plt.imshow(corr_matrix_dataset_features, cmap='autumn')\n",
    "\n",
    "plt.colorbar(label=\"Correlation coefficicent\")\n",
    "plt.title('Correlation coefficient Heatmap for the UCI dataset features')\n",
    "plt.show()\n",
    "\n",
    "corr_matrix_dataset_features.columns = feature_labels.iloc[:,1].to_numpy()\n",
    "\n",
    "corr_matrix_dataset_features.index = feature_labels.iloc[:,1].to_numpy()\n",
    "\n",
    "redundancies_UCI = pd.DataFrame(columns=[\"feature1\", \"feature2\"])\n",
    "\n",
    "for i in (range(len(corr_matrix_dataset_features))):\n",
    "    for j in (range(len(corr_matrix_dataset_features))):\n",
    "        if(corr_matrix_dataset_features.iloc[i,j] > 0.98 and i > j):\n",
    "            redundancies_UCI.loc[len(redundancies_UCI)] = [corr_matrix_dataset_features.index[i], corr_matrix_dataset_features.columns[j]]\n",
    "\n",
    "redundancies_UCI"
   ]
  },
  {
   "cell_type": "markdown",
   "metadata": {},
   "source": [
    "**Correaltion matrix for features obtained from TSFEL featurisation** is as follows:\n",
    "\n",
    "First we drop all the features which have the same value for all entries, since their variance is zero and their correlation coefficient with any other feature will turn out to be zero. These features are practically useless for training the decision tree too."
   ]
  },
  {
   "cell_type": "code",
   "execution_count": 34,
   "metadata": {},
   "outputs": [
    {
     "data": {
      "image/png": "[encoded data removed]",
      "text/plain": [
       "<Figure size 800x600 with 2 Axes>"
      ]
     },
     "metadata": {},
     "output_type": "display_data"
    },
    {
     "data": {
      "text/html": [
       "<div>\n",
       "<style scoped>\n",
       "    .dataframe tbody tr th:only-of-type {\n",
       "        vertical-align: middle;\n",
       "    }\n",
       "\n",
       "    .dataframe tbody tr th {\n",
       "        vertical-align: top;\n",
       "    }\n",
       "\n",
       "    .dataframe thead th {\n",
       "        text-align: right;\n",
       "    }\n",
       "</style>\n",
       "<table border=\"1\" class=\"dataframe\">\n",
       "  <thead>\n",
       "    <tr style=\"text-align: right;\">\n",
       "      <th></th>\n",
       "      <th>feature1</th>\n",
       "      <th>feature2</th>\n",
       "    </tr>\n",
       "  </thead>\n",
       "  <tbody>\n",
       "    <tr>\n",
       "      <th>0</th>\n",
       "      <td>0_Average power</td>\n",
       "      <td>0_Absolute energy</td>\n",
       "    </tr>\n",
       "    <tr>\n",
       "      <th>1</th>\n",
       "      <td>0_Interquartile range</td>\n",
       "      <td>0_ECDF Percentile_1</td>\n",
       "    </tr>\n",
       "    <tr>\n",
       "      <th>2</th>\n",
       "      <td>0_Peak to peak distance</td>\n",
       "      <td>0_Max</td>\n",
       "    </tr>\n",
       "    <tr>\n",
       "      <th>3</th>\n",
       "      <td>0_Root mean square</td>\n",
       "      <td>0_Absolute energy</td>\n",
       "    </tr>\n",
       "    <tr>\n",
       "      <th>4</th>\n",
       "      <td>0_Root mean square</td>\n",
       "      <td>0_Average power</td>\n",
       "    </tr>\n",
       "    <tr>\n",
       "      <th>5</th>\n",
       "      <td>0_Root mean square</td>\n",
       "      <td>0_Mean absolute deviation</td>\n",
       "    </tr>\n",
       "    <tr>\n",
       "      <th>6</th>\n",
       "      <td>0_Standard deviation</td>\n",
       "      <td>0_Mean absolute deviation</td>\n",
       "    </tr>\n",
       "    <tr>\n",
       "      <th>7</th>\n",
       "      <td>0_Standard deviation</td>\n",
       "      <td>0_Peak to peak distance</td>\n",
       "    </tr>\n",
       "    <tr>\n",
       "      <th>8</th>\n",
       "      <td>0_Standard deviation</td>\n",
       "      <td>0_Root mean square</td>\n",
       "    </tr>\n",
       "    <tr>\n",
       "      <th>9</th>\n",
       "      <td>0_Variance</td>\n",
       "      <td>0_Absolute energy</td>\n",
       "    </tr>\n",
       "    <tr>\n",
       "      <th>10</th>\n",
       "      <td>0_Variance</td>\n",
       "      <td>0_Average power</td>\n",
       "    </tr>\n",
       "  </tbody>\n",
       "</table>\n",
       "</div>"
      ],
      "text/plain": [
       "                   feature1                   feature2\n",
       "0           0_Average power          0_Absolute energy\n",
       "1     0_Interquartile range        0_ECDF Percentile_1\n",
       "2   0_Peak to peak distance                      0_Max\n",
       "3        0_Root mean square          0_Absolute energy\n",
       "4        0_Root mean square            0_Average power\n",
       "5        0_Root mean square  0_Mean absolute deviation\n",
       "6      0_Standard deviation  0_Mean absolute deviation\n",
       "7      0_Standard deviation    0_Peak to peak distance\n",
       "8      0_Standard deviation         0_Root mean square\n",
       "9                0_Variance          0_Absolute energy\n",
       "10               0_Variance            0_Average power"
      ]
     },
     "execution_count": 34,
     "metadata": {},
     "output_type": "execute_result"
    }
   ],
   "source": [
    "# remove the features where the variance is zero, since these features arent useful and the correaltion coefficient is also zero.\n",
    "feature_data_df = feature_data_df.loc[:, feature_data_df.nunique() != 1]\n",
    "\n",
    "corr_matrix_tsfel_features = feature_data_df.corr()\n",
    "\n",
    "plt.figure(figsize=(8, 6))\n",
    "\n",
    "plt.imshow(corr_matrix_tsfel_features, cmap='Blues')\n",
    "\n",
    "plt.colorbar(label=\"Correlation coefficicent\")\n",
    "plt.title('Correlation coefficient Heatmap for the features obtained from TSFEL')\n",
    "plt.show()\n",
    "\n",
    "\n",
    "redundancies_TSFEL = pd.DataFrame(columns=[\"feature1\", \"feature2\"])\n",
    "\n",
    "for i in (range(len(corr_matrix_tsfel_features))):\n",
    "    for j in (range(len(corr_matrix_tsfel_features))):\n",
    "        if(corr_matrix_tsfel_features.iloc[i,j] > 0.98 and i > j):\n",
    "            redundancies_TSFEL.loc[len(redundancies_TSFEL)] = [corr_matrix_tsfel_features.index[i], corr_matrix_tsfel_features.columns[j]]\n",
    "\n",
    "\n",
    "redundancies_TSFEL\n"
   ]
  }
 ],
 "metadata": {
  "kernelspec": {
   "display_name": "Python 3",
   "language": "python",
   "name": "python3"
  },
  "language_info": {
   "codemirror_mode": {
    "name": "ipython",
    "version": 3
   },
   "file_extension": ".py",
   "mimetype": "text/x-python",
   "name": "python",
   "nbconvert_exporter": "python",
   "pygments_lexer": "ipython3",
   "version": "3.12.5"
  }
 },
 "nbformat": 4,
 "nbformat_minor": 2
}

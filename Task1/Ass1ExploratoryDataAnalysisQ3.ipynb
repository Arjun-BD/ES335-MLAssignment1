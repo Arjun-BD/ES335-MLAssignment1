{
 "cells": [
  {
   "cell_type": "code",
   "execution_count": 357,
   "metadata": {},
   "outputs": [],
   "source": [
    "import pandas as pd\n",
    "import numpy as np\n",
    "from sklearn.decomposition import PCA\n",
    "from sklearn.preprocessing import StandardScaler\n",
    "import matplotlib.pyplot as plt\n",
    "import tsfel\n",
    "%matplotlib inline\n",
    "import os"
   ]
  },
  {
   "cell_type": "code",
   "execution_count": 358,
   "metadata": {},
   "outputs": [],
   "source": [
    "combined_dir = os.path.join(os.path.pardir, r\"Combined\")\n",
    "folders = [\"LAYING\",\"SITTING\",\"STANDING\",\"WALKING\",\"WALKING_DOWNSTAIRS\",\"WALKING_UPSTAIRS\"]\n",
    "classes = {\"WALKING\":1,\"WALKING_UPSTAIRS\":2,\"WALKING_DOWNSTAIRS\":3,\"SITTING\":4,\"STANDING\":5,\"LAYING\":6}\n",
    "dataset_dir = os.path.join(combined_dir,r\"Train\")\n",
    "time = 10\n",
    "offset = 100"
   ]
  },
  {
   "cell_type": "code",
   "execution_count": 360,
   "metadata": {},
   "outputs": [
    {
     "data": {
      "text/html": [
       "<div>\n",
       "<style scoped>\n",
       "    .dataframe tbody tr th:only-of-type {\n",
       "        vertical-align: middle;\n",
       "    }\n",
       "\n",
       "    .dataframe tbody tr th {\n",
       "        vertical-align: top;\n",
       "    }\n",
       "\n",
       "    .dataframe thead th {\n",
       "        text-align: right;\n",
       "    }\n",
       "</style>\n",
       "<table border=\"1\" class=\"dataframe\">\n",
       "  <thead>\n",
       "    <tr style=\"text-align: right;\">\n",
       "      <th></th>\n",
       "      <th>0</th>\n",
       "      <th>1</th>\n",
       "      <th>2</th>\n",
       "      <th>3</th>\n",
       "      <th>4</th>\n",
       "      <th>5</th>\n",
       "      <th>6</th>\n",
       "      <th>7</th>\n",
       "      <th>8</th>\n",
       "      <th>9</th>\n",
       "      <th>...</th>\n",
       "      <th>491</th>\n",
       "      <th>492</th>\n",
       "      <th>493</th>\n",
       "      <th>494</th>\n",
       "      <th>495</th>\n",
       "      <th>496</th>\n",
       "      <th>497</th>\n",
       "      <th>498</th>\n",
       "      <th>499</th>\n",
       "      <th>activity</th>\n",
       "    </tr>\n",
       "  </thead>\n",
       "  <tbody>\n",
       "    <tr>\n",
       "      <th>0</th>\n",
       "      <td>0.981382</td>\n",
       "      <td>0.982685</td>\n",
       "      <td>0.984772</td>\n",
       "      <td>0.991014</td>\n",
       "      <td>0.991957</td>\n",
       "      <td>0.987176</td>\n",
       "      <td>0.986225</td>\n",
       "      <td>0.980630</td>\n",
       "      <td>0.976677</td>\n",
       "      <td>0.986460</td>\n",
       "      <td>...</td>\n",
       "      <td>0.987941</td>\n",
       "      <td>0.984326</td>\n",
       "      <td>0.986315</td>\n",
       "      <td>0.982113</td>\n",
       "      <td>0.982702</td>\n",
       "      <td>0.987035</td>\n",
       "      <td>0.985976</td>\n",
       "      <td>0.987111</td>\n",
       "      <td>0.982366</td>\n",
       "      <td>LAYING</td>\n",
       "    </tr>\n",
       "    <tr>\n",
       "      <th>1</th>\n",
       "      <td>0.993165</td>\n",
       "      <td>0.989138</td>\n",
       "      <td>0.994005</td>\n",
       "      <td>0.999543</td>\n",
       "      <td>1.004060</td>\n",
       "      <td>1.001994</td>\n",
       "      <td>0.998885</td>\n",
       "      <td>0.997216</td>\n",
       "      <td>0.993052</td>\n",
       "      <td>0.993806</td>\n",
       "      <td>...</td>\n",
       "      <td>0.991251</td>\n",
       "      <td>0.996607</td>\n",
       "      <td>0.998806</td>\n",
       "      <td>1.001779</td>\n",
       "      <td>1.008806</td>\n",
       "      <td>1.005365</td>\n",
       "      <td>1.001250</td>\n",
       "      <td>1.003021</td>\n",
       "      <td>0.998748</td>\n",
       "      <td>LAYING</td>\n",
       "    </tr>\n",
       "    <tr>\n",
       "      <th>2</th>\n",
       "      <td>0.989889</td>\n",
       "      <td>0.992328</td>\n",
       "      <td>0.995144</td>\n",
       "      <td>0.994290</td>\n",
       "      <td>0.994649</td>\n",
       "      <td>0.990959</td>\n",
       "      <td>0.985261</td>\n",
       "      <td>0.984080</td>\n",
       "      <td>0.993255</td>\n",
       "      <td>1.005987</td>\n",
       "      <td>...</td>\n",
       "      <td>1.005300</td>\n",
       "      <td>1.003439</td>\n",
       "      <td>0.992190</td>\n",
       "      <td>0.987591</td>\n",
       "      <td>0.990027</td>\n",
       "      <td>0.991893</td>\n",
       "      <td>0.988948</td>\n",
       "      <td>0.987491</td>\n",
       "      <td>0.988619</td>\n",
       "      <td>LAYING</td>\n",
       "    </tr>\n",
       "    <tr>\n",
       "      <th>3</th>\n",
       "      <td>1.003003</td>\n",
       "      <td>1.000165</td>\n",
       "      <td>0.996369</td>\n",
       "      <td>0.995168</td>\n",
       "      <td>0.992990</td>\n",
       "      <td>0.995212</td>\n",
       "      <td>0.997920</td>\n",
       "      <td>0.994808</td>\n",
       "      <td>0.997712</td>\n",
       "      <td>1.000126</td>\n",
       "      <td>...</td>\n",
       "      <td>1.003198</td>\n",
       "      <td>0.994433</td>\n",
       "      <td>0.993846</td>\n",
       "      <td>0.994699</td>\n",
       "      <td>0.995511</td>\n",
       "      <td>0.998258</td>\n",
       "      <td>0.998304</td>\n",
       "      <td>0.995051</td>\n",
       "      <td>0.991391</td>\n",
       "      <td>LAYING</td>\n",
       "    </tr>\n",
       "    <tr>\n",
       "      <th>4</th>\n",
       "      <td>0.999798</td>\n",
       "      <td>0.997792</td>\n",
       "      <td>1.000999</td>\n",
       "      <td>1.003594</td>\n",
       "      <td>1.004107</td>\n",
       "      <td>1.005161</td>\n",
       "      <td>1.001687</td>\n",
       "      <td>1.003346</td>\n",
       "      <td>1.006965</td>\n",
       "      <td>1.006614</td>\n",
       "      <td>...</td>\n",
       "      <td>1.006513</td>\n",
       "      <td>0.996673</td>\n",
       "      <td>0.994095</td>\n",
       "      <td>0.991356</td>\n",
       "      <td>0.991930</td>\n",
       "      <td>0.990347</td>\n",
       "      <td>0.989033</td>\n",
       "      <td>0.994008</td>\n",
       "      <td>0.996868</td>\n",
       "      <td>LAYING</td>\n",
       "    </tr>\n",
       "    <tr>\n",
       "      <th>...</th>\n",
       "      <td>...</td>\n",
       "      <td>...</td>\n",
       "      <td>...</td>\n",
       "      <td>...</td>\n",
       "      <td>...</td>\n",
       "      <td>...</td>\n",
       "      <td>...</td>\n",
       "      <td>...</td>\n",
       "      <td>...</td>\n",
       "      <td>...</td>\n",
       "      <td>...</td>\n",
       "      <td>...</td>\n",
       "      <td>...</td>\n",
       "      <td>...</td>\n",
       "      <td>...</td>\n",
       "      <td>...</td>\n",
       "      <td>...</td>\n",
       "      <td>...</td>\n",
       "      <td>...</td>\n",
       "      <td>...</td>\n",
       "      <td>...</td>\n",
       "    </tr>\n",
       "    <tr>\n",
       "      <th>121</th>\n",
       "      <td>1.313149</td>\n",
       "      <td>1.496651</td>\n",
       "      <td>1.657864</td>\n",
       "      <td>1.788792</td>\n",
       "      <td>1.964748</td>\n",
       "      <td>2.176348</td>\n",
       "      <td>2.218402</td>\n",
       "      <td>2.068605</td>\n",
       "      <td>1.880712</td>\n",
       "      <td>1.654676</td>\n",
       "      <td>...</td>\n",
       "      <td>1.883225</td>\n",
       "      <td>1.689585</td>\n",
       "      <td>1.404288</td>\n",
       "      <td>1.106515</td>\n",
       "      <td>0.860272</td>\n",
       "      <td>0.886572</td>\n",
       "      <td>0.969258</td>\n",
       "      <td>0.957187</td>\n",
       "      <td>0.965843</td>\n",
       "      <td>WALKING_UPSTAIRS</td>\n",
       "    </tr>\n",
       "    <tr>\n",
       "      <th>122</th>\n",
       "      <td>0.645240</td>\n",
       "      <td>0.687641</td>\n",
       "      <td>0.772740</td>\n",
       "      <td>0.884074</td>\n",
       "      <td>1.015710</td>\n",
       "      <td>1.155363</td>\n",
       "      <td>1.233513</td>\n",
       "      <td>1.327943</td>\n",
       "      <td>1.483545</td>\n",
       "      <td>1.758774</td>\n",
       "      <td>...</td>\n",
       "      <td>1.461972</td>\n",
       "      <td>1.645756</td>\n",
       "      <td>1.355183</td>\n",
       "      <td>1.007496</td>\n",
       "      <td>0.821142</td>\n",
       "      <td>0.505451</td>\n",
       "      <td>0.397018</td>\n",
       "      <td>0.435017</td>\n",
       "      <td>0.337881</td>\n",
       "      <td>WALKING_UPSTAIRS</td>\n",
       "    </tr>\n",
       "    <tr>\n",
       "      <th>123</th>\n",
       "      <td>0.548796</td>\n",
       "      <td>0.672201</td>\n",
       "      <td>0.871850</td>\n",
       "      <td>0.950930</td>\n",
       "      <td>0.854911</td>\n",
       "      <td>0.886019</td>\n",
       "      <td>0.922935</td>\n",
       "      <td>0.969559</td>\n",
       "      <td>1.098581</td>\n",
       "      <td>1.507499</td>\n",
       "      <td>...</td>\n",
       "      <td>2.598404</td>\n",
       "      <td>1.945510</td>\n",
       "      <td>1.325856</td>\n",
       "      <td>1.150704</td>\n",
       "      <td>1.014043</td>\n",
       "      <td>0.725299</td>\n",
       "      <td>0.705644</td>\n",
       "      <td>1.065750</td>\n",
       "      <td>1.271324</td>\n",
       "      <td>WALKING_UPSTAIRS</td>\n",
       "    </tr>\n",
       "    <tr>\n",
       "      <th>124</th>\n",
       "      <td>1.059330</td>\n",
       "      <td>1.024984</td>\n",
       "      <td>0.890988</td>\n",
       "      <td>1.011086</td>\n",
       "      <td>0.924324</td>\n",
       "      <td>0.873101</td>\n",
       "      <td>0.833131</td>\n",
       "      <td>0.642193</td>\n",
       "      <td>0.606104</td>\n",
       "      <td>0.555885</td>\n",
       "      <td>...</td>\n",
       "      <td>0.569460</td>\n",
       "      <td>0.593311</td>\n",
       "      <td>0.642203</td>\n",
       "      <td>0.737246</td>\n",
       "      <td>0.780754</td>\n",
       "      <td>0.758168</td>\n",
       "      <td>0.791968</td>\n",
       "      <td>0.890852</td>\n",
       "      <td>1.053665</td>\n",
       "      <td>WALKING_UPSTAIRS</td>\n",
       "    </tr>\n",
       "    <tr>\n",
       "      <th>125</th>\n",
       "      <td>0.449504</td>\n",
       "      <td>0.632619</td>\n",
       "      <td>0.799558</td>\n",
       "      <td>0.582990</td>\n",
       "      <td>0.442424</td>\n",
       "      <td>0.405941</td>\n",
       "      <td>0.585117</td>\n",
       "      <td>1.057216</td>\n",
       "      <td>1.280197</td>\n",
       "      <td>1.229651</td>\n",
       "      <td>...</td>\n",
       "      <td>0.800153</td>\n",
       "      <td>0.699134</td>\n",
       "      <td>0.486218</td>\n",
       "      <td>0.319679</td>\n",
       "      <td>0.208612</td>\n",
       "      <td>0.282232</td>\n",
       "      <td>0.385670</td>\n",
       "      <td>0.478112</td>\n",
       "      <td>0.659654</td>\n",
       "      <td>WALKING_UPSTAIRS</td>\n",
       "    </tr>\n",
       "  </tbody>\n",
       "</table>\n",
       "<p>126 rows × 501 columns</p>\n",
       "</div>"
      ],
      "text/plain": [
       "            0         1         2         3         4         5         6  \\\n",
       "0    0.981382  0.982685  0.984772  0.991014  0.991957  0.987176  0.986225   \n",
       "1    0.993165  0.989138  0.994005  0.999543  1.004060  1.001994  0.998885   \n",
       "2    0.989889  0.992328  0.995144  0.994290  0.994649  0.990959  0.985261   \n",
       "3    1.003003  1.000165  0.996369  0.995168  0.992990  0.995212  0.997920   \n",
       "4    0.999798  0.997792  1.000999  1.003594  1.004107  1.005161  1.001687   \n",
       "..        ...       ...       ...       ...       ...       ...       ...   \n",
       "121  1.313149  1.496651  1.657864  1.788792  1.964748  2.176348  2.218402   \n",
       "122  0.645240  0.687641  0.772740  0.884074  1.015710  1.155363  1.233513   \n",
       "123  0.548796  0.672201  0.871850  0.950930  0.854911  0.886019  0.922935   \n",
       "124  1.059330  1.024984  0.890988  1.011086  0.924324  0.873101  0.833131   \n",
       "125  0.449504  0.632619  0.799558  0.582990  0.442424  0.405941  0.585117   \n",
       "\n",
       "            7         8         9  ...       491       492       493  \\\n",
       "0    0.980630  0.976677  0.986460  ...  0.987941  0.984326  0.986315   \n",
       "1    0.997216  0.993052  0.993806  ...  0.991251  0.996607  0.998806   \n",
       "2    0.984080  0.993255  1.005987  ...  1.005300  1.003439  0.992190   \n",
       "3    0.994808  0.997712  1.000126  ...  1.003198  0.994433  0.993846   \n",
       "4    1.003346  1.006965  1.006614  ...  1.006513  0.996673  0.994095   \n",
       "..        ...       ...       ...  ...       ...       ...       ...   \n",
       "121  2.068605  1.880712  1.654676  ...  1.883225  1.689585  1.404288   \n",
       "122  1.327943  1.483545  1.758774  ...  1.461972  1.645756  1.355183   \n",
       "123  0.969559  1.098581  1.507499  ...  2.598404  1.945510  1.325856   \n",
       "124  0.642193  0.606104  0.555885  ...  0.569460  0.593311  0.642203   \n",
       "125  1.057216  1.280197  1.229651  ...  0.800153  0.699134  0.486218   \n",
       "\n",
       "          494       495       496       497       498       499  \\\n",
       "0    0.982113  0.982702  0.987035  0.985976  0.987111  0.982366   \n",
       "1    1.001779  1.008806  1.005365  1.001250  1.003021  0.998748   \n",
       "2    0.987591  0.990027  0.991893  0.988948  0.987491  0.988619   \n",
       "3    0.994699  0.995511  0.998258  0.998304  0.995051  0.991391   \n",
       "4    0.991356  0.991930  0.990347  0.989033  0.994008  0.996868   \n",
       "..        ...       ...       ...       ...       ...       ...   \n",
       "121  1.106515  0.860272  0.886572  0.969258  0.957187  0.965843   \n",
       "122  1.007496  0.821142  0.505451  0.397018  0.435017  0.337881   \n",
       "123  1.150704  1.014043  0.725299  0.705644  1.065750  1.271324   \n",
       "124  0.737246  0.780754  0.758168  0.791968  0.890852  1.053665   \n",
       "125  0.319679  0.208612  0.282232  0.385670  0.478112  0.659654   \n",
       "\n",
       "             activity  \n",
       "0              LAYING  \n",
       "1              LAYING  \n",
       "2              LAYING  \n",
       "3              LAYING  \n",
       "4              LAYING  \n",
       "..                ...  \n",
       "121  WALKING_UPSTAIRS  \n",
       "122  WALKING_UPSTAIRS  \n",
       "123  WALKING_UPSTAIRS  \n",
       "124  WALKING_UPSTAIRS  \n",
       "125  WALKING_UPSTAIRS  \n",
       "\n",
       "[126 rows x 501 columns]"
      ]
     },
     "execution_count": 360,
     "metadata": {},
     "output_type": "execute_result"
    }
   ],
   "source": [
    "master_dataset = pd.DataFrame()\n",
    "for folder in folders:\n",
    "    files = os.listdir(os.path.join(dataset_dir,folder))\n",
    "    for file in files:\n",
    "        df = pd.read_csv(os.path.join(dataset_dir,folder,file),sep=\",\",header=0)\n",
    "        df = df[offset:offset+time*50]\n",
    "        df[\"linear_acc\"] = df[\"accx\"] **2 + df[\"accy\"] ** 2 + df[\"accz\"]** 2\n",
    "        temp = pd.DataFrame([(df[\"linear_acc\"].to_numpy().flatten())])\n",
    "        temp[\"activity\"] = folder\n",
    "        master_dataset = pd.concat([master_dataset, temp], ignore_index = True)        \n",
    "\n",
    "master_dataset"
   ]
  },
  {
   "cell_type": "code",
   "execution_count": 361,
   "metadata": {},
   "outputs": [
    {
     "name": "stdout",
     "output_type": "stream",
     "text": [
      "['LAYING' 'SITTING' 'STANDING' 'WALKING' 'WALKING_DOWNSTAIRS'\n",
      " 'WALKING_UPSTAIRS']\n"
     ]
    }
   ],
   "source": [
    "data_df = master_dataset.iloc[ :, :500]\n",
    "print(master_dataset['activity'].unique())\n",
    "scaler = StandardScaler()\n",
    "scaler.fit(data_df)\n",
    "scaled_data = scaler.transform(data_df)"
   ]
  },
  {
   "cell_type": "code",
   "execution_count": 362,
   "metadata": {},
   "outputs": [],
   "source": [
    "principal=PCA(n_components=2)\n",
    "principal.fit(scaled_data)\n",
    "reduced_data=principal.transform(scaled_data)"
   ]
  },
  {
   "cell_type": "code",
   "execution_count": 363,
   "metadata": {},
   "outputs": [
    {
     "data": {
      "image/png": "[encoded data removed]",
      "text/plain": [
       "<Figure size 1000x1000 with 1 Axes>"
      ]
     },
     "metadata": {},
     "output_type": "display_data"
    }
   ],
   "source": [
    "labels = master_dataset['activity']\n",
    "unique_labels = np.unique(labels)\n",
    "cmap = plt.get_cmap('viridis', len(unique_labels))\n",
    "plt.figure(figsize=(10, 10))\n",
    "for i, label in enumerate(unique_labels):\n",
    "    plt.scatter(reduced_data[:, 0][labels==label], reduced_data[:, 1][labels==label], color=cmap(i), label= label)\n",
    "\n",
    "plt.legend(title='Classes')\n",
    "plt.show()"
   ]
  },
  {
   "cell_type": "code",
   "execution_count": 364,
   "metadata": {},
   "outputs": [
    {
     "data": {
      "text/plain": [
       "array([[0.98138236, 0.98268484, 0.98477228, ..., 0.98597619, 0.9871108 ,\n",
       "        0.98236632],\n",
       "       [0.99316494, 0.98913792, 0.99400533, ..., 1.00124978, 1.00302114,\n",
       "        0.99874781],\n",
       "       [0.9898891 , 0.99232811, 0.99514404, ..., 0.988948  , 0.98749115,\n",
       "        0.98861876],\n",
       "       ...,\n",
       "       [0.54879584, 0.67220067, 0.87184995, ..., 0.70564415, 1.06574985,\n",
       "        1.27132419],\n",
       "       [1.0593298 , 1.024984  , 0.89098823, ..., 0.791968  , 0.89085179,\n",
       "        1.0536655 ],\n",
       "       [0.44950381, 0.63261882, 0.79955778, ..., 0.38567025, 0.47811225,\n",
       "        0.65965402]])"
      ]
     },
     "execution_count": 364,
     "metadata": {},
     "output_type": "execute_result"
    }
   ],
   "source": [
    "master_dataset.iloc[:, :-1].values"
   ]
  },
  {
   "cell_type": "code",
   "execution_count": 365,
   "metadata": {},
   "outputs": [
    {
     "name": "stdout",
     "output_type": "stream",
     "text": [
      "*** Feature extraction started ***\n"
     ]
    },
    {
     "data": {
      "text/html": [
       "\n",
       "              <p>\n",
       "                  Progress: 100% Complete\n",
       "              <p/>\n",
       "              <progress\n",
       "                  value='20'\n",
       "                  max='20',\n",
       "                  style='width: 25%',\n",
       "              >\n",
       "                  20\n",
       "              </progress>\n",
       "\n",
       "    "
      ],
      "text/plain": [
       "<IPython.core.display.HTML object>"
      ]
     },
     "metadata": {},
     "output_type": "display_data"
    },
    {
     "name": "stdout",
     "output_type": "stream",
     "text": [
      "\n",
      "*** Feature extraction finished ***\n",
      "*** Feature extraction started ***\n"
     ]
    },
    {
     "data": {
      "text/html": [
       "\n",
       "              <p>\n",
       "                  Progress: 100% Complete\n",
       "              <p/>\n",
       "              <progress\n",
       "                  value='20'\n",
       "                  max='20',\n",
       "                  style='width: 25%',\n",
       "              >\n",
       "                  20\n",
       "              </progress>\n",
       "\n",
       "    "
      ],
      "text/plain": [
       "<IPython.core.display.HTML object>"
      ]
     },
     "metadata": {},
     "output_type": "display_data"
    },
    {
     "name": "stdout",
     "output_type": "stream",
     "text": [
      "\n",
      "*** Feature extraction finished ***\n",
      "*** Feature extraction started ***\n"
     ]
    },
    {
     "data": {
      "text/html": [
       "\n",
       "              <p>\n",
       "                  Progress: 100% Complete\n",
       "              <p/>\n",
       "              <progress\n",
       "                  value='20'\n",
       "                  max='20',\n",
       "                  style='width: 25%',\n",
       "              >\n",
       "                  20\n",
       "              </progress>\n",
       "\n",
       "    "
      ],
      "text/plain": [
       "<IPython.core.display.HTML object>"
      ]
     },
     "metadata": {},
     "output_type": "display_data"
    },
    {
     "name": "stdout",
     "output_type": "stream",
     "text": [
      "\n",
      "*** Feature extraction finished ***\n",
      "*** Feature extraction started ***\n"
     ]
    },
    {
     "data": {
      "text/html": [
       "\n",
       "              <p>\n",
       "                  Progress: 100% Complete\n",
       "              <p/>\n",
       "              <progress\n",
       "                  value='20'\n",
       "                  max='20',\n",
       "                  style='width: 25%',\n",
       "              >\n",
       "                  20\n",
       "              </progress>\n",
       "\n",
       "    "
      ],
      "text/plain": [
       "<IPython.core.display.HTML object>"
      ]
     },
     "metadata": {},
     "output_type": "display_data"
    },
    {
     "name": "stdout",
     "output_type": "stream",
     "text": [
      "\n",
      "*** Feature extraction finished ***\n",
      "*** Feature extraction started ***\n"
     ]
    },
    {
     "data": {
      "text/html": [
       "\n",
       "              <p>\n",
       "                  Progress: 100% Complete\n",
       "              <p/>\n",
       "              <progress\n",
       "                  value='20'\n",
       "                  max='20',\n",
       "                  style='width: 25%',\n",
       "              >\n",
       "                  20\n",
       "              </progress>\n",
       "\n",
       "    "
      ],
      "text/plain": [
       "<IPython.core.display.HTML object>"
      ]
     },
     "metadata": {},
     "output_type": "display_data"
    },
    {
     "name": "stdout",
     "output_type": "stream",
     "text": [
      "\n",
      "*** Feature extraction finished ***\n",
      "*** Feature extraction started ***\n"
     ]
    },
    {
     "data": {
      "text/html": [
       "\n",
       "              <p>\n",
       "                  Progress: 100% Complete\n",
       "              <p/>\n",
       "              <progress\n",
       "                  value='20'\n",
       "                  max='20',\n",
       "                  style='width: 25%',\n",
       "              >\n",
       "                  20\n",
       "              </progress>\n",
       "\n",
       "    "
      ],
      "text/plain": [
       "<IPython.core.display.HTML object>"
      ]
     },
     "metadata": {},
     "output_type": "display_data"
    },
    {
     "name": "stdout",
     "output_type": "stream",
     "text": [
      "\n",
      "*** Feature extraction finished ***\n",
      "*** Feature extraction started ***\n"
     ]
    },
    {
     "data": {
      "text/html": [
       "\n",
       "              <p>\n",
       "                  Progress: 100% Complete\n",
       "              <p/>\n",
       "              <progress\n",
       "                  value='20'\n",
       "                  max='20',\n",
       "                  style='width: 25%',\n",
       "              >\n",
       "                  20\n",
       "              </progress>\n",
       "\n",
       "    "
      ],
      "text/plain": [
       "<IPython.core.display.HTML object>"
      ]
     },
     "metadata": {},
     "output_type": "display_data"
    },
    {
     "name": "stdout",
     "output_type": "stream",
     "text": [
      "\n",
      "*** Feature extraction finished ***\n",
      "*** Feature extraction started ***\n"
     ]
    },
    {
     "data": {
      "text/html": [
       "\n",
       "              <p>\n",
       "                  Progress: 100% Complete\n",
       "              <p/>\n",
       "              <progress\n",
       "                  value='20'\n",
       "                  max='20',\n",
       "                  style='width: 25%',\n",
       "              >\n",
       "                  20\n",
       "              </progress>\n",
       "\n",
       "    "
      ],
      "text/plain": [
       "<IPython.core.display.HTML object>"
      ]
     },
     "metadata": {},
     "output_type": "display_data"
    },
    {
     "name": "stdout",
     "output_type": "stream",
     "text": [
      "\n",
      "*** Feature extraction finished ***\n",
      "*** Feature extraction started ***\n"
     ]
    },
    {
     "data": {
      "text/html": [
       "\n",
       "              <p>\n",
       "                  Progress: 100% Complete\n",
       "              <p/>\n",
       "              <progress\n",
       "                  value='20'\n",
       "                  max='20',\n",
       "                  style='width: 25%',\n",
       "              >\n",
       "                  20\n",
       "              </progress>\n",
       "\n",
       "    "
      ],
      "text/plain": [
       "<IPython.core.display.HTML object>"
      ]
     },
     "metadata": {},
     "output_type": "display_data"
    },
    {
     "name": "stdout",
     "output_type": "stream",
     "text": [
      "\n",
      "*** Feature extraction finished ***\n",
      "*** Feature extraction started ***\n"
     ]
    },
    {
     "data": {
      "text/html": [
       "\n",
       "              <p>\n",
       "                  Progress: 100% Complete\n",
       "              <p/>\n",
       "              <progress\n",
       "                  value='20'\n",
       "                  max='20',\n",
       "                  style='width: 25%',\n",
       "              >\n",
       "                  20\n",
       "              </progress>\n",
       "\n",
       "    "
      ],
      "text/plain": [
       "<IPython.core.display.HTML object>"
      ]
     },
     "metadata": {},
     "output_type": "display_data"
    },
    {
     "name": "stdout",
     "output_type": "stream",
     "text": [
      "\n",
      "*** Feature extraction finished ***\n",
      "*** Feature extraction started ***\n"
     ]
    },
    {
     "data": {
      "text/html": [
       "\n",
       "              <p>\n",
       "                  Progress: 100% Complete\n",
       "              <p/>\n",
       "              <progress\n",
       "                  value='20'\n",
       "                  max='20',\n",
       "                  style='width: 25%',\n",
       "              >\n",
       "                  20\n",
       "              </progress>\n",
       "\n",
       "    "
      ],
      "text/plain": [
       "<IPython.core.display.HTML object>"
      ]
     },
     "metadata": {},
     "output_type": "display_data"
    },
    {
     "name": "stdout",
     "output_type": "stream",
     "text": [
      "\n",
      "*** Feature extraction finished ***\n",
      "*** Feature extraction started ***\n"
     ]
    },
    {
     "data": {
      "text/html": [
       "\n",
       "              <p>\n",
       "                  Progress: 100% Complete\n",
       "              <p/>\n",
       "              <progress\n",
       "                  value='20'\n",
       "                  max='20',\n",
       "                  style='width: 25%',\n",
       "              >\n",
       "                  20\n",
       "              </progress>\n",
       "\n",
       "    "
      ],
      "text/plain": [
       "<IPython.core.display.HTML object>"
      ]
     },
     "metadata": {},
     "output_type": "display_data"
    },
    {
     "name": "stdout",
     "output_type": "stream",
     "text": [
      "\n",
      "*** Feature extraction finished ***\n",
      "*** Feature extraction started ***\n"
     ]
    },
    {
     "data": {
      "text/html": [
       "\n",
       "              <p>\n",
       "                  Progress: 100% Complete\n",
       "              <p/>\n",
       "              <progress\n",
       "                  value='20'\n",
       "                  max='20',\n",
       "                  style='width: 25%',\n",
       "              >\n",
       "                  20\n",
       "              </progress>\n",
       "\n",
       "    "
      ],
      "text/plain": [
       "<IPython.core.display.HTML object>"
      ]
     },
     "metadata": {},
     "output_type": "display_data"
    },
    {
     "name": "stdout",
     "output_type": "stream",
     "text": [
      "\n",
      "*** Feature extraction finished ***\n",
      "*** Feature extraction started ***\n"
     ]
    },
    {
     "data": {
      "text/html": [
       "\n",
       "              <p>\n",
       "                  Progress: 100% Complete\n",
       "              <p/>\n",
       "              <progress\n",
       "                  value='20'\n",
       "                  max='20',\n",
       "                  style='width: 25%',\n",
       "              >\n",
       "                  20\n",
       "              </progress>\n",
       "\n",
       "    "
      ],
      "text/plain": [
       "<IPython.core.display.HTML object>"
      ]
     },
     "metadata": {},
     "output_type": "display_data"
    },
    {
     "name": "stdout",
     "output_type": "stream",
     "text": [
      "\n",
      "*** Feature extraction finished ***\n",
      "*** Feature extraction started ***\n"
     ]
    },
    {
     "data": {
      "text/html": [
       "\n",
       "              <p>\n",
       "                  Progress: 100% Complete\n",
       "              <p/>\n",
       "              <progress\n",
       "                  value='20'\n",
       "                  max='20',\n",
       "                  style='width: 25%',\n",
       "              >\n",
       "                  20\n",
       "              </progress>\n",
       "\n",
       "    "
      ],
      "text/plain": [
       "<IPython.core.display.HTML object>"
      ]
     },
     "metadata": {},
     "output_type": "display_data"
    },
    {
     "name": "stdout",
     "output_type": "stream",
     "text": [
      "\n",
      "*** Feature extraction finished ***\n",
      "*** Feature extraction started ***\n"
     ]
    },
    {
     "data": {
      "text/html": [
       "\n",
       "              <p>\n",
       "                  Progress: 100% Complete\n",
       "              <p/>\n",
       "              <progress\n",
       "                  value='20'\n",
       "                  max='20',\n",
       "                  style='width: 25%',\n",
       "              >\n",
       "                  20\n",
       "              </progress>\n",
       "\n",
       "    "
      ],
      "text/plain": [
       "<IPython.core.display.HTML object>"
      ]
     },
     "metadata": {},
     "output_type": "display_data"
    },
    {
     "name": "stdout",
     "output_type": "stream",
     "text": [
      "\n",
      "*** Feature extraction finished ***\n",
      "*** Feature extraction started ***\n"
     ]
    },
    {
     "data": {
      "text/html": [
       "\n",
       "              <p>\n",
       "                  Progress: 100% Complete\n",
       "              <p/>\n",
       "              <progress\n",
       "                  value='20'\n",
       "                  max='20',\n",
       "                  style='width: 25%',\n",
       "              >\n",
       "                  20\n",
       "              </progress>\n",
       "\n",
       "    "
      ],
      "text/plain": [
       "<IPython.core.display.HTML object>"
      ]
     },
     "metadata": {},
     "output_type": "display_data"
    },
    {
     "name": "stdout",
     "output_type": "stream",
     "text": [
      "\n",
      "*** Feature extraction finished ***\n",
      "*** Feature extraction started ***\n"
     ]
    },
    {
     "data": {
      "text/html": [
       "\n",
       "              <p>\n",
       "                  Progress: 100% Complete\n",
       "              <p/>\n",
       "              <progress\n",
       "                  value='20'\n",
       "                  max='20',\n",
       "                  style='width: 25%',\n",
       "              >\n",
       "                  20\n",
       "              </progress>\n",
       "\n",
       "    "
      ],
      "text/plain": [
       "<IPython.core.display.HTML object>"
      ]
     },
     "metadata": {},
     "output_type": "display_data"
    },
    {
     "name": "stdout",
     "output_type": "stream",
     "text": [
      "\n",
      "*** Feature extraction finished ***\n",
      "*** Feature extraction started ***\n"
     ]
    },
    {
     "data": {
      "text/html": [
       "\n",
       "              <p>\n",
       "                  Progress: 100% Complete\n",
       "              <p/>\n",
       "              <progress\n",
       "                  value='20'\n",
       "                  max='20',\n",
       "                  style='width: 25%',\n",
       "              >\n",
       "                  20\n",
       "              </progress>\n",
       "\n",
       "    "
      ],
      "text/plain": [
       "<IPython.core.display.HTML object>"
      ]
     },
     "metadata": {},
     "output_type": "display_data"
    },
    {
     "name": "stdout",
     "output_type": "stream",
     "text": [
      "\n",
      "*** Feature extraction finished ***\n",
      "*** Feature extraction started ***\n"
     ]
    },
    {
     "data": {
      "text/html": [
       "\n",
       "              <p>\n",
       "                  Progress: 100% Complete\n",
       "              <p/>\n",
       "              <progress\n",
       "                  value='20'\n",
       "                  max='20',\n",
       "                  style='width: 25%',\n",
       "              >\n",
       "                  20\n",
       "              </progress>\n",
       "\n",
       "    "
      ],
      "text/plain": [
       "<IPython.core.display.HTML object>"
      ]
     },
     "metadata": {},
     "output_type": "display_data"
    },
    {
     "name": "stdout",
     "output_type": "stream",
     "text": [
      "\n",
      "*** Feature extraction finished ***\n",
      "*** Feature extraction started ***\n"
     ]
    },
    {
     "data": {
      "text/html": [
       "\n",
       "              <p>\n",
       "                  Progress: 100% Complete\n",
       "              <p/>\n",
       "              <progress\n",
       "                  value='20'\n",
       "                  max='20',\n",
       "                  style='width: 25%',\n",
       "              >\n",
       "                  20\n",
       "              </progress>\n",
       "\n",
       "    "
      ],
      "text/plain": [
       "<IPython.core.display.HTML object>"
      ]
     },
     "metadata": {},
     "output_type": "display_data"
    },
    {
     "name": "stdout",
     "output_type": "stream",
     "text": [
      "\n",
      "*** Feature extraction finished ***\n",
      "*** Feature extraction started ***\n"
     ]
    },
    {
     "data": {
      "text/html": [
       "\n",
       "              <p>\n",
       "                  Progress: 100% Complete\n",
       "              <p/>\n",
       "              <progress\n",
       "                  value='20'\n",
       "                  max='20',\n",
       "                  style='width: 25%',\n",
       "              >\n",
       "                  20\n",
       "              </progress>\n",
       "\n",
       "    "
      ],
      "text/plain": [
       "<IPython.core.display.HTML object>"
      ]
     },
     "metadata": {},
     "output_type": "display_data"
    },
    {
     "name": "stdout",
     "output_type": "stream",
     "text": [
      "\n",
      "*** Feature extraction finished ***\n",
      "*** Feature extraction started ***\n"
     ]
    },
    {
     "data": {
      "text/html": [
       "\n",
       "              <p>\n",
       "                  Progress: 100% Complete\n",
       "              <p/>\n",
       "              <progress\n",
       "                  value='20'\n",
       "                  max='20',\n",
       "                  style='width: 25%',\n",
       "              >\n",
       "                  20\n",
       "              </progress>\n",
       "\n",
       "    "
      ],
      "text/plain": [
       "<IPython.core.display.HTML object>"
      ]
     },
     "metadata": {},
     "output_type": "display_data"
    },
    {
     "name": "stdout",
     "output_type": "stream",
     "text": [
      "\n",
      "*** Feature extraction finished ***\n",
      "*** Feature extraction started ***\n"
     ]
    },
    {
     "data": {
      "text/html": [
       "\n",
       "              <p>\n",
       "                  Progress: 100% Complete\n",
       "              <p/>\n",
       "              <progress\n",
       "                  value='20'\n",
       "                  max='20',\n",
       "                  style='width: 25%',\n",
       "              >\n",
       "                  20\n",
       "              </progress>\n",
       "\n",
       "    "
      ],
      "text/plain": [
       "<IPython.core.display.HTML object>"
      ]
     },
     "metadata": {},
     "output_type": "display_data"
    },
    {
     "name": "stdout",
     "output_type": "stream",
     "text": [
      "\n",
      "*** Feature extraction finished ***\n",
      "*** Feature extraction started ***\n"
     ]
    },
    {
     "data": {
      "text/html": [
       "\n",
       "              <p>\n",
       "                  Progress: 100% Complete\n",
       "              <p/>\n",
       "              <progress\n",
       "                  value='20'\n",
       "                  max='20',\n",
       "                  style='width: 25%',\n",
       "              >\n",
       "                  20\n",
       "              </progress>\n",
       "\n",
       "    "
      ],
      "text/plain": [
       "<IPython.core.display.HTML object>"
      ]
     },
     "metadata": {},
     "output_type": "display_data"
    },
    {
     "name": "stdout",
     "output_type": "stream",
     "text": [
      "\n",
      "*** Feature extraction finished ***\n",
      "*** Feature extraction started ***\n"
     ]
    },
    {
     "data": {
      "text/html": [
       "\n",
       "              <p>\n",
       "                  Progress: 100% Complete\n",
       "              <p/>\n",
       "              <progress\n",
       "                  value='20'\n",
       "                  max='20',\n",
       "                  style='width: 25%',\n",
       "              >\n",
       "                  20\n",
       "              </progress>\n",
       "\n",
       "    "
      ],
      "text/plain": [
       "<IPython.core.display.HTML object>"
      ]
     },
     "metadata": {},
     "output_type": "display_data"
    },
    {
     "name": "stdout",
     "output_type": "stream",
     "text": [
      "\n",
      "*** Feature extraction finished ***\n",
      "*** Feature extraction started ***\n"
     ]
    },
    {
     "data": {
      "text/html": [
       "\n",
       "              <p>\n",
       "                  Progress: 100% Complete\n",
       "              <p/>\n",
       "              <progress\n",
       "                  value='20'\n",
       "                  max='20',\n",
       "                  style='width: 25%',\n",
       "              >\n",
       "                  20\n",
       "              </progress>\n",
       "\n",
       "    "
      ],
      "text/plain": [
       "<IPython.core.display.HTML object>"
      ]
     },
     "metadata": {},
     "output_type": "display_data"
    },
    {
     "name": "stdout",
     "output_type": "stream",
     "text": [
      "\n",
      "*** Feature extraction finished ***\n",
      "*** Feature extraction started ***\n"
     ]
    },
    {
     "data": {
      "text/html": [
       "\n",
       "              <p>\n",
       "                  Progress: 100% Complete\n",
       "              <p/>\n",
       "              <progress\n",
       "                  value='20'\n",
       "                  max='20',\n",
       "                  style='width: 25%',\n",
       "              >\n",
       "                  20\n",
       "              </progress>\n",
       "\n",
       "    "
      ],
      "text/plain": [
       "<IPython.core.display.HTML object>"
      ]
     },
     "metadata": {},
     "output_type": "display_data"
    },
    {
     "name": "stdout",
     "output_type": "stream",
     "text": [
      "\n",
      "*** Feature extraction finished ***\n",
      "*** Feature extraction started ***\n"
     ]
    },
    {
     "data": {
      "text/html": [
       "\n",
       "              <p>\n",
       "                  Progress: 100% Complete\n",
       "              <p/>\n",
       "              <progress\n",
       "                  value='20'\n",
       "                  max='20',\n",
       "                  style='width: 25%',\n",
       "              >\n",
       "                  20\n",
       "              </progress>\n",
       "\n",
       "    "
      ],
      "text/plain": [
       "<IPython.core.display.HTML object>"
      ]
     },
     "metadata": {},
     "output_type": "display_data"
    },
    {
     "name": "stdout",
     "output_type": "stream",
     "text": [
      "\n",
      "*** Feature extraction finished ***\n",
      "*** Feature extraction started ***\n"
     ]
    },
    {
     "data": {
      "text/html": [
       "\n",
       "              <p>\n",
       "                  Progress: 100% Complete\n",
       "              <p/>\n",
       "              <progress\n",
       "                  value='20'\n",
       "                  max='20',\n",
       "                  style='width: 25%',\n",
       "              >\n",
       "                  20\n",
       "              </progress>\n",
       "\n",
       "    "
      ],
      "text/plain": [
       "<IPython.core.display.HTML object>"
      ]
     },
     "metadata": {},
     "output_type": "display_data"
    },
    {
     "name": "stdout",
     "output_type": "stream",
     "text": [
      "\n",
      "*** Feature extraction finished ***\n",
      "*** Feature extraction started ***\n"
     ]
    },
    {
     "data": {
      "text/html": [
       "\n",
       "              <p>\n",
       "                  Progress: 100% Complete\n",
       "              <p/>\n",
       "              <progress\n",
       "                  value='20'\n",
       "                  max='20',\n",
       "                  style='width: 25%',\n",
       "              >\n",
       "                  20\n",
       "              </progress>\n",
       "\n",
       "    "
      ],
      "text/plain": [
       "<IPython.core.display.HTML object>"
      ]
     },
     "metadata": {},
     "output_type": "display_data"
    },
    {
     "name": "stdout",
     "output_type": "stream",
     "text": [
      "\n",
      "*** Feature extraction finished ***\n",
      "*** Feature extraction started ***\n"
     ]
    },
    {
     "data": {
      "text/html": [
       "\n",
       "              <p>\n",
       "                  Progress: 100% Complete\n",
       "              <p/>\n",
       "              <progress\n",
       "                  value='20'\n",
       "                  max='20',\n",
       "                  style='width: 25%',\n",
       "              >\n",
       "                  20\n",
       "              </progress>\n",
       "\n",
       "    "
      ],
      "text/plain": [
       "<IPython.core.display.HTML object>"
      ]
     },
     "metadata": {},
     "output_type": "display_data"
    },
    {
     "name": "stdout",
     "output_type": "stream",
     "text": [
      "\n",
      "*** Feature extraction finished ***\n",
      "*** Feature extraction started ***\n"
     ]
    },
    {
     "data": {
      "text/html": [
       "\n",
       "              <p>\n",
       "                  Progress: 100% Complete\n",
       "              <p/>\n",
       "              <progress\n",
       "                  value='20'\n",
       "                  max='20',\n",
       "                  style='width: 25%',\n",
       "              >\n",
       "                  20\n",
       "              </progress>\n",
       "\n",
       "    "
      ],
      "text/plain": [
       "<IPython.core.display.HTML object>"
      ]
     },
     "metadata": {},
     "output_type": "display_data"
    },
    {
     "name": "stdout",
     "output_type": "stream",
     "text": [
      "\n",
      "*** Feature extraction finished ***\n",
      "*** Feature extraction started ***\n"
     ]
    },
    {
     "data": {
      "text/html": [
       "\n",
       "              <p>\n",
       "                  Progress: 100% Complete\n",
       "              <p/>\n",
       "              <progress\n",
       "                  value='20'\n",
       "                  max='20',\n",
       "                  style='width: 25%',\n",
       "              >\n",
       "                  20\n",
       "              </progress>\n",
       "\n",
       "    "
      ],
      "text/plain": [
       "<IPython.core.display.HTML object>"
      ]
     },
     "metadata": {},
     "output_type": "display_data"
    },
    {
     "name": "stdout",
     "output_type": "stream",
     "text": [
      "\n",
      "*** Feature extraction finished ***\n",
      "*** Feature extraction started ***\n"
     ]
    },
    {
     "data": {
      "text/html": [
       "\n",
       "              <p>\n",
       "                  Progress: 100% Complete\n",
       "              <p/>\n",
       "              <progress\n",
       "                  value='20'\n",
       "                  max='20',\n",
       "                  style='width: 25%',\n",
       "              >\n",
       "                  20\n",
       "              </progress>\n",
       "\n",
       "    "
      ],
      "text/plain": [
       "<IPython.core.display.HTML object>"
      ]
     },
     "metadata": {},
     "output_type": "display_data"
    },
    {
     "name": "stdout",
     "output_type": "stream",
     "text": [
      "\n",
      "*** Feature extraction finished ***\n",
      "*** Feature extraction started ***\n"
     ]
    },
    {
     "data": {
      "text/html": [
       "\n",
       "              <p>\n",
       "                  Progress: 100% Complete\n",
       "              <p/>\n",
       "              <progress\n",
       "                  value='20'\n",
       "                  max='20',\n",
       "                  style='width: 25%',\n",
       "              >\n",
       "                  20\n",
       "              </progress>\n",
       "\n",
       "    "
      ],
      "text/plain": [
       "<IPython.core.display.HTML object>"
      ]
     },
     "metadata": {},
     "output_type": "display_data"
    },
    {
     "name": "stdout",
     "output_type": "stream",
     "text": [
      "\n",
      "*** Feature extraction finished ***\n",
      "*** Feature extraction started ***\n"
     ]
    },
    {
     "data": {
      "text/html": [
       "\n",
       "              <p>\n",
       "                  Progress: 100% Complete\n",
       "              <p/>\n",
       "              <progress\n",
       "                  value='20'\n",
       "                  max='20',\n",
       "                  style='width: 25%',\n",
       "              >\n",
       "                  20\n",
       "              </progress>\n",
       "\n",
       "    "
      ],
      "text/plain": [
       "<IPython.core.display.HTML object>"
      ]
     },
     "metadata": {},
     "output_type": "display_data"
    },
    {
     "name": "stdout",
     "output_type": "stream",
     "text": [
      "\n",
      "*** Feature extraction finished ***\n",
      "*** Feature extraction started ***\n"
     ]
    },
    {
     "data": {
      "text/html": [
       "\n",
       "              <p>\n",
       "                  Progress: 100% Complete\n",
       "              <p/>\n",
       "              <progress\n",
       "                  value='20'\n",
       "                  max='20',\n",
       "                  style='width: 25%',\n",
       "              >\n",
       "                  20\n",
       "              </progress>\n",
       "\n",
       "    "
      ],
      "text/plain": [
       "<IPython.core.display.HTML object>"
      ]
     },
     "metadata": {},
     "output_type": "display_data"
    },
    {
     "name": "stdout",
     "output_type": "stream",
     "text": [
      "\n",
      "*** Feature extraction finished ***\n",
      "*** Feature extraction started ***\n"
     ]
    },
    {
     "data": {
      "text/html": [
       "\n",
       "              <p>\n",
       "                  Progress: 100% Complete\n",
       "              <p/>\n",
       "              <progress\n",
       "                  value='20'\n",
       "                  max='20',\n",
       "                  style='width: 25%',\n",
       "              >\n",
       "                  20\n",
       "              </progress>\n",
       "\n",
       "    "
      ],
      "text/plain": [
       "<IPython.core.display.HTML object>"
      ]
     },
     "metadata": {},
     "output_type": "display_data"
    },
    {
     "name": "stdout",
     "output_type": "stream",
     "text": [
      "\n",
      "*** Feature extraction finished ***\n",
      "*** Feature extraction started ***\n"
     ]
    },
    {
     "data": {
      "text/html": [
       "\n",
       "              <p>\n",
       "                  Progress: 100% Complete\n",
       "              <p/>\n",
       "              <progress\n",
       "                  value='20'\n",
       "                  max='20',\n",
       "                  style='width: 25%',\n",
       "              >\n",
       "                  20\n",
       "              </progress>\n",
       "\n",
       "    "
      ],
      "text/plain": [
       "<IPython.core.display.HTML object>"
      ]
     },
     "metadata": {},
     "output_type": "display_data"
    },
    {
     "name": "stdout",
     "output_type": "stream",
     "text": [
      "\n",
      "*** Feature extraction finished ***\n",
      "*** Feature extraction started ***\n"
     ]
    },
    {
     "data": {
      "text/html": [
       "\n",
       "              <p>\n",
       "                  Progress: 100% Complete\n",
       "              <p/>\n",
       "              <progress\n",
       "                  value='20'\n",
       "                  max='20',\n",
       "                  style='width: 25%',\n",
       "              >\n",
       "                  20\n",
       "              </progress>\n",
       "\n",
       "    "
      ],
      "text/plain": [
       "<IPython.core.display.HTML object>"
      ]
     },
     "metadata": {},
     "output_type": "display_data"
    },
    {
     "name": "stdout",
     "output_type": "stream",
     "text": [
      "\n",
      "*** Feature extraction finished ***\n",
      "*** Feature extraction started ***\n"
     ]
    },
    {
     "data": {
      "text/html": [
       "\n",
       "              <p>\n",
       "                  Progress: 100% Complete\n",
       "              <p/>\n",
       "              <progress\n",
       "                  value='20'\n",
       "                  max='20',\n",
       "                  style='width: 25%',\n",
       "              >\n",
       "                  20\n",
       "              </progress>\n",
       "\n",
       "    "
      ],
      "text/plain": [
       "<IPython.core.display.HTML object>"
      ]
     },
     "metadata": {},
     "output_type": "display_data"
    },
    {
     "name": "stdout",
     "output_type": "stream",
     "text": [
      "\n",
      "*** Feature extraction finished ***\n",
      "*** Feature extraction started ***\n"
     ]
    },
    {
     "data": {
      "text/html": [
       "\n",
       "              <p>\n",
       "                  Progress: 100% Complete\n",
       "              <p/>\n",
       "              <progress\n",
       "                  value='20'\n",
       "                  max='20',\n",
       "                  style='width: 25%',\n",
       "              >\n",
       "                  20\n",
       "              </progress>\n",
       "\n",
       "    "
      ],
      "text/plain": [
       "<IPython.core.display.HTML object>"
      ]
     },
     "metadata": {},
     "output_type": "display_data"
    },
    {
     "name": "stdout",
     "output_type": "stream",
     "text": [
      "\n",
      "*** Feature extraction finished ***\n",
      "*** Feature extraction started ***\n"
     ]
    },
    {
     "data": {
      "text/html": [
       "\n",
       "              <p>\n",
       "                  Progress: 100% Complete\n",
       "              <p/>\n",
       "              <progress\n",
       "                  value='20'\n",
       "                  max='20',\n",
       "                  style='width: 25%',\n",
       "              >\n",
       "                  20\n",
       "              </progress>\n",
       "\n",
       "    "
      ],
      "text/plain": [
       "<IPython.core.display.HTML object>"
      ]
     },
     "metadata": {},
     "output_type": "display_data"
    },
    {
     "name": "stdout",
     "output_type": "stream",
     "text": [
      "\n",
      "*** Feature extraction finished ***\n",
      "*** Feature extraction started ***\n"
     ]
    },
    {
     "data": {
      "text/html": [
       "\n",
       "              <p>\n",
       "                  Progress: 100% Complete\n",
       "              <p/>\n",
       "              <progress\n",
       "                  value='20'\n",
       "                  max='20',\n",
       "                  style='width: 25%',\n",
       "              >\n",
       "                  20\n",
       "              </progress>\n",
       "\n",
       "    "
      ],
      "text/plain": [
       "<IPython.core.display.HTML object>"
      ]
     },
     "metadata": {},
     "output_type": "display_data"
    },
    {
     "name": "stdout",
     "output_type": "stream",
     "text": [
      "\n",
      "*** Feature extraction finished ***\n",
      "*** Feature extraction started ***\n"
     ]
    },
    {
     "data": {
      "text/html": [
       "\n",
       "              <p>\n",
       "                  Progress: 100% Complete\n",
       "              <p/>\n",
       "              <progress\n",
       "                  value='20'\n",
       "                  max='20',\n",
       "                  style='width: 25%',\n",
       "              >\n",
       "                  20\n",
       "              </progress>\n",
       "\n",
       "    "
      ],
      "text/plain": [
       "<IPython.core.display.HTML object>"
      ]
     },
     "metadata": {},
     "output_type": "display_data"
    },
    {
     "name": "stdout",
     "output_type": "stream",
     "text": [
      "\n",
      "*** Feature extraction finished ***\n",
      "*** Feature extraction started ***\n"
     ]
    },
    {
     "data": {
      "text/html": [
       "\n",
       "              <p>\n",
       "                  Progress: 100% Complete\n",
       "              <p/>\n",
       "              <progress\n",
       "                  value='20'\n",
       "                  max='20',\n",
       "                  style='width: 25%',\n",
       "              >\n",
       "                  20\n",
       "              </progress>\n",
       "\n",
       "    "
      ],
      "text/plain": [
       "<IPython.core.display.HTML object>"
      ]
     },
     "metadata": {},
     "output_type": "display_data"
    },
    {
     "name": "stdout",
     "output_type": "stream",
     "text": [
      "\n",
      "*** Feature extraction finished ***\n",
      "*** Feature extraction started ***\n"
     ]
    },
    {
     "data": {
      "text/html": [
       "\n",
       "              <p>\n",
       "                  Progress: 100% Complete\n",
       "              <p/>\n",
       "              <progress\n",
       "                  value='20'\n",
       "                  max='20',\n",
       "                  style='width: 25%',\n",
       "              >\n",
       "                  20\n",
       "              </progress>\n",
       "\n",
       "    "
      ],
      "text/plain": [
       "<IPython.core.display.HTML object>"
      ]
     },
     "metadata": {},
     "output_type": "display_data"
    },
    {
     "name": "stdout",
     "output_type": "stream",
     "text": [
      "\n",
      "*** Feature extraction finished ***\n",
      "*** Feature extraction started ***\n"
     ]
    },
    {
     "data": {
      "text/html": [
       "\n",
       "              <p>\n",
       "                  Progress: 100% Complete\n",
       "              <p/>\n",
       "              <progress\n",
       "                  value='20'\n",
       "                  max='20',\n",
       "                  style='width: 25%',\n",
       "              >\n",
       "                  20\n",
       "              </progress>\n",
       "\n",
       "    "
      ],
      "text/plain": [
       "<IPython.core.display.HTML object>"
      ]
     },
     "metadata": {},
     "output_type": "display_data"
    },
    {
     "name": "stdout",
     "output_type": "stream",
     "text": [
      "\n",
      "*** Feature extraction finished ***\n",
      "*** Feature extraction started ***\n"
     ]
    },
    {
     "data": {
      "text/html": [
       "\n",
       "              <p>\n",
       "                  Progress: 100% Complete\n",
       "              <p/>\n",
       "              <progress\n",
       "                  value='20'\n",
       "                  max='20',\n",
       "                  style='width: 25%',\n",
       "              >\n",
       "                  20\n",
       "              </progress>\n",
       "\n",
       "    "
      ],
      "text/plain": [
       "<IPython.core.display.HTML object>"
      ]
     },
     "metadata": {},
     "output_type": "display_data"
    },
    {
     "name": "stdout",
     "output_type": "stream",
     "text": [
      "\n",
      "*** Feature extraction finished ***\n",
      "*** Feature extraction started ***\n"
     ]
    },
    {
     "data": {
      "text/html": [
       "\n",
       "              <p>\n",
       "                  Progress: 100% Complete\n",
       "              <p/>\n",
       "              <progress\n",
       "                  value='20'\n",
       "                  max='20',\n",
       "                  style='width: 25%',\n",
       "              >\n",
       "                  20\n",
       "              </progress>\n",
       "\n",
       "    "
      ],
      "text/plain": [
       "<IPython.core.display.HTML object>"
      ]
     },
     "metadata": {},
     "output_type": "display_data"
    },
    {
     "name": "stdout",
     "output_type": "stream",
     "text": [
      "\n",
      "*** Feature extraction finished ***\n",
      "*** Feature extraction started ***\n"
     ]
    },
    {
     "data": {
      "text/html": [
       "\n",
       "              <p>\n",
       "                  Progress: 100% Complete\n",
       "              <p/>\n",
       "              <progress\n",
       "                  value='20'\n",
       "                  max='20',\n",
       "                  style='width: 25%',\n",
       "              >\n",
       "                  20\n",
       "              </progress>\n",
       "\n",
       "    "
      ],
      "text/plain": [
       "<IPython.core.display.HTML object>"
      ]
     },
     "metadata": {},
     "output_type": "display_data"
    },
    {
     "name": "stdout",
     "output_type": "stream",
     "text": [
      "\n",
      "*** Feature extraction finished ***\n",
      "*** Feature extraction started ***\n"
     ]
    },
    {
     "data": {
      "text/html": [
       "\n",
       "              <p>\n",
       "                  Progress: 100% Complete\n",
       "              <p/>\n",
       "              <progress\n",
       "                  value='20'\n",
       "                  max='20',\n",
       "                  style='width: 25%',\n",
       "              >\n",
       "                  20\n",
       "              </progress>\n",
       "\n",
       "    "
      ],
      "text/plain": [
       "<IPython.core.display.HTML object>"
      ]
     },
     "metadata": {},
     "output_type": "display_data"
    },
    {
     "name": "stdout",
     "output_type": "stream",
     "text": [
      "\n",
      "*** Feature extraction finished ***\n",
      "*** Feature extraction started ***\n"
     ]
    },
    {
     "data": {
      "text/html": [
       "\n",
       "              <p>\n",
       "                  Progress: 100% Complete\n",
       "              <p/>\n",
       "              <progress\n",
       "                  value='20'\n",
       "                  max='20',\n",
       "                  style='width: 25%',\n",
       "              >\n",
       "                  20\n",
       "              </progress>\n",
       "\n",
       "    "
      ],
      "text/plain": [
       "<IPython.core.display.HTML object>"
      ]
     },
     "metadata": {},
     "output_type": "display_data"
    },
    {
     "name": "stdout",
     "output_type": "stream",
     "text": [
      "\n",
      "*** Feature extraction finished ***\n",
      "*** Feature extraction started ***\n"
     ]
    },
    {
     "data": {
      "text/html": [
       "\n",
       "              <p>\n",
       "                  Progress: 100% Complete\n",
       "              <p/>\n",
       "              <progress\n",
       "                  value='20'\n",
       "                  max='20',\n",
       "                  style='width: 25%',\n",
       "              >\n",
       "                  20\n",
       "              </progress>\n",
       "\n",
       "    "
      ],
      "text/plain": [
       "<IPython.core.display.HTML object>"
      ]
     },
     "metadata": {},
     "output_type": "display_data"
    },
    {
     "name": "stdout",
     "output_type": "stream",
     "text": [
      "\n",
      "*** Feature extraction finished ***\n",
      "*** Feature extraction started ***\n"
     ]
    },
    {
     "data": {
      "text/html": [
       "\n",
       "              <p>\n",
       "                  Progress: 100% Complete\n",
       "              <p/>\n",
       "              <progress\n",
       "                  value='20'\n",
       "                  max='20',\n",
       "                  style='width: 25%',\n",
       "              >\n",
       "                  20\n",
       "              </progress>\n",
       "\n",
       "    "
      ],
      "text/plain": [
       "<IPython.core.display.HTML object>"
      ]
     },
     "metadata": {},
     "output_type": "display_data"
    },
    {
     "name": "stdout",
     "output_type": "stream",
     "text": [
      "\n",
      "*** Feature extraction finished ***\n",
      "*** Feature extraction started ***\n"
     ]
    },
    {
     "data": {
      "text/html": [
       "\n",
       "              <p>\n",
       "                  Progress: 100% Complete\n",
       "              <p/>\n",
       "              <progress\n",
       "                  value='20'\n",
       "                  max='20',\n",
       "                  style='width: 25%',\n",
       "              >\n",
       "                  20\n",
       "              </progress>\n",
       "\n",
       "    "
      ],
      "text/plain": [
       "<IPython.core.display.HTML object>"
      ]
     },
     "metadata": {},
     "output_type": "display_data"
    },
    {
     "name": "stdout",
     "output_type": "stream",
     "text": [
      "\n",
      "*** Feature extraction finished ***\n",
      "*** Feature extraction started ***\n"
     ]
    },
    {
     "data": {
      "text/html": [
       "\n",
       "              <p>\n",
       "                  Progress: 100% Complete\n",
       "              <p/>\n",
       "              <progress\n",
       "                  value='20'\n",
       "                  max='20',\n",
       "                  style='width: 25%',\n",
       "              >\n",
       "                  20\n",
       "              </progress>\n",
       "\n",
       "    "
      ],
      "text/plain": [
       "<IPython.core.display.HTML object>"
      ]
     },
     "metadata": {},
     "output_type": "display_data"
    },
    {
     "name": "stdout",
     "output_type": "stream",
     "text": [
      "\n",
      "*** Feature extraction finished ***\n",
      "*** Feature extraction started ***\n"
     ]
    },
    {
     "data": {
      "text/html": [
       "\n",
       "              <p>\n",
       "                  Progress: 100% Complete\n",
       "              <p/>\n",
       "              <progress\n",
       "                  value='20'\n",
       "                  max='20',\n",
       "                  style='width: 25%',\n",
       "              >\n",
       "                  20\n",
       "              </progress>\n",
       "\n",
       "    "
      ],
      "text/plain": [
       "<IPython.core.display.HTML object>"
      ]
     },
     "metadata": {},
     "output_type": "display_data"
    },
    {
     "name": "stdout",
     "output_type": "stream",
     "text": [
      "\n",
      "*** Feature extraction finished ***\n",
      "*** Feature extraction started ***\n"
     ]
    },
    {
     "data": {
      "text/html": [
       "\n",
       "              <p>\n",
       "                  Progress: 100% Complete\n",
       "              <p/>\n",
       "              <progress\n",
       "                  value='20'\n",
       "                  max='20',\n",
       "                  style='width: 25%',\n",
       "              >\n",
       "                  20\n",
       "              </progress>\n",
       "\n",
       "    "
      ],
      "text/plain": [
       "<IPython.core.display.HTML object>"
      ]
     },
     "metadata": {},
     "output_type": "display_data"
    },
    {
     "name": "stdout",
     "output_type": "stream",
     "text": [
      "\n",
      "*** Feature extraction finished ***\n",
      "*** Feature extraction started ***\n"
     ]
    },
    {
     "data": {
      "text/html": [
       "\n",
       "              <p>\n",
       "                  Progress: 100% Complete\n",
       "              <p/>\n",
       "              <progress\n",
       "                  value='20'\n",
       "                  max='20',\n",
       "                  style='width: 25%',\n",
       "              >\n",
       "                  20\n",
       "              </progress>\n",
       "\n",
       "    "
      ],
      "text/plain": [
       "<IPython.core.display.HTML object>"
      ]
     },
     "metadata": {},
     "output_type": "display_data"
    },
    {
     "name": "stdout",
     "output_type": "stream",
     "text": [
      "\n",
      "*** Feature extraction finished ***\n",
      "*** Feature extraction started ***\n"
     ]
    },
    {
     "data": {
      "text/html": [
       "\n",
       "              <p>\n",
       "                  Progress: 100% Complete\n",
       "              <p/>\n",
       "              <progress\n",
       "                  value='20'\n",
       "                  max='20',\n",
       "                  style='width: 25%',\n",
       "              >\n",
       "                  20\n",
       "              </progress>\n",
       "\n",
       "    "
      ],
      "text/plain": [
       "<IPython.core.display.HTML object>"
      ]
     },
     "metadata": {},
     "output_type": "display_data"
    },
    {
     "name": "stdout",
     "output_type": "stream",
     "text": [
      "\n",
      "*** Feature extraction finished ***\n",
      "*** Feature extraction started ***\n"
     ]
    },
    {
     "data": {
      "text/html": [
       "\n",
       "              <p>\n",
       "                  Progress: 100% Complete\n",
       "              <p/>\n",
       "              <progress\n",
       "                  value='20'\n",
       "                  max='20',\n",
       "                  style='width: 25%',\n",
       "              >\n",
       "                  20\n",
       "              </progress>\n",
       "\n",
       "    "
      ],
      "text/plain": [
       "<IPython.core.display.HTML object>"
      ]
     },
     "metadata": {},
     "output_type": "display_data"
    },
    {
     "name": "stdout",
     "output_type": "stream",
     "text": [
      "\n",
      "*** Feature extraction finished ***\n",
      "*** Feature extraction started ***\n"
     ]
    },
    {
     "data": {
      "text/html": [
       "\n",
       "              <p>\n",
       "                  Progress: 100% Complete\n",
       "              <p/>\n",
       "              <progress\n",
       "                  value='20'\n",
       "                  max='20',\n",
       "                  style='width: 25%',\n",
       "              >\n",
       "                  20\n",
       "              </progress>\n",
       "\n",
       "    "
      ],
      "text/plain": [
       "<IPython.core.display.HTML object>"
      ]
     },
     "metadata": {},
     "output_type": "display_data"
    },
    {
     "name": "stdout",
     "output_type": "stream",
     "text": [
      "\n",
      "*** Feature extraction finished ***\n",
      "*** Feature extraction started ***\n"
     ]
    },
    {
     "data": {
      "text/html": [
       "\n",
       "              <p>\n",
       "                  Progress: 100% Complete\n",
       "              <p/>\n",
       "              <progress\n",
       "                  value='20'\n",
       "                  max='20',\n",
       "                  style='width: 25%',\n",
       "              >\n",
       "                  20\n",
       "              </progress>\n",
       "\n",
       "    "
      ],
      "text/plain": [
       "<IPython.core.display.HTML object>"
      ]
     },
     "metadata": {},
     "output_type": "display_data"
    },
    {
     "name": "stdout",
     "output_type": "stream",
     "text": [
      "\n",
      "*** Feature extraction finished ***\n",
      "*** Feature extraction started ***\n"
     ]
    },
    {
     "data": {
      "text/html": [
       "\n",
       "              <p>\n",
       "                  Progress: 100% Complete\n",
       "              <p/>\n",
       "              <progress\n",
       "                  value='20'\n",
       "                  max='20',\n",
       "                  style='width: 25%',\n",
       "              >\n",
       "                  20\n",
       "              </progress>\n",
       "\n",
       "    "
      ],
      "text/plain": [
       "<IPython.core.display.HTML object>"
      ]
     },
     "metadata": {},
     "output_type": "display_data"
    },
    {
     "name": "stdout",
     "output_type": "stream",
     "text": [
      "\n",
      "*** Feature extraction finished ***\n",
      "*** Feature extraction started ***\n"
     ]
    },
    {
     "data": {
      "text/html": [
       "\n",
       "              <p>\n",
       "                  Progress: 100% Complete\n",
       "              <p/>\n",
       "              <progress\n",
       "                  value='20'\n",
       "                  max='20',\n",
       "                  style='width: 25%',\n",
       "              >\n",
       "                  20\n",
       "              </progress>\n",
       "\n",
       "    "
      ],
      "text/plain": [
       "<IPython.core.display.HTML object>"
      ]
     },
     "metadata": {},
     "output_type": "display_data"
    },
    {
     "name": "stdout",
     "output_type": "stream",
     "text": [
      "\n",
      "*** Feature extraction finished ***\n",
      "*** Feature extraction started ***\n"
     ]
    },
    {
     "data": {
      "text/html": [
       "\n",
       "              <p>\n",
       "                  Progress: 100% Complete\n",
       "              <p/>\n",
       "              <progress\n",
       "                  value='20'\n",
       "                  max='20',\n",
       "                  style='width: 25%',\n",
       "              >\n",
       "                  20\n",
       "              </progress>\n",
       "\n",
       "    "
      ],
      "text/plain": [
       "<IPython.core.display.HTML object>"
      ]
     },
     "metadata": {},
     "output_type": "display_data"
    },
    {
     "name": "stdout",
     "output_type": "stream",
     "text": [
      "\n",
      "*** Feature extraction finished ***\n",
      "*** Feature extraction started ***\n"
     ]
    },
    {
     "data": {
      "text/html": [
       "\n",
       "              <p>\n",
       "                  Progress: 100% Complete\n",
       "              <p/>\n",
       "              <progress\n",
       "                  value='20'\n",
       "                  max='20',\n",
       "                  style='width: 25%',\n",
       "              >\n",
       "                  20\n",
       "              </progress>\n",
       "\n",
       "    "
      ],
      "text/plain": [
       "<IPython.core.display.HTML object>"
      ]
     },
     "metadata": {},
     "output_type": "display_data"
    },
    {
     "name": "stdout",
     "output_type": "stream",
     "text": [
      "\n",
      "*** Feature extraction finished ***\n",
      "*** Feature extraction started ***\n"
     ]
    },
    {
     "data": {
      "text/html": [
       "\n",
       "              <p>\n",
       "                  Progress: 100% Complete\n",
       "              <p/>\n",
       "              <progress\n",
       "                  value='20'\n",
       "                  max='20',\n",
       "                  style='width: 25%',\n",
       "              >\n",
       "                  20\n",
       "              </progress>\n",
       "\n",
       "    "
      ],
      "text/plain": [
       "<IPython.core.display.HTML object>"
      ]
     },
     "metadata": {},
     "output_type": "display_data"
    },
    {
     "name": "stdout",
     "output_type": "stream",
     "text": [
      "\n",
      "*** Feature extraction finished ***\n",
      "*** Feature extraction started ***\n"
     ]
    },
    {
     "data": {
      "text/html": [
       "\n",
       "              <p>\n",
       "                  Progress: 100% Complete\n",
       "              <p/>\n",
       "              <progress\n",
       "                  value='20'\n",
       "                  max='20',\n",
       "                  style='width: 25%',\n",
       "              >\n",
       "                  20\n",
       "              </progress>\n",
       "\n",
       "    "
      ],
      "text/plain": [
       "<IPython.core.display.HTML object>"
      ]
     },
     "metadata": {},
     "output_type": "display_data"
    },
    {
     "name": "stdout",
     "output_type": "stream",
     "text": [
      "\n",
      "*** Feature extraction finished ***\n",
      "*** Feature extraction started ***\n"
     ]
    },
    {
     "data": {
      "text/html": [
       "\n",
       "              <p>\n",
       "                  Progress: 100% Complete\n",
       "              <p/>\n",
       "              <progress\n",
       "                  value='20'\n",
       "                  max='20',\n",
       "                  style='width: 25%',\n",
       "              >\n",
       "                  20\n",
       "              </progress>\n",
       "\n",
       "    "
      ],
      "text/plain": [
       "<IPython.core.display.HTML object>"
      ]
     },
     "metadata": {},
     "output_type": "display_data"
    },
    {
     "name": "stdout",
     "output_type": "stream",
     "text": [
      "\n",
      "*** Feature extraction finished ***\n",
      "*** Feature extraction started ***\n"
     ]
    },
    {
     "data": {
      "text/html": [
       "\n",
       "              <p>\n",
       "                  Progress: 100% Complete\n",
       "              <p/>\n",
       "              <progress\n",
       "                  value='20'\n",
       "                  max='20',\n",
       "                  style='width: 25%',\n",
       "              >\n",
       "                  20\n",
       "              </progress>\n",
       "\n",
       "    "
      ],
      "text/plain": [
       "<IPython.core.display.HTML object>"
      ]
     },
     "metadata": {},
     "output_type": "display_data"
    },
    {
     "name": "stdout",
     "output_type": "stream",
     "text": [
      "\n",
      "*** Feature extraction finished ***\n",
      "*** Feature extraction started ***\n"
     ]
    },
    {
     "data": {
      "text/html": [
       "\n",
       "              <p>\n",
       "                  Progress: 100% Complete\n",
       "              <p/>\n",
       "              <progress\n",
       "                  value='20'\n",
       "                  max='20',\n",
       "                  style='width: 25%',\n",
       "              >\n",
       "                  20\n",
       "              </progress>\n",
       "\n",
       "    "
      ],
      "text/plain": [
       "<IPython.core.display.HTML object>"
      ]
     },
     "metadata": {},
     "output_type": "display_data"
    },
    {
     "name": "stdout",
     "output_type": "stream",
     "text": [
      "\n",
      "*** Feature extraction finished ***\n",
      "*** Feature extraction started ***\n"
     ]
    },
    {
     "data": {
      "text/html": [
       "\n",
       "              <p>\n",
       "                  Progress: 100% Complete\n",
       "              <p/>\n",
       "              <progress\n",
       "                  value='20'\n",
       "                  max='20',\n",
       "                  style='width: 25%',\n",
       "              >\n",
       "                  20\n",
       "              </progress>\n",
       "\n",
       "    "
      ],
      "text/plain": [
       "<IPython.core.display.HTML object>"
      ]
     },
     "metadata": {},
     "output_type": "display_data"
    },
    {
     "name": "stdout",
     "output_type": "stream",
     "text": [
      "\n",
      "*** Feature extraction finished ***\n",
      "*** Feature extraction started ***\n"
     ]
    },
    {
     "data": {
      "text/html": [
       "\n",
       "              <p>\n",
       "                  Progress: 100% Complete\n",
       "              <p/>\n",
       "              <progress\n",
       "                  value='20'\n",
       "                  max='20',\n",
       "                  style='width: 25%',\n",
       "              >\n",
       "                  20\n",
       "              </progress>\n",
       "\n",
       "    "
      ],
      "text/plain": [
       "<IPython.core.display.HTML object>"
      ]
     },
     "metadata": {},
     "output_type": "display_data"
    },
    {
     "name": "stdout",
     "output_type": "stream",
     "text": [
      "\n",
      "*** Feature extraction finished ***\n",
      "*** Feature extraction started ***\n"
     ]
    },
    {
     "data": {
      "text/html": [
       "\n",
       "              <p>\n",
       "                  Progress: 100% Complete\n",
       "              <p/>\n",
       "              <progress\n",
       "                  value='20'\n",
       "                  max='20',\n",
       "                  style='width: 25%',\n",
       "              >\n",
       "                  20\n",
       "              </progress>\n",
       "\n",
       "    "
      ],
      "text/plain": [
       "<IPython.core.display.HTML object>"
      ]
     },
     "metadata": {},
     "output_type": "display_data"
    },
    {
     "name": "stdout",
     "output_type": "stream",
     "text": [
      "\n",
      "*** Feature extraction finished ***\n",
      "*** Feature extraction started ***\n"
     ]
    },
    {
     "data": {
      "text/html": [
       "\n",
       "              <p>\n",
       "                  Progress: 100% Complete\n",
       "              <p/>\n",
       "              <progress\n",
       "                  value='20'\n",
       "                  max='20',\n",
       "                  style='width: 25%',\n",
       "              >\n",
       "                  20\n",
       "              </progress>\n",
       "\n",
       "    "
      ],
      "text/plain": [
       "<IPython.core.display.HTML object>"
      ]
     },
     "metadata": {},
     "output_type": "display_data"
    },
    {
     "name": "stdout",
     "output_type": "stream",
     "text": [
      "\n",
      "*** Feature extraction finished ***\n",
      "*** Feature extraction started ***\n"
     ]
    },
    {
     "data": {
      "text/html": [
       "\n",
       "              <p>\n",
       "                  Progress: 100% Complete\n",
       "              <p/>\n",
       "              <progress\n",
       "                  value='20'\n",
       "                  max='20',\n",
       "                  style='width: 25%',\n",
       "              >\n",
       "                  20\n",
       "              </progress>\n",
       "\n",
       "    "
      ],
      "text/plain": [
       "<IPython.core.display.HTML object>"
      ]
     },
     "metadata": {},
     "output_type": "display_data"
    },
    {
     "name": "stdout",
     "output_type": "stream",
     "text": [
      "\n",
      "*** Feature extraction finished ***\n",
      "*** Feature extraction started ***\n"
     ]
    },
    {
     "data": {
      "text/html": [
       "\n",
       "              <p>\n",
       "                  Progress: 100% Complete\n",
       "              <p/>\n",
       "              <progress\n",
       "                  value='20'\n",
       "                  max='20',\n",
       "                  style='width: 25%',\n",
       "              >\n",
       "                  20\n",
       "              </progress>\n",
       "\n",
       "    "
      ],
      "text/plain": [
       "<IPython.core.display.HTML object>"
      ]
     },
     "metadata": {},
     "output_type": "display_data"
    },
    {
     "name": "stdout",
     "output_type": "stream",
     "text": [
      "\n",
      "*** Feature extraction finished ***\n",
      "*** Feature extraction started ***\n"
     ]
    },
    {
     "data": {
      "text/html": [
       "\n",
       "              <p>\n",
       "                  Progress: 100% Complete\n",
       "              <p/>\n",
       "              <progress\n",
       "                  value='20'\n",
       "                  max='20',\n",
       "                  style='width: 25%',\n",
       "              >\n",
       "                  20\n",
       "              </progress>\n",
       "\n",
       "    "
      ],
      "text/plain": [
       "<IPython.core.display.HTML object>"
      ]
     },
     "metadata": {},
     "output_type": "display_data"
    },
    {
     "name": "stdout",
     "output_type": "stream",
     "text": [
      "\n",
      "*** Feature extraction finished ***\n",
      "*** Feature extraction started ***\n"
     ]
    },
    {
     "data": {
      "text/html": [
       "\n",
       "              <p>\n",
       "                  Progress: 100% Complete\n",
       "              <p/>\n",
       "              <progress\n",
       "                  value='20'\n",
       "                  max='20',\n",
       "                  style='width: 25%',\n",
       "              >\n",
       "                  20\n",
       "              </progress>\n",
       "\n",
       "    "
      ],
      "text/plain": [
       "<IPython.core.display.HTML object>"
      ]
     },
     "metadata": {},
     "output_type": "display_data"
    },
    {
     "name": "stdout",
     "output_type": "stream",
     "text": [
      "\n",
      "*** Feature extraction finished ***\n",
      "*** Feature extraction started ***\n"
     ]
    },
    {
     "data": {
      "text/html": [
       "\n",
       "              <p>\n",
       "                  Progress: 100% Complete\n",
       "              <p/>\n",
       "              <progress\n",
       "                  value='20'\n",
       "                  max='20',\n",
       "                  style='width: 25%',\n",
       "              >\n",
       "                  20\n",
       "              </progress>\n",
       "\n",
       "    "
      ],
      "text/plain": [
       "<IPython.core.display.HTML object>"
      ]
     },
     "metadata": {},
     "output_type": "display_data"
    },
    {
     "name": "stdout",
     "output_type": "stream",
     "text": [
      "\n",
      "*** Feature extraction finished ***\n",
      "*** Feature extraction started ***\n"
     ]
    },
    {
     "data": {
      "text/html": [
       "\n",
       "              <p>\n",
       "                  Progress: 100% Complete\n",
       "              <p/>\n",
       "              <progress\n",
       "                  value='20'\n",
       "                  max='20',\n",
       "                  style='width: 25%',\n",
       "              >\n",
       "                  20\n",
       "              </progress>\n",
       "\n",
       "    "
      ],
      "text/plain": [
       "<IPython.core.display.HTML object>"
      ]
     },
     "metadata": {},
     "output_type": "display_data"
    },
    {
     "name": "stdout",
     "output_type": "stream",
     "text": [
      "\n",
      "*** Feature extraction finished ***\n",
      "*** Feature extraction started ***\n"
     ]
    },
    {
     "data": {
      "text/html": [
       "\n",
       "              <p>\n",
       "                  Progress: 100% Complete\n",
       "              <p/>\n",
       "              <progress\n",
       "                  value='20'\n",
       "                  max='20',\n",
       "                  style='width: 25%',\n",
       "              >\n",
       "                  20\n",
       "              </progress>\n",
       "\n",
       "    "
      ],
      "text/plain": [
       "<IPython.core.display.HTML object>"
      ]
     },
     "metadata": {},
     "output_type": "display_data"
    },
    {
     "name": "stdout",
     "output_type": "stream",
     "text": [
      "\n",
      "*** Feature extraction finished ***\n",
      "*** Feature extraction started ***\n"
     ]
    },
    {
     "data": {
      "text/html": [
       "\n",
       "              <p>\n",
       "                  Progress: 100% Complete\n",
       "              <p/>\n",
       "              <progress\n",
       "                  value='20'\n",
       "                  max='20',\n",
       "                  style='width: 25%',\n",
       "              >\n",
       "                  20\n",
       "              </progress>\n",
       "\n",
       "    "
      ],
      "text/plain": [
       "<IPython.core.display.HTML object>"
      ]
     },
     "metadata": {},
     "output_type": "display_data"
    },
    {
     "name": "stdout",
     "output_type": "stream",
     "text": [
      "\n",
      "*** Feature extraction finished ***\n",
      "*** Feature extraction started ***\n"
     ]
    },
    {
     "data": {
      "text/html": [
       "\n",
       "              <p>\n",
       "                  Progress: 100% Complete\n",
       "              <p/>\n",
       "              <progress\n",
       "                  value='20'\n",
       "                  max='20',\n",
       "                  style='width: 25%',\n",
       "              >\n",
       "                  20\n",
       "              </progress>\n",
       "\n",
       "    "
      ],
      "text/plain": [
       "<IPython.core.display.HTML object>"
      ]
     },
     "metadata": {},
     "output_type": "display_data"
    },
    {
     "name": "stdout",
     "output_type": "stream",
     "text": [
      "\n",
      "*** Feature extraction finished ***\n",
      "*** Feature extraction started ***\n"
     ]
    },
    {
     "data": {
      "text/html": [
       "\n",
       "              <p>\n",
       "                  Progress: 100% Complete\n",
       "              <p/>\n",
       "              <progress\n",
       "                  value='20'\n",
       "                  max='20',\n",
       "                  style='width: 25%',\n",
       "              >\n",
       "                  20\n",
       "              </progress>\n",
       "\n",
       "    "
      ],
      "text/plain": [
       "<IPython.core.display.HTML object>"
      ]
     },
     "metadata": {},
     "output_type": "display_data"
    },
    {
     "name": "stdout",
     "output_type": "stream",
     "text": [
      "\n",
      "*** Feature extraction finished ***\n",
      "*** Feature extraction started ***\n"
     ]
    },
    {
     "data": {
      "text/html": [
       "\n",
       "              <p>\n",
       "                  Progress: 100% Complete\n",
       "              <p/>\n",
       "              <progress\n",
       "                  value='20'\n",
       "                  max='20',\n",
       "                  style='width: 25%',\n",
       "              >\n",
       "                  20\n",
       "              </progress>\n",
       "\n",
       "    "
      ],
      "text/plain": [
       "<IPython.core.display.HTML object>"
      ]
     },
     "metadata": {},
     "output_type": "display_data"
    },
    {
     "name": "stdout",
     "output_type": "stream",
     "text": [
      "\n",
      "*** Feature extraction finished ***\n",
      "*** Feature extraction started ***\n"
     ]
    },
    {
     "data": {
      "text/html": [
       "\n",
       "              <p>\n",
       "                  Progress: 100% Complete\n",
       "              <p/>\n",
       "              <progress\n",
       "                  value='20'\n",
       "                  max='20',\n",
       "                  style='width: 25%',\n",
       "              >\n",
       "                  20\n",
       "              </progress>\n",
       "\n",
       "    "
      ],
      "text/plain": [
       "<IPython.core.display.HTML object>"
      ]
     },
     "metadata": {},
     "output_type": "display_data"
    },
    {
     "name": "stdout",
     "output_type": "stream",
     "text": [
      "\n",
      "*** Feature extraction finished ***\n",
      "*** Feature extraction started ***\n"
     ]
    },
    {
     "data": {
      "text/html": [
       "\n",
       "              <p>\n",
       "                  Progress: 100% Complete\n",
       "              <p/>\n",
       "              <progress\n",
       "                  value='20'\n",
       "                  max='20',\n",
       "                  style='width: 25%',\n",
       "              >\n",
       "                  20\n",
       "              </progress>\n",
       "\n",
       "    "
      ],
      "text/plain": [
       "<IPython.core.display.HTML object>"
      ]
     },
     "metadata": {},
     "output_type": "display_data"
    },
    {
     "name": "stdout",
     "output_type": "stream",
     "text": [
      "\n",
      "*** Feature extraction finished ***\n",
      "*** Feature extraction started ***\n"
     ]
    },
    {
     "data": {
      "text/html": [
       "\n",
       "              <p>\n",
       "                  Progress: 100% Complete\n",
       "              <p/>\n",
       "              <progress\n",
       "                  value='20'\n",
       "                  max='20',\n",
       "                  style='width: 25%',\n",
       "              >\n",
       "                  20\n",
       "              </progress>\n",
       "\n",
       "    "
      ],
      "text/plain": [
       "<IPython.core.display.HTML object>"
      ]
     },
     "metadata": {},
     "output_type": "display_data"
    },
    {
     "name": "stdout",
     "output_type": "stream",
     "text": [
      "\n",
      "*** Feature extraction finished ***\n",
      "*** Feature extraction started ***\n"
     ]
    },
    {
     "data": {
      "text/html": [
       "\n",
       "              <p>\n",
       "                  Progress: 100% Complete\n",
       "              <p/>\n",
       "              <progress\n",
       "                  value='20'\n",
       "                  max='20',\n",
       "                  style='width: 25%',\n",
       "              >\n",
       "                  20\n",
       "              </progress>\n",
       "\n",
       "    "
      ],
      "text/plain": [
       "<IPython.core.display.HTML object>"
      ]
     },
     "metadata": {},
     "output_type": "display_data"
    },
    {
     "name": "stdout",
     "output_type": "stream",
     "text": [
      "\n",
      "*** Feature extraction finished ***\n",
      "*** Feature extraction started ***\n"
     ]
    },
    {
     "data": {
      "text/html": [
       "\n",
       "              <p>\n",
       "                  Progress: 100% Complete\n",
       "              <p/>\n",
       "              <progress\n",
       "                  value='20'\n",
       "                  max='20',\n",
       "                  style='width: 25%',\n",
       "              >\n",
       "                  20\n",
       "              </progress>\n",
       "\n",
       "    "
      ],
      "text/plain": [
       "<IPython.core.display.HTML object>"
      ]
     },
     "metadata": {},
     "output_type": "display_data"
    },
    {
     "name": "stdout",
     "output_type": "stream",
     "text": [
      "\n",
      "*** Feature extraction finished ***\n",
      "*** Feature extraction started ***\n"
     ]
    },
    {
     "data": {
      "text/html": [
       "\n",
       "              <p>\n",
       "                  Progress: 100% Complete\n",
       "              <p/>\n",
       "              <progress\n",
       "                  value='20'\n",
       "                  max='20',\n",
       "                  style='width: 25%',\n",
       "              >\n",
       "                  20\n",
       "              </progress>\n",
       "\n",
       "    "
      ],
      "text/plain": [
       "<IPython.core.display.HTML object>"
      ]
     },
     "metadata": {},
     "output_type": "display_data"
    },
    {
     "name": "stdout",
     "output_type": "stream",
     "text": [
      "\n",
      "*** Feature extraction finished ***\n",
      "*** Feature extraction started ***\n"
     ]
    },
    {
     "data": {
      "text/html": [
       "\n",
       "              <p>\n",
       "                  Progress: 100% Complete\n",
       "              <p/>\n",
       "              <progress\n",
       "                  value='20'\n",
       "                  max='20',\n",
       "                  style='width: 25%',\n",
       "              >\n",
       "                  20\n",
       "              </progress>\n",
       "\n",
       "    "
      ],
      "text/plain": [
       "<IPython.core.display.HTML object>"
      ]
     },
     "metadata": {},
     "output_type": "display_data"
    },
    {
     "name": "stdout",
     "output_type": "stream",
     "text": [
      "\n",
      "*** Feature extraction finished ***\n",
      "*** Feature extraction started ***\n"
     ]
    },
    {
     "data": {
      "text/html": [
       "\n",
       "              <p>\n",
       "                  Progress: 100% Complete\n",
       "              <p/>\n",
       "              <progress\n",
       "                  value='20'\n",
       "                  max='20',\n",
       "                  style='width: 25%',\n",
       "              >\n",
       "                  20\n",
       "              </progress>\n",
       "\n",
       "    "
      ],
      "text/plain": [
       "<IPython.core.display.HTML object>"
      ]
     },
     "metadata": {},
     "output_type": "display_data"
    },
    {
     "name": "stdout",
     "output_type": "stream",
     "text": [
      "\n",
      "*** Feature extraction finished ***\n",
      "*** Feature extraction started ***\n"
     ]
    },
    {
     "data": {
      "text/html": [
       "\n",
       "              <p>\n",
       "                  Progress: 100% Complete\n",
       "              <p/>\n",
       "              <progress\n",
       "                  value='20'\n",
       "                  max='20',\n",
       "                  style='width: 25%',\n",
       "              >\n",
       "                  20\n",
       "              </progress>\n",
       "\n",
       "    "
      ],
      "text/plain": [
       "<IPython.core.display.HTML object>"
      ]
     },
     "metadata": {},
     "output_type": "display_data"
    },
    {
     "name": "stdout",
     "output_type": "stream",
     "text": [
      "\n",
      "*** Feature extraction finished ***\n",
      "*** Feature extraction started ***\n"
     ]
    },
    {
     "data": {
      "text/html": [
       "\n",
       "              <p>\n",
       "                  Progress: 100% Complete\n",
       "              <p/>\n",
       "              <progress\n",
       "                  value='20'\n",
       "                  max='20',\n",
       "                  style='width: 25%',\n",
       "              >\n",
       "                  20\n",
       "              </progress>\n",
       "\n",
       "    "
      ],
      "text/plain": [
       "<IPython.core.display.HTML object>"
      ]
     },
     "metadata": {},
     "output_type": "display_data"
    },
    {
     "name": "stdout",
     "output_type": "stream",
     "text": [
      "\n",
      "*** Feature extraction finished ***\n",
      "*** Feature extraction started ***\n"
     ]
    },
    {
     "data": {
      "text/html": [
       "\n",
       "              <p>\n",
       "                  Progress: 100% Complete\n",
       "              <p/>\n",
       "              <progress\n",
       "                  value='20'\n",
       "                  max='20',\n",
       "                  style='width: 25%',\n",
       "              >\n",
       "                  20\n",
       "              </progress>\n",
       "\n",
       "    "
      ],
      "text/plain": [
       "<IPython.core.display.HTML object>"
      ]
     },
     "metadata": {},
     "output_type": "display_data"
    },
    {
     "name": "stdout",
     "output_type": "stream",
     "text": [
      "\n",
      "*** Feature extraction finished ***\n",
      "*** Feature extraction started ***\n"
     ]
    },
    {
     "data": {
      "text/html": [
       "\n",
       "              <p>\n",
       "                  Progress: 100% Complete\n",
       "              <p/>\n",
       "              <progress\n",
       "                  value='20'\n",
       "                  max='20',\n",
       "                  style='width: 25%',\n",
       "              >\n",
       "                  20\n",
       "              </progress>\n",
       "\n",
       "    "
      ],
      "text/plain": [
       "<IPython.core.display.HTML object>"
      ]
     },
     "metadata": {},
     "output_type": "display_data"
    },
    {
     "name": "stdout",
     "output_type": "stream",
     "text": [
      "\n",
      "*** Feature extraction finished ***\n",
      "*** Feature extraction started ***\n"
     ]
    },
    {
     "data": {
      "text/html": [
       "\n",
       "              <p>\n",
       "                  Progress: 100% Complete\n",
       "              <p/>\n",
       "              <progress\n",
       "                  value='20'\n",
       "                  max='20',\n",
       "                  style='width: 25%',\n",
       "              >\n",
       "                  20\n",
       "              </progress>\n",
       "\n",
       "    "
      ],
      "text/plain": [
       "<IPython.core.display.HTML object>"
      ]
     },
     "metadata": {},
     "output_type": "display_data"
    },
    {
     "name": "stdout",
     "output_type": "stream",
     "text": [
      "\n",
      "*** Feature extraction finished ***\n",
      "*** Feature extraction started ***\n"
     ]
    },
    {
     "data": {
      "text/html": [
       "\n",
       "              <p>\n",
       "                  Progress: 100% Complete\n",
       "              <p/>\n",
       "              <progress\n",
       "                  value='20'\n",
       "                  max='20',\n",
       "                  style='width: 25%',\n",
       "              >\n",
       "                  20\n",
       "              </progress>\n",
       "\n",
       "    "
      ],
      "text/plain": [
       "<IPython.core.display.HTML object>"
      ]
     },
     "metadata": {},
     "output_type": "display_data"
    },
    {
     "name": "stdout",
     "output_type": "stream",
     "text": [
      "\n",
      "*** Feature extraction finished ***\n",
      "*** Feature extraction started ***\n"
     ]
    },
    {
     "data": {
      "text/html": [
       "\n",
       "              <p>\n",
       "                  Progress: 100% Complete\n",
       "              <p/>\n",
       "              <progress\n",
       "                  value='20'\n",
       "                  max='20',\n",
       "                  style='width: 25%',\n",
       "              >\n",
       "                  20\n",
       "              </progress>\n",
       "\n",
       "    "
      ],
      "text/plain": [
       "<IPython.core.display.HTML object>"
      ]
     },
     "metadata": {},
     "output_type": "display_data"
    },
    {
     "name": "stdout",
     "output_type": "stream",
     "text": [
      "\n",
      "*** Feature extraction finished ***\n",
      "*** Feature extraction started ***\n"
     ]
    },
    {
     "data": {
      "text/html": [
       "\n",
       "              <p>\n",
       "                  Progress: 100% Complete\n",
       "              <p/>\n",
       "              <progress\n",
       "                  value='20'\n",
       "                  max='20',\n",
       "                  style='width: 25%',\n",
       "              >\n",
       "                  20\n",
       "              </progress>\n",
       "\n",
       "    "
      ],
      "text/plain": [
       "<IPython.core.display.HTML object>"
      ]
     },
     "metadata": {},
     "output_type": "display_data"
    },
    {
     "name": "stdout",
     "output_type": "stream",
     "text": [
      "\n",
      "*** Feature extraction finished ***\n",
      "*** Feature extraction started ***\n"
     ]
    },
    {
     "data": {
      "text/html": [
       "\n",
       "              <p>\n",
       "                  Progress: 100% Complete\n",
       "              <p/>\n",
       "              <progress\n",
       "                  value='20'\n",
       "                  max='20',\n",
       "                  style='width: 25%',\n",
       "              >\n",
       "                  20\n",
       "              </progress>\n",
       "\n",
       "    "
      ],
      "text/plain": [
       "<IPython.core.display.HTML object>"
      ]
     },
     "metadata": {},
     "output_type": "display_data"
    },
    {
     "name": "stdout",
     "output_type": "stream",
     "text": [
      "\n",
      "*** Feature extraction finished ***\n",
      "*** Feature extraction started ***\n"
     ]
    },
    {
     "data": {
      "text/html": [
       "\n",
       "              <p>\n",
       "                  Progress: 100% Complete\n",
       "              <p/>\n",
       "              <progress\n",
       "                  value='20'\n",
       "                  max='20',\n",
       "                  style='width: 25%',\n",
       "              >\n",
       "                  20\n",
       "              </progress>\n",
       "\n",
       "    "
      ],
      "text/plain": [
       "<IPython.core.display.HTML object>"
      ]
     },
     "metadata": {},
     "output_type": "display_data"
    },
    {
     "name": "stdout",
     "output_type": "stream",
     "text": [
      "\n",
      "*** Feature extraction finished ***\n",
      "*** Feature extraction started ***\n"
     ]
    },
    {
     "data": {
      "text/html": [
       "\n",
       "              <p>\n",
       "                  Progress: 100% Complete\n",
       "              <p/>\n",
       "              <progress\n",
       "                  value='20'\n",
       "                  max='20',\n",
       "                  style='width: 25%',\n",
       "              >\n",
       "                  20\n",
       "              </progress>\n",
       "\n",
       "    "
      ],
      "text/plain": [
       "<IPython.core.display.HTML object>"
      ]
     },
     "metadata": {},
     "output_type": "display_data"
    },
    {
     "name": "stdout",
     "output_type": "stream",
     "text": [
      "\n",
      "*** Feature extraction finished ***\n",
      "*** Feature extraction started ***\n"
     ]
    },
    {
     "data": {
      "text/html": [
       "\n",
       "              <p>\n",
       "                  Progress: 100% Complete\n",
       "              <p/>\n",
       "              <progress\n",
       "                  value='20'\n",
       "                  max='20',\n",
       "                  style='width: 25%',\n",
       "              >\n",
       "                  20\n",
       "              </progress>\n",
       "\n",
       "    "
      ],
      "text/plain": [
       "<IPython.core.display.HTML object>"
      ]
     },
     "metadata": {},
     "output_type": "display_data"
    },
    {
     "name": "stdout",
     "output_type": "stream",
     "text": [
      "\n",
      "*** Feature extraction finished ***\n",
      "*** Feature extraction started ***\n"
     ]
    },
    {
     "data": {
      "text/html": [
       "\n",
       "              <p>\n",
       "                  Progress: 100% Complete\n",
       "              <p/>\n",
       "              <progress\n",
       "                  value='20'\n",
       "                  max='20',\n",
       "                  style='width: 25%',\n",
       "              >\n",
       "                  20\n",
       "              </progress>\n",
       "\n",
       "    "
      ],
      "text/plain": [
       "<IPython.core.display.HTML object>"
      ]
     },
     "metadata": {},
     "output_type": "display_data"
    },
    {
     "name": "stdout",
     "output_type": "stream",
     "text": [
      "\n",
      "*** Feature extraction finished ***\n",
      "*** Feature extraction started ***\n"
     ]
    },
    {
     "data": {
      "text/html": [
       "\n",
       "              <p>\n",
       "                  Progress: 100% Complete\n",
       "              <p/>\n",
       "              <progress\n",
       "                  value='20'\n",
       "                  max='20',\n",
       "                  style='width: 25%',\n",
       "              >\n",
       "                  20\n",
       "              </progress>\n",
       "\n",
       "    "
      ],
      "text/plain": [
       "<IPython.core.display.HTML object>"
      ]
     },
     "metadata": {},
     "output_type": "display_data"
    },
    {
     "name": "stdout",
     "output_type": "stream",
     "text": [
      "\n",
      "*** Feature extraction finished ***\n",
      "*** Feature extraction started ***\n"
     ]
    },
    {
     "data": {
      "text/html": [
       "\n",
       "              <p>\n",
       "                  Progress: 100% Complete\n",
       "              <p/>\n",
       "              <progress\n",
       "                  value='20'\n",
       "                  max='20',\n",
       "                  style='width: 25%',\n",
       "              >\n",
       "                  20\n",
       "              </progress>\n",
       "\n",
       "    "
      ],
      "text/plain": [
       "<IPython.core.display.HTML object>"
      ]
     },
     "metadata": {},
     "output_type": "display_data"
    },
    {
     "name": "stdout",
     "output_type": "stream",
     "text": [
      "\n",
      "*** Feature extraction finished ***\n",
      "*** Feature extraction started ***\n"
     ]
    },
    {
     "data": {
      "text/html": [
       "\n",
       "              <p>\n",
       "                  Progress: 100% Complete\n",
       "              <p/>\n",
       "              <progress\n",
       "                  value='20'\n",
       "                  max='20',\n",
       "                  style='width: 25%',\n",
       "              >\n",
       "                  20\n",
       "              </progress>\n",
       "\n",
       "    "
      ],
      "text/plain": [
       "<IPython.core.display.HTML object>"
      ]
     },
     "metadata": {},
     "output_type": "display_data"
    },
    {
     "name": "stdout",
     "output_type": "stream",
     "text": [
      "\n",
      "*** Feature extraction finished ***\n",
      "*** Feature extraction started ***\n"
     ]
    },
    {
     "data": {
      "text/html": [
       "\n",
       "              <p>\n",
       "                  Progress: 100% Complete\n",
       "              <p/>\n",
       "              <progress\n",
       "                  value='20'\n",
       "                  max='20',\n",
       "                  style='width: 25%',\n",
       "              >\n",
       "                  20\n",
       "              </progress>\n",
       "\n",
       "    "
      ],
      "text/plain": [
       "<IPython.core.display.HTML object>"
      ]
     },
     "metadata": {},
     "output_type": "display_data"
    },
    {
     "name": "stdout",
     "output_type": "stream",
     "text": [
      "\n",
      "*** Feature extraction finished ***\n",
      "*** Feature extraction started ***\n"
     ]
    },
    {
     "data": {
      "text/html": [
       "\n",
       "              <p>\n",
       "                  Progress: 100% Complete\n",
       "              <p/>\n",
       "              <progress\n",
       "                  value='20'\n",
       "                  max='20',\n",
       "                  style='width: 25%',\n",
       "              >\n",
       "                  20\n",
       "              </progress>\n",
       "\n",
       "    "
      ],
      "text/plain": [
       "<IPython.core.display.HTML object>"
      ]
     },
     "metadata": {},
     "output_type": "display_data"
    },
    {
     "name": "stdout",
     "output_type": "stream",
     "text": [
      "\n",
      "*** Feature extraction finished ***\n",
      "*** Feature extraction started ***\n"
     ]
    },
    {
     "data": {
      "text/html": [
       "\n",
       "              <p>\n",
       "                  Progress: 100% Complete\n",
       "              <p/>\n",
       "              <progress\n",
       "                  value='20'\n",
       "                  max='20',\n",
       "                  style='width: 25%',\n",
       "              >\n",
       "                  20\n",
       "              </progress>\n",
       "\n",
       "    "
      ],
      "text/plain": [
       "<IPython.core.display.HTML object>"
      ]
     },
     "metadata": {},
     "output_type": "display_data"
    },
    {
     "name": "stdout",
     "output_type": "stream",
     "text": [
      "\n",
      "*** Feature extraction finished ***\n",
      "*** Feature extraction started ***\n"
     ]
    },
    {
     "data": {
      "text/html": [
       "\n",
       "              <p>\n",
       "                  Progress: 100% Complete\n",
       "              <p/>\n",
       "              <progress\n",
       "                  value='20'\n",
       "                  max='20',\n",
       "                  style='width: 25%',\n",
       "              >\n",
       "                  20\n",
       "              </progress>\n",
       "\n",
       "    "
      ],
      "text/plain": [
       "<IPython.core.display.HTML object>"
      ]
     },
     "metadata": {},
     "output_type": "display_data"
    },
    {
     "name": "stdout",
     "output_type": "stream",
     "text": [
      "\n",
      "*** Feature extraction finished ***\n",
      "*** Feature extraction started ***\n"
     ]
    },
    {
     "data": {
      "text/html": [
       "\n",
       "              <p>\n",
       "                  Progress: 100% Complete\n",
       "              <p/>\n",
       "              <progress\n",
       "                  value='20'\n",
       "                  max='20',\n",
       "                  style='width: 25%',\n",
       "              >\n",
       "                  20\n",
       "              </progress>\n",
       "\n",
       "    "
      ],
      "text/plain": [
       "<IPython.core.display.HTML object>"
      ]
     },
     "metadata": {},
     "output_type": "display_data"
    },
    {
     "name": "stdout",
     "output_type": "stream",
     "text": [
      "\n",
      "*** Feature extraction finished ***\n",
      "*** Feature extraction started ***\n"
     ]
    },
    {
     "data": {
      "text/html": [
       "\n",
       "              <p>\n",
       "                  Progress: 100% Complete\n",
       "              <p/>\n",
       "              <progress\n",
       "                  value='20'\n",
       "                  max='20',\n",
       "                  style='width: 25%',\n",
       "              >\n",
       "                  20\n",
       "              </progress>\n",
       "\n",
       "    "
      ],
      "text/plain": [
       "<IPython.core.display.HTML object>"
      ]
     },
     "metadata": {},
     "output_type": "display_data"
    },
    {
     "name": "stdout",
     "output_type": "stream",
     "text": [
      "\n",
      "*** Feature extraction finished ***\n",
      "*** Feature extraction started ***\n"
     ]
    },
    {
     "data": {
      "text/html": [
       "\n",
       "              <p>\n",
       "                  Progress: 100% Complete\n",
       "              <p/>\n",
       "              <progress\n",
       "                  value='20'\n",
       "                  max='20',\n",
       "                  style='width: 25%',\n",
       "              >\n",
       "                  20\n",
       "              </progress>\n",
       "\n",
       "    "
      ],
      "text/plain": [
       "<IPython.core.display.HTML object>"
      ]
     },
     "metadata": {},
     "output_type": "display_data"
    },
    {
     "name": "stdout",
     "output_type": "stream",
     "text": [
      "\n",
      "*** Feature extraction finished ***\n",
      "*** Feature extraction started ***\n"
     ]
    },
    {
     "data": {
      "text/html": [
       "\n",
       "              <p>\n",
       "                  Progress: 100% Complete\n",
       "              <p/>\n",
       "              <progress\n",
       "                  value='20'\n",
       "                  max='20',\n",
       "                  style='width: 25%',\n",
       "              >\n",
       "                  20\n",
       "              </progress>\n",
       "\n",
       "    "
      ],
      "text/plain": [
       "<IPython.core.display.HTML object>"
      ]
     },
     "metadata": {},
     "output_type": "display_data"
    },
    {
     "name": "stdout",
     "output_type": "stream",
     "text": [
      "\n",
      "*** Feature extraction finished ***\n",
      "*** Feature extraction started ***\n"
     ]
    },
    {
     "data": {
      "text/html": [
       "\n",
       "              <p>\n",
       "                  Progress: 100% Complete\n",
       "              <p/>\n",
       "              <progress\n",
       "                  value='20'\n",
       "                  max='20',\n",
       "                  style='width: 25%',\n",
       "              >\n",
       "                  20\n",
       "              </progress>\n",
       "\n",
       "    "
      ],
      "text/plain": [
       "<IPython.core.display.HTML object>"
      ]
     },
     "metadata": {},
     "output_type": "display_data"
    },
    {
     "name": "stdout",
     "output_type": "stream",
     "text": [
      "\n",
      "*** Feature extraction finished ***\n",
      "*** Feature extraction started ***\n"
     ]
    },
    {
     "data": {
      "text/html": [
       "\n",
       "              <p>\n",
       "                  Progress: 100% Complete\n",
       "              <p/>\n",
       "              <progress\n",
       "                  value='20'\n",
       "                  max='20',\n",
       "                  style='width: 25%',\n",
       "              >\n",
       "                  20\n",
       "              </progress>\n",
       "\n",
       "    "
      ],
      "text/plain": [
       "<IPython.core.display.HTML object>"
      ]
     },
     "metadata": {},
     "output_type": "display_data"
    },
    {
     "name": "stdout",
     "output_type": "stream",
     "text": [
      "\n",
      "*** Feature extraction finished ***\n",
      "*** Feature extraction started ***\n"
     ]
    },
    {
     "data": {
      "text/html": [
       "\n",
       "              <p>\n",
       "                  Progress: 100% Complete\n",
       "              <p/>\n",
       "              <progress\n",
       "                  value='20'\n",
       "                  max='20',\n",
       "                  style='width: 25%',\n",
       "              >\n",
       "                  20\n",
       "              </progress>\n",
       "\n",
       "    "
      ],
      "text/plain": [
       "<IPython.core.display.HTML object>"
      ]
     },
     "metadata": {},
     "output_type": "display_data"
    },
    {
     "name": "stdout",
     "output_type": "stream",
     "text": [
      "\n",
      "*** Feature extraction finished ***\n",
      "*** Feature extraction started ***\n"
     ]
    },
    {
     "data": {
      "text/html": [
       "\n",
       "              <p>\n",
       "                  Progress: 100% Complete\n",
       "              <p/>\n",
       "              <progress\n",
       "                  value='20'\n",
       "                  max='20',\n",
       "                  style='width: 25%',\n",
       "              >\n",
       "                  20\n",
       "              </progress>\n",
       "\n",
       "    "
      ],
      "text/plain": [
       "<IPython.core.display.HTML object>"
      ]
     },
     "metadata": {},
     "output_type": "display_data"
    },
    {
     "name": "stdout",
     "output_type": "stream",
     "text": [
      "\n",
      "*** Feature extraction finished ***\n",
      "*** Feature extraction started ***\n"
     ]
    },
    {
     "data": {
      "text/html": [
       "\n",
       "              <p>\n",
       "                  Progress: 100% Complete\n",
       "              <p/>\n",
       "              <progress\n",
       "                  value='20'\n",
       "                  max='20',\n",
       "                  style='width: 25%',\n",
       "              >\n",
       "                  20\n",
       "              </progress>\n",
       "\n",
       "    "
      ],
      "text/plain": [
       "<IPython.core.display.HTML object>"
      ]
     },
     "metadata": {},
     "output_type": "display_data"
    },
    {
     "name": "stdout",
     "output_type": "stream",
     "text": [
      "\n",
      "*** Feature extraction finished ***\n"
     ]
    }
   ],
   "source": [
    "feature_df = pd.DataFrame()\n",
    "cfg = tsfel.get_features_by_domain(\"statistical\")\n",
    "for i in range(len(master_dataset)):\n",
    "    time_series = master_dataset.iloc[i, :-1]\n",
    "    features = tsfel.time_series_features_extractor(cfg, time_series, fs = 50)\n",
    "    feature_df = pd.concat([feature_df, features], ignore_index=True)"
   ]
  },
  {
   "cell_type": "code",
   "execution_count": 366,
   "metadata": {},
   "outputs": [
    {
     "data": {
      "text/html": [
       "<div>\n",
       "<style scoped>\n",
       "    .dataframe tbody tr th:only-of-type {\n",
       "        vertical-align: middle;\n",
       "    }\n",
       "\n",
       "    .dataframe tbody tr th {\n",
       "        vertical-align: top;\n",
       "    }\n",
       "\n",
       "    .dataframe thead th {\n",
       "        text-align: right;\n",
       "    }\n",
       "</style>\n",
       "<table border=\"1\" class=\"dataframe\">\n",
       "  <thead>\n",
       "    <tr style=\"text-align: right;\">\n",
       "      <th></th>\n",
       "      <th>0_Absolute energy</th>\n",
       "      <th>0_Average power</th>\n",
       "      <th>0_ECDF Percentile Count_0</th>\n",
       "      <th>0_ECDF Percentile Count_1</th>\n",
       "      <th>0_ECDF Percentile_0</th>\n",
       "      <th>0_ECDF Percentile_1</th>\n",
       "      <th>0_ECDF_0</th>\n",
       "      <th>0_ECDF_1</th>\n",
       "      <th>0_ECDF_2</th>\n",
       "      <th>0_ECDF_3</th>\n",
       "      <th>...</th>\n",
       "      <th>0_Mean absolute deviation</th>\n",
       "      <th>0_Median</th>\n",
       "      <th>0_Median absolute deviation</th>\n",
       "      <th>0_Min</th>\n",
       "      <th>0_Peak to peak distance</th>\n",
       "      <th>0_Root mean square</th>\n",
       "      <th>0_Skewness</th>\n",
       "      <th>0_Standard deviation</th>\n",
       "      <th>0_Variance</th>\n",
       "      <th>Activity</th>\n",
       "    </tr>\n",
       "  </thead>\n",
       "  <tbody>\n",
       "    <tr>\n",
       "      <th>0</th>\n",
       "      <td>486.076839</td>\n",
       "      <td>48.705094</td>\n",
       "      <td>100.0</td>\n",
       "      <td>400.0</td>\n",
       "      <td>0.982049</td>\n",
       "      <td>0.990229</td>\n",
       "      <td>0.002</td>\n",
       "      <td>0.004</td>\n",
       "      <td>0.006</td>\n",
       "      <td>0.008</td>\n",
       "      <td>...</td>\n",
       "      <td>0.004148</td>\n",
       "      <td>0.986024</td>\n",
       "      <td>0.003397</td>\n",
       "      <td>0.965736</td>\n",
       "      <td>0.038994</td>\n",
       "      <td>0.985979</td>\n",
       "      <td>-0.142603</td>\n",
       "      <td>0.005424</td>\n",
       "      <td>0.000029</td>\n",
       "      <td>LAYING</td>\n",
       "    </tr>\n",
       "    <tr>\n",
       "      <th>1</th>\n",
       "      <td>493.699440</td>\n",
       "      <td>49.468882</td>\n",
       "      <td>100.0</td>\n",
       "      <td>400.0</td>\n",
       "      <td>0.989299</td>\n",
       "      <td>0.997952</td>\n",
       "      <td>0.002</td>\n",
       "      <td>0.004</td>\n",
       "      <td>0.006</td>\n",
       "      <td>0.008</td>\n",
       "      <td>...</td>\n",
       "      <td>0.004393</td>\n",
       "      <td>0.993665</td>\n",
       "      <td>0.003555</td>\n",
       "      <td>0.973768</td>\n",
       "      <td>0.038277</td>\n",
       "      <td>0.993679</td>\n",
       "      <td>0.011680</td>\n",
       "      <td>0.005702</td>\n",
       "      <td>0.000033</td>\n",
       "      <td>LAYING</td>\n",
       "    </tr>\n",
       "    <tr>\n",
       "      <th>2</th>\n",
       "      <td>488.775558</td>\n",
       "      <td>48.975507</td>\n",
       "      <td>100.0</td>\n",
       "      <td>400.0</td>\n",
       "      <td>0.982106</td>\n",
       "      <td>0.994710</td>\n",
       "      <td>0.002</td>\n",
       "      <td>0.004</td>\n",
       "      <td>0.006</td>\n",
       "      <td>0.008</td>\n",
       "      <td>...</td>\n",
       "      <td>0.006286</td>\n",
       "      <td>0.988735</td>\n",
       "      <td>0.005012</td>\n",
       "      <td>0.959778</td>\n",
       "      <td>0.050654</td>\n",
       "      <td>0.988712</td>\n",
       "      <td>-0.111200</td>\n",
       "      <td>0.008181</td>\n",
       "      <td>0.000067</td>\n",
       "      <td>LAYING</td>\n",
       "    </tr>\n",
       "    <tr>\n",
       "      <th>3</th>\n",
       "      <td>500.294418</td>\n",
       "      <td>50.129701</td>\n",
       "      <td>100.0</td>\n",
       "      <td>400.0</td>\n",
       "      <td>0.994699</td>\n",
       "      <td>1.005580</td>\n",
       "      <td>0.002</td>\n",
       "      <td>0.004</td>\n",
       "      <td>0.006</td>\n",
       "      <td>0.008</td>\n",
       "      <td>...</td>\n",
       "      <td>0.005273</td>\n",
       "      <td>0.999845</td>\n",
       "      <td>0.004351</td>\n",
       "      <td>0.974117</td>\n",
       "      <td>0.045513</td>\n",
       "      <td>1.000294</td>\n",
       "      <td>0.156119</td>\n",
       "      <td>0.006734</td>\n",
       "      <td>0.000045</td>\n",
       "      <td>LAYING</td>\n",
       "    </tr>\n",
       "    <tr>\n",
       "      <th>4</th>\n",
       "      <td>502.040010</td>\n",
       "      <td>50.304610</td>\n",
       "      <td>100.0</td>\n",
       "      <td>400.0</td>\n",
       "      <td>0.995372</td>\n",
       "      <td>1.008743</td>\n",
       "      <td>0.002</td>\n",
       "      <td>0.004</td>\n",
       "      <td>0.006</td>\n",
       "      <td>0.008</td>\n",
       "      <td>...</td>\n",
       "      <td>0.006498</td>\n",
       "      <td>1.001852</td>\n",
       "      <td>0.005103</td>\n",
       "      <td>0.975608</td>\n",
       "      <td>0.052164</td>\n",
       "      <td>1.002038</td>\n",
       "      <td>0.212347</td>\n",
       "      <td>0.008309</td>\n",
       "      <td>0.000069</td>\n",
       "      <td>LAYING</td>\n",
       "    </tr>\n",
       "    <tr>\n",
       "      <th>...</th>\n",
       "      <td>...</td>\n",
       "      <td>...</td>\n",
       "      <td>...</td>\n",
       "      <td>...</td>\n",
       "      <td>...</td>\n",
       "      <td>...</td>\n",
       "      <td>...</td>\n",
       "      <td>...</td>\n",
       "      <td>...</td>\n",
       "      <td>...</td>\n",
       "      <td>...</td>\n",
       "      <td>...</td>\n",
       "      <td>...</td>\n",
       "      <td>...</td>\n",
       "      <td>...</td>\n",
       "      <td>...</td>\n",
       "      <td>...</td>\n",
       "      <td>...</td>\n",
       "      <td>...</td>\n",
       "      <td>...</td>\n",
       "      <td>...</td>\n",
       "    </tr>\n",
       "    <tr>\n",
       "      <th>121</th>\n",
       "      <td>718.561110</td>\n",
       "      <td>72.000111</td>\n",
       "      <td>100.0</td>\n",
       "      <td>400.0</td>\n",
       "      <td>0.792199</td>\n",
       "      <td>1.415847</td>\n",
       "      <td>0.002</td>\n",
       "      <td>0.004</td>\n",
       "      <td>0.006</td>\n",
       "      <td>0.008</td>\n",
       "      <td>...</td>\n",
       "      <td>0.327956</td>\n",
       "      <td>0.993421</td>\n",
       "      <td>0.199471</td>\n",
       "      <td>0.497447</td>\n",
       "      <td>2.047735</td>\n",
       "      <td>1.198800</td>\n",
       "      <td>1.194707</td>\n",
       "      <td>0.423434</td>\n",
       "      <td>0.179297</td>\n",
       "      <td>WALKING_UPSTAIRS</td>\n",
       "    </tr>\n",
       "    <tr>\n",
       "      <th>122</th>\n",
       "      <td>910.947049</td>\n",
       "      <td>91.277259</td>\n",
       "      <td>100.0</td>\n",
       "      <td>400.0</td>\n",
       "      <td>0.632811</td>\n",
       "      <td>1.618108</td>\n",
       "      <td>0.002</td>\n",
       "      <td>0.004</td>\n",
       "      <td>0.006</td>\n",
       "      <td>0.008</td>\n",
       "      <td>...</td>\n",
       "      <td>0.497917</td>\n",
       "      <td>1.042786</td>\n",
       "      <td>0.377836</td>\n",
       "      <td>0.332292</td>\n",
       "      <td>2.879174</td>\n",
       "      <td>1.349776</td>\n",
       "      <td>1.084083</td>\n",
       "      <td>0.643145</td>\n",
       "      <td>0.413635</td>\n",
       "      <td>WALKING_UPSTAIRS</td>\n",
       "    </tr>\n",
       "    <tr>\n",
       "      <th>123</th>\n",
       "      <td>1025.130144</td>\n",
       "      <td>102.718451</td>\n",
       "      <td>100.0</td>\n",
       "      <td>400.0</td>\n",
       "      <td>0.599844</td>\n",
       "      <td>1.856327</td>\n",
       "      <td>0.002</td>\n",
       "      <td>0.004</td>\n",
       "      <td>0.006</td>\n",
       "      <td>0.008</td>\n",
       "      <td>...</td>\n",
       "      <td>0.625018</td>\n",
       "      <td>0.889620</td>\n",
       "      <td>0.329573</td>\n",
       "      <td>0.313257</td>\n",
       "      <td>3.542466</td>\n",
       "      <td>1.431873</td>\n",
       "      <td>1.196077</td>\n",
       "      <td>0.771283</td>\n",
       "      <td>0.594877</td>\n",
       "      <td>WALKING_UPSTAIRS</td>\n",
       "    </tr>\n",
       "    <tr>\n",
       "      <th>124</th>\n",
       "      <td>750.494969</td>\n",
       "      <td>75.199897</td>\n",
       "      <td>100.0</td>\n",
       "      <td>400.0</td>\n",
       "      <td>0.758168</td>\n",
       "      <td>1.430162</td>\n",
       "      <td>0.002</td>\n",
       "      <td>0.004</td>\n",
       "      <td>0.006</td>\n",
       "      <td>0.008</td>\n",
       "      <td>...</td>\n",
       "      <td>0.381846</td>\n",
       "      <td>0.948274</td>\n",
       "      <td>0.199740</td>\n",
       "      <td>0.514605</td>\n",
       "      <td>2.180257</td>\n",
       "      <td>1.225149</td>\n",
       "      <td>1.382723</td>\n",
       "      <td>0.500313</td>\n",
       "      <td>0.250313</td>\n",
       "      <td>WALKING_UPSTAIRS</td>\n",
       "    </tr>\n",
       "    <tr>\n",
       "      <th>125</th>\n",
       "      <td>915.080043</td>\n",
       "      <td>91.691387</td>\n",
       "      <td>100.0</td>\n",
       "      <td>400.0</td>\n",
       "      <td>0.589395</td>\n",
       "      <td>1.824286</td>\n",
       "      <td>0.002</td>\n",
       "      <td>0.004</td>\n",
       "      <td>0.006</td>\n",
       "      <td>0.008</td>\n",
       "      <td>...</td>\n",
       "      <td>0.518691</td>\n",
       "      <td>1.084870</td>\n",
       "      <td>0.441801</td>\n",
       "      <td>0.208612</td>\n",
       "      <td>3.360722</td>\n",
       "      <td>1.352834</td>\n",
       "      <td>0.613972</td>\n",
       "      <td>0.625170</td>\n",
       "      <td>0.390837</td>\n",
       "      <td>WALKING_UPSTAIRS</td>\n",
       "    </tr>\n",
       "  </tbody>\n",
       "</table>\n",
       "<p>126 rows × 41 columns</p>\n",
       "</div>"
      ],
      "text/plain": [
       "     0_Absolute energy  0_Average power  0_ECDF Percentile Count_0  \\\n",
       "0           486.076839        48.705094                      100.0   \n",
       "1           493.699440        49.468882                      100.0   \n",
       "2           488.775558        48.975507                      100.0   \n",
       "3           500.294418        50.129701                      100.0   \n",
       "4           502.040010        50.304610                      100.0   \n",
       "..                 ...              ...                        ...   \n",
       "121         718.561110        72.000111                      100.0   \n",
       "122         910.947049        91.277259                      100.0   \n",
       "123        1025.130144       102.718451                      100.0   \n",
       "124         750.494969        75.199897                      100.0   \n",
       "125         915.080043        91.691387                      100.0   \n",
       "\n",
       "     0_ECDF Percentile Count_1  0_ECDF Percentile_0  0_ECDF Percentile_1  \\\n",
       "0                        400.0             0.982049             0.990229   \n",
       "1                        400.0             0.989299             0.997952   \n",
       "2                        400.0             0.982106             0.994710   \n",
       "3                        400.0             0.994699             1.005580   \n",
       "4                        400.0             0.995372             1.008743   \n",
       "..                         ...                  ...                  ...   \n",
       "121                      400.0             0.792199             1.415847   \n",
       "122                      400.0             0.632811             1.618108   \n",
       "123                      400.0             0.599844             1.856327   \n",
       "124                      400.0             0.758168             1.430162   \n",
       "125                      400.0             0.589395             1.824286   \n",
       "\n",
       "     0_ECDF_0  0_ECDF_1  0_ECDF_2  0_ECDF_3  ...  0_Mean absolute deviation  \\\n",
       "0       0.002     0.004     0.006     0.008  ...                   0.004148   \n",
       "1       0.002     0.004     0.006     0.008  ...                   0.004393   \n",
       "2       0.002     0.004     0.006     0.008  ...                   0.006286   \n",
       "3       0.002     0.004     0.006     0.008  ...                   0.005273   \n",
       "4       0.002     0.004     0.006     0.008  ...                   0.006498   \n",
       "..        ...       ...       ...       ...  ...                        ...   \n",
       "121     0.002     0.004     0.006     0.008  ...                   0.327956   \n",
       "122     0.002     0.004     0.006     0.008  ...                   0.497917   \n",
       "123     0.002     0.004     0.006     0.008  ...                   0.625018   \n",
       "124     0.002     0.004     0.006     0.008  ...                   0.381846   \n",
       "125     0.002     0.004     0.006     0.008  ...                   0.518691   \n",
       "\n",
       "     0_Median  0_Median absolute deviation     0_Min  0_Peak to peak distance  \\\n",
       "0    0.986024                     0.003397  0.965736                 0.038994   \n",
       "1    0.993665                     0.003555  0.973768                 0.038277   \n",
       "2    0.988735                     0.005012  0.959778                 0.050654   \n",
       "3    0.999845                     0.004351  0.974117                 0.045513   \n",
       "4    1.001852                     0.005103  0.975608                 0.052164   \n",
       "..        ...                          ...       ...                      ...   \n",
       "121  0.993421                     0.199471  0.497447                 2.047735   \n",
       "122  1.042786                     0.377836  0.332292                 2.879174   \n",
       "123  0.889620                     0.329573  0.313257                 3.542466   \n",
       "124  0.948274                     0.199740  0.514605                 2.180257   \n",
       "125  1.084870                     0.441801  0.208612                 3.360722   \n",
       "\n",
       "     0_Root mean square  0_Skewness  0_Standard deviation  0_Variance  \\\n",
       "0              0.985979   -0.142603              0.005424    0.000029   \n",
       "1              0.993679    0.011680              0.005702    0.000033   \n",
       "2              0.988712   -0.111200              0.008181    0.000067   \n",
       "3              1.000294    0.156119              0.006734    0.000045   \n",
       "4              1.002038    0.212347              0.008309    0.000069   \n",
       "..                  ...         ...                   ...         ...   \n",
       "121            1.198800    1.194707              0.423434    0.179297   \n",
       "122            1.349776    1.084083              0.643145    0.413635   \n",
       "123            1.431873    1.196077              0.771283    0.594877   \n",
       "124            1.225149    1.382723              0.500313    0.250313   \n",
       "125            1.352834    0.613972              0.625170    0.390837   \n",
       "\n",
       "             Activity  \n",
       "0              LAYING  \n",
       "1              LAYING  \n",
       "2              LAYING  \n",
       "3              LAYING  \n",
       "4              LAYING  \n",
       "..                ...  \n",
       "121  WALKING_UPSTAIRS  \n",
       "122  WALKING_UPSTAIRS  \n",
       "123  WALKING_UPSTAIRS  \n",
       "124  WALKING_UPSTAIRS  \n",
       "125  WALKING_UPSTAIRS  \n",
       "\n",
       "[126 rows x 41 columns]"
      ]
     },
     "metadata": {},
     "output_type": "display_data"
    }
   ],
   "source": [
    "feature_df['Activity']=master_dataset.iloc[:, -1]\n",
    "display(feature_df)"
   ]
  },
  {
   "cell_type": "code",
   "execution_count": 367,
   "metadata": {},
   "outputs": [],
   "source": [
    "scaler_new = StandardScaler()\n",
    "feature_data_df = feature_df.iloc[:, :-1]\n",
    "scaled_feature_data = scaler_new.fit_transform(feature_data_df)\n",
    "principal_new=PCA(n_components=2)\n",
    "principal_new.fit(scaled_feature_data)\n",
    "reduced_feature_data=principal_new.transform(scaled_feature_data)"
   ]
  },
  {
   "cell_type": "code",
   "execution_count": 368,
   "metadata": {},
   "outputs": [
    {
     "data": {
      "image/png": "[encoded data removed]",
      "text/plain": [
       "<Figure size 1000x1000 with 1 Axes>"
      ]
     },
     "metadata": {},
     "output_type": "display_data"
    }
   ],
   "source": [
    "labels = master_dataset['activity']\n",
    "unique_labels = np.unique(labels)\n",
    "cmap = plt.get_cmap('viridis', len(unique_labels))\n",
    "plt.figure(figsize=(10, 10))\n",
    "for i, label in enumerate(unique_labels):\n",
    "    plt.scatter(reduced_feature_data[:, 0][labels==label], reduced_feature_data[:, 1][labels==label], color=cmap(i), label = label)\n",
    "\n",
    "plt.legend(title='Classes')\n",
    "plt.show()"
   ]
  },
  {
   "cell_type": "code",
   "execution_count": 369,
   "metadata": {},
   "outputs": [],
   "source": [
    "dataframeX = pd.read_csv(r'../HAR/UCI HAR Dataset/train/X_train.txt',delim_whitespace=True,header=None)\n",
    "dataframeY = pd.read_csv(r'../HAR/UCI HAR Dataset/train/y_train.txt',delim_whitespace=True,header=None)\n",
    "feature_labels = pd.read_csv(r'../HAR/UCI HAR Dataset/features.txt',delim_whitespace=True,header=None)"
   ]
  },
  {
   "cell_type": "code",
   "execution_count": 370,
   "metadata": {},
   "outputs": [
    {
     "data": {
      "text/plain": [
       "array([[-3.85616746, -0.847524  ],\n",
       "       [-3.79437051, -0.7516756 ],\n",
       "       [-3.81179474, -0.74696154],\n",
       "       [-3.70419159, -0.19126337],\n",
       "       [-3.67133118, -0.06176595],\n",
       "       [-3.64392939,  0.61269289],\n",
       "       [-3.56143129,  0.66171209],\n",
       "       [-3.72392954,  0.72705514],\n",
       "       [-3.66188966,  0.70457388],\n",
       "       [-3.67387207,  0.63154726],\n",
       "       [-3.29157977, -0.17590567],\n",
       "       [-3.57854295,  0.66047593],\n",
       "       [-3.67642124,  0.73812745],\n",
       "       [-3.70833146,  0.76118002],\n",
       "       [-3.63021635,  0.65591407],\n",
       "       [-3.8194712 , -0.70980015],\n",
       "       [-3.47843601,  0.46552131],\n",
       "       [-3.64560757,  0.43811264],\n",
       "       [-3.72445145,  0.48121596],\n",
       "       [-3.77860268, -0.4410818 ],\n",
       "       [-3.7361021 , -0.54606211],\n",
       "       [-3.30841931, -0.30309125],\n",
       "       [-3.59777371,  0.60195864],\n",
       "       [-3.36005875,  0.47662394],\n",
       "       [-3.64541992,  0.54419425],\n",
       "       [-3.1505296 ,  0.39325141],\n",
       "       [-3.49717045,  0.57411976],\n",
       "       [-3.68207257,  0.56991121],\n",
       "       [-3.51121606,  0.63952695],\n",
       "       [-3.77478981,  0.88728009],\n",
       "       [-4.02371505,  1.7932241 ],\n",
       "       [-3.69530586,  0.67229126],\n",
       "       [-3.23983294,  0.0641542 ],\n",
       "       [-3.67311283,  0.66855192],\n",
       "       [-3.59998272,  0.70021967],\n",
       "       [-3.56017483,  0.62407978],\n",
       "       [-3.65431683,  0.52388408],\n",
       "       [-3.45529042,  0.58159977],\n",
       "       [-3.698529  , -0.59059097],\n",
       "       [-3.61046056,  0.69568014],\n",
       "       [-3.51965614,  0.67788817],\n",
       "       [-3.48557917, -0.57622112],\n",
       "       [-3.52669919,  0.70481838],\n",
       "       [-3.51461958,  0.67536398],\n",
       "       [-3.39220433,  0.82209742],\n",
       "       [-3.52139306,  0.68479468],\n",
       "       [-3.49443616,  0.64242395],\n",
       "       [-3.45081173,  0.60775215],\n",
       "       [-3.4871153 ,  0.71758657],\n",
       "       [-3.51753907,  1.03859589],\n",
       "       [-3.47386311,  0.62505177],\n",
       "       [-3.66008501,  0.92743219],\n",
       "       [-3.79207073,  1.25683377],\n",
       "       [-3.66559926,  1.04206063],\n",
       "       [-3.51777069,  0.70853194],\n",
       "       [-3.74475353,  1.28734997],\n",
       "       [-3.61074542,  0.76108592],\n",
       "       [-3.1752867 ,  0.56616244],\n",
       "       [-3.51115345,  0.92638169],\n",
       "       [-3.3939862 ,  0.61627619],\n",
       "       [-3.51611725,  0.69908498],\n",
       "       [-3.55669723,  0.80333685],\n",
       "       [-3.28401182,  0.41600232],\n",
       "       [ 2.41782721, -1.04680693],\n",
       "       [ 0.41830564, -1.20578265],\n",
       "       [ 0.71159875, -1.35890322],\n",
       "       [ 1.47184595, -1.11683911],\n",
       "       [ 1.40354648, -1.3880108 ],\n",
       "       [ 1.38909432, -1.37230876],\n",
       "       [ 3.43332393, -1.21720223],\n",
       "       [ 1.85533725, -1.33561829],\n",
       "       [ 4.41529569, -0.41010234],\n",
       "       [ 1.84355936, -1.35904675],\n",
       "       [-0.52595904, -1.24945793],\n",
       "       [ 1.36407028, -1.31994591],\n",
       "       [ 1.7405633 , -1.55990013],\n",
       "       [ 0.69472205, -1.28039423],\n",
       "       [ 3.09902977, -0.78625113],\n",
       "       [ 1.54227697, -1.56417325],\n",
       "       [ 0.76503028, -1.11576   ],\n",
       "       [ 0.18647743, -1.35034513],\n",
       "       [ 1.14007238, -1.40200052],\n",
       "       [ 2.03457598, -1.66726808],\n",
       "       [ 2.50998075, -1.27298499],\n",
       "       [ 5.07988652, -1.1913197 ],\n",
       "       [ 7.76898356,  1.76546336],\n",
       "       [ 6.55201602, -0.60663341],\n",
       "       [ 9.40554189,  4.23877364],\n",
       "       [ 6.82996983,  0.01488835],\n",
       "       [ 6.69321424,  0.53713258],\n",
       "       [10.59353781,  4.82254251],\n",
       "       [ 8.51844579,  0.16175629],\n",
       "       [ 9.48711162,  4.74524849],\n",
       "       [ 4.47077641,  0.0888506 ],\n",
       "       [ 3.40622497, -1.35111907],\n",
       "       [ 7.64100144,  0.56339483],\n",
       "       [ 7.08766419,  0.66336827],\n",
       "       [ 5.16267785, -0.94015238],\n",
       "       [ 5.00712465, -0.88237501],\n",
       "       [ 3.48533216, -1.25948915],\n",
       "       [ 3.2865135 , -1.56927077],\n",
       "       [ 6.90449258,  0.24081092],\n",
       "       [10.00535828,  4.93628062],\n",
       "       [ 4.49669364, -1.72165026],\n",
       "       [ 5.66777758,  0.29123764],\n",
       "       [ 1.55403467, -0.98955992],\n",
       "       [ 2.81619162, -1.15337157],\n",
       "       [ 3.17161897, -1.08291563],\n",
       "       [ 4.65126026, -0.22601584],\n",
       "       [ 1.69233286, -1.23764596],\n",
       "       [ 4.14943846,  0.73566358],\n",
       "       [ 3.35965976,  0.83670017],\n",
       "       [ 2.1778003 , -1.04974841],\n",
       "       [ 5.44652299,  0.81226568],\n",
       "       [ 1.84287761, -1.0198416 ],\n",
       "       [-0.13355748, -1.2861463 ],\n",
       "       [ 2.37691075, -0.51244135],\n",
       "       [ 2.43261639, -1.36705012],\n",
       "       [ 1.99210757, -1.6783311 ],\n",
       "       [ 3.09652847, -1.3741514 ],\n",
       "       [ 1.16212276, -1.12111947],\n",
       "       [ 0.4426202 , -1.33665994],\n",
       "       [ 2.967301  , -0.89739053],\n",
       "       [ 4.62498124, -0.94612568],\n",
       "       [ 1.02346592, -1.48950828],\n",
       "       [ 3.41328198, -0.59889044]])"
      ]
     },
     "execution_count": 370,
     "metadata": {},
     "output_type": "execute_result"
    }
   ],
   "source": [
    "scaler_new = StandardScaler()\n",
    "scaled_feature_data_UCI = scaler_new.fit_transform(dataframeX)\n",
    "principal_new=PCA(n_components=2)\n",
    "principal_new.fit(scaled_feature_data_UCI)\n",
    "reduced_feature_data_UCI =principal_new.transform(scaled_feature_data_UCI)\n",
    "reduced_feature_data "
   ]
  },
  {
   "cell_type": "code",
   "execution_count": 371,
   "metadata": {},
   "outputs": [
    {
     "data": {
      "image/png": "[encoded data removed]",
      "text/plain": [
       "<Figure size 1000x1000 with 1 Axes>"
      ]
     },
     "metadata": {},
     "output_type": "display_data"
    }
   ],
   "source": [
    "labels_num = dataframeY.iloc[:,0].to_numpy()\n",
    "unique_labels = np.unique(labels_num)\n",
    "classes = {1 : \"WALKING\",2 :\"WALKING_UPSTAIRS\",3 : \"WALKING_DOWNSTAIRS\",4 : \"SITTING\",5 : \"STANDING\",6 : \"LAYING\"}\n",
    "cmap = plt.get_cmap('viridis', len(unique_labels))\n",
    "plt.figure(figsize=(10, 10))\n",
    "for i, label in enumerate(unique_labels):\n",
    "    plt.scatter(reduced_feature_data_UCI[:, 0][labels_num==label], reduced_feature_data_UCI[:, 1][labels_num==label], color=cmap(i), label = classes[label])\n",
    "\n",
    "plt.legend(title='Classes')\n",
    "plt.show()"
   ]
  },
  {
   "cell_type": "code",
   "execution_count": null,
   "metadata": {},
   "outputs": [],
   "source": []
  }
 ],
 "metadata": {
  "kernelspec": {
   "display_name": "Python 3",
   "language": "python",
   "name": "python3"
  },
  "language_info": {
   "codemirror_mode": {
    "name": "ipython",
    "version": 3
   },
   "file_extension": ".py",
   "mimetype": "text/x-python",
   "name": "python",
   "nbconvert_exporter": "python",
   "pygments_lexer": "ipython3",
   "version": "3.12.1"
  }
 },
 "nbformat": 4,
 "nbformat_minor": 2
}

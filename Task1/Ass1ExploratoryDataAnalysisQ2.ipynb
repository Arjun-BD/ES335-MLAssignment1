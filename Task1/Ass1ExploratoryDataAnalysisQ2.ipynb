{
 "cells": [
  {
   "cell_type": "markdown",
   "metadata": {},
   "source": [
    "Let us pick a subject, lets say Subject 3 and look at the variance of his linear acceleration over the timeseries to find if a machine learning model is actually necesssary."
   ]
  },
  {
   "cell_type": "code",
   "execution_count": 1,
   "metadata": {},
   "outputs": [],
   "source": [
    "import pandas as pd\n",
    "import numpy as np\n",
    "import matplotlib.pyplot as plt"
   ]
  },
  {
   "cell_type": "code",
   "execution_count": 35,
   "metadata": {},
   "outputs": [
    {
     "data": {
      "text/html": [
       "<div>\n",
       "<style scoped>\n",
       "    .dataframe tbody tr th:only-of-type {\n",
       "        vertical-align: middle;\n",
       "    }\n",
       "\n",
       "    .dataframe tbody tr th {\n",
       "        vertical-align: top;\n",
       "    }\n",
       "\n",
       "    .dataframe thead th {\n",
       "        text-align: right;\n",
       "    }\n",
       "</style>\n",
       "<table border=\"1\" class=\"dataframe\">\n",
       "  <thead>\n",
       "    <tr style=\"text-align: right;\">\n",
       "      <th></th>\n",
       "      <th>Acitivity</th>\n",
       "      <th>Linear Acceleration variance</th>\n",
       "    </tr>\n",
       "  </thead>\n",
       "  <tbody>\n",
       "    <tr>\n",
       "      <th>0</th>\n",
       "      <td>SITTING</td>\n",
       "      <td>0.000719</td>\n",
       "    </tr>\n",
       "    <tr>\n",
       "      <th>1</th>\n",
       "      <td>STANDING</td>\n",
       "      <td>0.001219</td>\n",
       "    </tr>\n",
       "    <tr>\n",
       "      <th>2</th>\n",
       "      <td>LAYING</td>\n",
       "      <td>0.000121</td>\n",
       "    </tr>\n",
       "    <tr>\n",
       "      <th>3</th>\n",
       "      <td>WALKING</td>\n",
       "      <td>0.243403</td>\n",
       "    </tr>\n",
       "    <tr>\n",
       "      <th>4</th>\n",
       "      <td>WALKING_DOWNSTAIRS</td>\n",
       "      <td>0.461655</td>\n",
       "    </tr>\n",
       "    <tr>\n",
       "      <th>5</th>\n",
       "      <td>WALKING_UPSTAIRS</td>\n",
       "      <td>0.220199</td>\n",
       "    </tr>\n",
       "  </tbody>\n",
       "</table>\n",
       "</div>"
      ],
      "text/plain": [
       "            Acitivity  Linear Acceleration variance\n",
       "0             SITTING                      0.000719\n",
       "1            STANDING                      0.001219\n",
       "2              LAYING                      0.000121\n",
       "3             WALKING                      0.243403\n",
       "4  WALKING_DOWNSTAIRS                      0.461655\n",
       "5    WALKING_UPSTAIRS                      0.220199"
      ]
     },
     "execution_count": 35,
     "metadata": {},
     "output_type": "execute_result"
    }
   ],
   "source": [
    "def mean_linear_acc(activities):\n",
    "    return_df = pd.DataFrame(columns = [\"Acitivity\", \"Linear Acceleration variance\"])\n",
    "    for i in activities:\n",
    "        temp = pd.read_csv(rf\"../Combined/Train/{i}/Subject_3.csv\")\n",
    "        temp[\"linear_acc\"] = temp[\"accx\"] **2 + temp[\"accy\"] ** 2 + temp[\"accz\"]** 2\n",
    "        return_df.loc[len(return_df)] = [i, temp[\"linear_acc\"][100:601].var()] \n",
    "\n",
    "    return return_df\n",
    "\n",
    "mean_linear_acc([\"SITTING\", \"STANDING\", \"LAYING\", \"WALKING\", \"WALKING_DOWNSTAIRS\", \"WALKING_UPSTAIRS\"])"
   ]
  },
  {
   "cell_type": "markdown",
   "metadata": {},
   "source": [
    "We can see that the static activities and dynamic activities can easily be classified through some common threshold and there is no need to train a machine learning model for this task."
   ]
  }
 ],
 "metadata": {
  "kernelspec": {
   "display_name": "Python 3",
   "language": "python",
   "name": "python3"
  },
  "language_info": {
   "codemirror_mode": {
    "name": "ipython",
    "version": 3
   },
   "file_extension": ".py",
   "mimetype": "text/x-python",
   "name": "python",
   "nbconvert_exporter": "python",
   "pygments_lexer": "ipython3",
   "version": "3.12.4"
  }
 },
 "nbformat": 4,
 "nbformat_minor": 2
}
